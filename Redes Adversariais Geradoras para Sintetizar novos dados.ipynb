{
 "cells": [
  {
   "cell_type": "markdown",
   "metadata": {},
   "source": [
    "<h1 align=center>Redes Adversariais Geradoras para Sintetizar Novos Dados</h1>\n",
    "\n",
    "<p align=center><img src=https://advancedinstitute.ai/wp-content/uploads/2020/08/real_fake.png width=500></p>\n",
    "\n",
    "Anteriomente, focamos em redes neurais recorrentes (RNN) para modelagem de sequências. Neste capítulo, exploraremos as redes generativas de adversários (GANs) e veremos sua aplicação na síntese de novas amostras de dados. As GANs são consideradas o avanço mais importante no aprendizado profundo, permitindo que os computadores gerem novos dados (como novas imagens).\n",
    "Neste capítulo, abordaremos os seguintes tópicos:\n",
    "• Apresentando modelos generativos para sintetizar novos dados\n",
    "• Autoencoders, autoencoders variacionais (VAEs) e seu relacionamento com GANs\n",
    "• Entendendo os blocos de construção das GANs\n",
    "• Implementação de um modelo GAN simples para gerar dígitos manuscritos\n",
    "• Noções básicas sobre convolução transposta e normalização de lote (BatchNorm ou BN)\n",
    "• Melhorar GANs: GANs convolucionais profundos e GANs usando a distância de Wasserstein"
   ]
  }
 ],
 "metadata": {
  "interpreter": {
   "hash": "3c198a0bf143da720db8a1ed2fdc43342371f98b364fdf2ef3c0c72d17a471d7"
  },
  "kernelspec": {
   "display_name": "Python 3.9.5 64-bit",
   "language": "python",
   "name": "python3"
  },
  "language_info": {
   "codemirror_mode": {
    "name": "ipython",
    "version": 3
   },
   "file_extension": ".py",
   "mimetype": "text/x-python",
   "name": "python",
   "nbconvert_exporter": "python",
   "pygments_lexer": "ipython3",
   "version": "3.9.5"
  },
  "orig_nbformat": 4
 },
 "nbformat": 4,
 "nbformat_minor": 2
}
