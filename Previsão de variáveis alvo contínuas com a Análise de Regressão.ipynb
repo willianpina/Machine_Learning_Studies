{
 "cells": [
  {
   "cell_type": "markdown",
   "metadata": {},
   "source": [
    "<h1 p align='center'>Previsão de variáveis alvo contínuas com a Análise de Regressão</h1>\n",
    "<p align='center'><img src=https://www.tibco.com/sites/tibco/files/media_entity/2020-09/regression-analysis-diagram.svg></p>\n",
    "\n",
    "Modelos de regressão são usados para prever variáveis alvo em escala contínua, o que os torna atraentes para abordar muitas questões da ciência. Eles também têm aplicações na indústria, como entender as relações entre variáveis, avaliar tendências ou fazer previsões. Um exemplo é prever as vendas de uma empresa nos próximos meses."
   ]
  },
  {
   "cell_type": "markdown",
   "metadata": {},
   "source": [
    "\\begin{align*}\n",
    "y = x_{0} + w_{1}x\n",
    "\\end{align*}"
   ]
  }
 ],
 "metadata": {
  "interpreter": {
   "hash": "f8bbe703e4409461e5c1796f0c401e26e62f32801f1a5b19455b89c31c613fbe"
  },
  "kernelspec": {
   "display_name": "Python 3.9.7 ('base')",
   "language": "python",
   "name": "python3"
  },
  "language_info": {
   "codemirror_mode": {
    "name": "ipython",
    "version": 3
   },
   "file_extension": ".py",
   "mimetype": "text/x-python",
   "name": "python",
   "nbconvert_exporter": "python",
   "pygments_lexer": "ipython3",
   "version": "3.9.5"
  },
  "orig_nbformat": 4
 },
 "nbformat": 4,
 "nbformat_minor": 2
}
