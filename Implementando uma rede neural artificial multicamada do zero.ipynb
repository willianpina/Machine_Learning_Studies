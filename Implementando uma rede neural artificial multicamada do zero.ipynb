{
 "cells": [
  {
   "cell_type": "markdown",
   "metadata": {},
   "source": [
    "<h1 align='center'>Implementando uma rede neural artificial multicamada do zero</h1>\n",
    "<p align=center><img src=https://miro.medium.com/max/1400/1*BIpRgx5FsEMhr1k2EqBKFg.gif width=500></p>\n",
    "\n",
    "Como você deve saber, o aprendizado profundo está recebendo muita atenção da imprensa e é, sem dúvida, o tópico mais quente no campo do aprendizado de máquina. O aprendizado profundo pode ser entendido como um subcampo do aprendizado de máquina que se preocupa em treinar redes neurais artificiais (ANN) com muitas camadas de forma eficiente. Agora, você aprenderá os conceitos básicos de ANN para estar bem equipado para os assuntos seguintes, que apresentarão bibliotecas avançadas de aprendizado profundo baseadas em *Python* e arquiteturas de redes neurais profundas (DNN) que são particularmente adequadas para imagens e análises de texto.\n",
    "\n",
    "### Modelando funções complexas com redes neurais artificiais\n",
    "\n",
    "Os neurônios artificiais representam os blocos de construção das ANN multicamadas que discutiremos mais a frente.\n",
    "\n",
    "O conceito básico por trás das ANN foi construído com base em hipóteses e modelos de como o cérebro humano funciona para resolver problemas complexos. Embora as ANN tenham ganhado muita popularidade nos últimos anos, os primeiros estudos de ANN remontam à década de 1940, quando *Warren McCulloch* e *Walter Pitts* descreveram pela primeira vez como os neurônios poderiam funcionar. No entanto, nas décadas que se seguiram à primeira implementação do **McCulloch -Modelo de neurônios Pitts** - o perceptron de *Rosenblatt* na década de 1950 - muitos pesquisadores e praticantes de aprendizado de máquina começaram lentamente a perder o interesse em ANN, já que ninguém tinha uma boa solução para treinar uma rede neural com várias camadas. Eventualmente, o interesse em ANN foi reacendido em 1986, quando *D.E. Rumelhart*, *G. E. Hinton* e *R. J. Williams* estiveram envolvidos na \"redescoberta\" e popularização do algoritmo de retropropagação para treinar ANN com mais eficiência, que discutiremos com mais detalhes posteriormente.\n",
    "\n",
    "No entanto, as ANN são mais populares hoje do que nunca, graças aos muitos avanços importantes que foram feitos na década anterior, que resultaram no que agora chamamos de algoritmos e arquiteturas de aprendizado profundo – ANN compostos de muitas camadas. As ANN são um tema quente não apenas na pesquisa acadêmica, mas também em grandes empresas de tecnologia, como *Facebook*, *Microsoft*, *Amazon*, *Uber* e *Google*, que investem pesadamente em ANN artificiais e pesquisa de aprendizado profundo.\n",
    "\n",
    "A partir de hoje, ANN complexas e alimentadas por algoritmos de aprendizado profundo são considerados as soluções de última geração para a resolução de problemas complexos, como reconhecimento de imagem e voz. Exemplos populares de produtos em nossa vida cotidiana que são alimentados por aprendizado profundo são a pesquisa de imagens do *Google* e o *Google Translate* – um aplicativo para smartphones que pode reconhecer automaticamente texto em imagens para tradução em tempo real em mais de 20 idiomas."
   ]
  }
 ],
 "metadata": {
  "interpreter": {
   "hash": "f8bbe703e4409461e5c1796f0c401e26e62f32801f1a5b19455b89c31c613fbe"
  },
  "kernelspec": {
   "display_name": "Python 3.9.7 ('base')",
   "language": "python",
   "name": "python3"
  },
  "language_info": {
   "name": "python",
   "version": "3.9.5"
  },
  "orig_nbformat": 4
 },
 "nbformat": 4,
 "nbformat_minor": 2
}
