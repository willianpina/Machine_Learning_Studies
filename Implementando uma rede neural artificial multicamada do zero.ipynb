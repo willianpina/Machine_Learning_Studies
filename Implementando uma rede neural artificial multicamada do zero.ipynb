{
 "cells": [
  {
   "cell_type": "markdown",
   "metadata": {},
   "source": [
    "<h1 align='center'>Implementando uma rede neural artificial multicamada do zero</h1>\n",
    "<p align=center><img src=https://miro.medium.com/max/1400/1*BIpRgx5FsEMhr1k2EqBKFg.gif width=500></p>\n",
    "\n",
    "Como você deve saber, o aprendizado profundo está recebendo muita atenção da imprensa e é, sem dúvida, o tópico mais quente no campo do aprendizado de máquina. O aprendizado profundo pode ser entendido como um subcampo do aprendizado de máquina que se preocupa em treinar redes neurais artificiais (ANN) com muitas camadas de forma eficiente. Agora, você aprenderá os conceitos básicos de ANN para estar bem equipado para os assuntos seguintes, que apresentarão bibliotecas avançadas de aprendizado profundo baseadas em *Python* e arquiteturas de redes neurais profundas (DNN) que são particularmente adequadas para imagens e análises de texto.\n",
    "\n",
    "### Modelando funções complexas com redes neurais artificiais\n",
    "\n",
    "Os neurônios artificiais representam os blocos de construção das ANN multicamadas que discutiremos mais a frente.\n",
    "\n",
    "O conceito básico por trás das ANN foi construído com base em hipóteses e modelos de como o cérebro humano funciona para resolver problemas complexos. Embora as ANN tenham ganhado muita popularidade nos últimos anos, os primeiros estudos de ANN remontam à década de 1940, quando *Warren McCulloch* e *Walter Pitts* descreveram pela primeira vez como os neurônios poderiam funcionar. No entanto, nas décadas que se seguiram à primeira implementação do **McCulloch -Modelo de neurônios Pitts** - o perceptron de *Rosenblatt* na década de 1950 - muitos pesquisadores e praticantes de aprendizado de máquina começaram lentamente a perder o interesse em ANN, já que ninguém tinha uma boa solução para treinar uma rede neural com várias camadas. Eventualmente, o interesse em ANN foi reacendido em 1986, quando *D.E. Rumelhart*, *G. E. Hinton* e *R. J. Williams* estiveram envolvidos na \"redescoberta\" e popularização do algoritmo de retropropagação para treinar ANN com mais eficiência, que discutiremos com mais detalhes posteriormente.\n",
    "\n",
    "No entanto, as ANN são mais populares hoje do que nunca, graças aos muitos avanços importantes que foram feitos na década anterior, que resultaram no que agora chamamos de algoritmos e arquiteturas de aprendizado profundo – ANN compostos de muitas camadas. As ANN são um tema quente não apenas na pesquisa acadêmica, mas também em grandes empresas de tecnologia, como *Facebook*, *Microsoft*, *Amazon*, *Uber* e *Google*, que investem pesadamente em ANN artificiais e pesquisa de aprendizado profundo.\n",
    "\n",
    "A partir de hoje, ANN complexas e alimentadas por algoritmos de aprendizado profundo são considerados as soluções de última geração para a resolução de problemas complexos, como reconhecimento de imagem e voz. Exemplos populares de produtos em nossa vida cotidiana que são alimentados por aprendizado profundo são a pesquisa de imagens do *Google* e o *Google Translate* – um aplicativo para smartphones que pode reconhecer automaticamente texto em imagens para tradução em tempo real em mais de 20 idiomas.\n",
    "\n",
    "\n",
    "### Apresentando a arquitetura de rede neural multicamada\n",
    "Você aprenderá como conectar vários neurônios únicos a um Rede Neural *feedforward* multicamada; esse tipo especial de rede totalmente conectada também é chamado de **MLP**.\n",
    "\n",
    "<p align=center><img src=https://www.knime.com/sites/default/files/3-intro-deep-neural-networks.png width=500></p>\n",
    "\n",
    "O **MLP** representado na figura anterior tem uma camada de entrada, uma camada oculta e uma camada de saída. As unidades na camada oculta estão totalmente conectadas à camada de entrada e a camada de saída está totalmente conectada à camada oculta. Se essa rede tiver mais de uma camada oculta, também a chamamos de **Rede Neural Artificial profunda**.\n",
    "\n",
    ">#### Adicionando camadas ocultas adicionais\n",
    "> Podemos adicionar qualquer número de camadas ocultas ao **MLP** para criar arquiteturas de rede mais profundas. Na prática, podemos pensar no número de camadas e unidades em uma RN como hiperparâmetros adicionais que queremos otimizar para uma determinada tarefa de problema usando a técnica de validação cruzada.\n",
    "> No entanto, os gradientes de erro, que calcularemos posteriormente via retropropagação, se tornarão cada vez menores à medida que mais camadas forem adicionadas a uma rede. Esse problema de **gradiente de fuga** torna o aprendizado do modelo mais desafiador. Portanto, algoritmos especiais foram desenvolvidos para ajudar a treinar essas estruturas DNN; isso é conhecido como **Aprendizagem Profunda**."
   ]
  },
  {
   "cell_type": "code",
   "execution_count": 63,
   "metadata": {},
   "outputs": [],
   "source": [
    "# Carregando MNIST usando o scikit-learn\n",
    "from sklearn.datasets import fetch_openml\n",
    "from sklearn.model_selection import train_test_split\n",
    "from sklearn.neural_network import MLPClassifier\n",
    "from sklearn.metrics import accuracy_score\n",
    "\n",
    "X, y = fetch_openml('mnist_784', version=1, return_X_y=True)\n",
    "y = y.astype(int)\n",
    "X = ((X / 255.) - .5) * 2\n",
    "X_train, X_test, y_train, y_test = train_test_split(X, y, test_size=10000, random_state=123, stratify=y)"
   ]
  },
  {
   "cell_type": "code",
   "execution_count": 65,
   "metadata": {},
   "outputs": [],
   "source": [
    "clf = MLPClassifier(random_state=1, \n",
    "                    max_iter=300,\n",
    "                    hidden_layer_sizes=100,\n",
    "                    shuffle=True,\n",
    "                    batch_size=100,\n",
    "                    learning_rate_init=0.0005,\n",
    "                    alpha=0.01,\n",
    "                    validation_fraction=0.2,\n",
    "                    early_stopping=False).fit(X_train, y_train)"
   ]
  },
  {
   "cell_type": "code",
   "execution_count": null,
   "metadata": {},
   "outputs": [
    {
     "data": {
      "image/png": "[encoded data removed]",
      "text/plain": [
       "<Figure size 864x432 with 1 Axes>"
      ]
     },
     "metadata": {
      "needs_background": "light"
     },
     "output_type": "display_data"
    }
   ],
   "source": [
    "import matplotlib.pyplot as plt\n",
    "plt.figure(figsize=(12,6))\n",
    "plt.plot(clf.loss_curve_)\n",
    "\n",
    "plt.ylabel('Cost')\n",
    "plt.xlabel('Epochs')\n",
    "plt.show()"
   ]
  },
  {
   "cell_type": "code",
   "execution_count": null,
   "metadata": {},
   "outputs": [
    {
     "data": {
      "text/plain": [
       "array([59947, 37331, 12263, 35646, 37099, 28732,  5102, 11116,  9842,\n",
       "       21046, 55948,  7452, 15662, 18453, 52333, 59210, 47667, 51158,\n",
       "       35329, 28524,   159, 27097, 55171,  7286, 21888,  5494,  2293,\n",
       "       56565,  8524, 14176, 26592,  1045, 14021,  5393, 36335, 48440,\n",
       "       18620, 26488, 47416, 18482, 49720, 12492, 15515, 52393, 47304,\n",
       "        6332, 50952, 51937, 32041, 36229, 47231, 34204, 22297, 32344,\n",
       "       15533, 40085, 43217, 18153, 18872, 45037, 30379, 21352,  4997,\n",
       "       21027, 49568, 24709, 18803,  9607, 12519, 12076,  9921, 36912,\n",
       "       13937, 21974, 39608, 14496,  7151, 40124,  9722, 26240, 17140,\n",
       "       59901, 17598, 49118,   506, 35808, 54488, 13514, 46060,  5790,\n",
       "       34526, 47012, 39371,  3694, 56983, 11510, 33321, 27130, 50879,\n",
       "       41320, 51594, 45146,  6502,  9194,  7515, 24241, 58926, 14524,\n",
       "        7967, 34089, 10370, 26434, 33331, 14149, 49921, 30754, 52323,\n",
       "       59980, 20151, 51733,  2383, 16903, 21057, 23775, 16609, 15775,\n",
       "        1028, 15078])"
      ]
     },
     "execution_count": 62,
     "metadata": {},
     "output_type": "execute_result"
    }
   ],
   "source": [
    "from sklearn.model_selection import validation_curve\n"
   ]
  }
 ],
 "metadata": {
  "interpreter": {
   "hash": "1870f1194fb5b3d43b6d32e845741389586dbe9c4e1e45e17e0f6602cfe22778"
  },
  "kernelspec": {
   "display_name": "Python 3.9.7 ('base')",
   "language": "python",
   "name": "python3"
  },
  "language_info": {
   "codemirror_mode": {
    "name": "ipython",
    "version": 3
   },
   "file_extension": ".py",
   "mimetype": "text/x-python",
   "name": "python",
   "nbconvert_exporter": "python",
   "pygments_lexer": "ipython3",
   "version": "3.9.7"
  },
  "orig_nbformat": 4
 },
 "nbformat": 4,
 "nbformat_minor": 2
}
