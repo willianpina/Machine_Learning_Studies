{
 "cells": [
  {
   "cell_type": "markdown",
   "metadata": {},
   "source": [
    "<h1 align='center'><b>Machine Learning Algorithms for Classification</b></h1>\n",
    "<p align='center'><img src=https://estatsite.com.br/wp-content/uploads/2021/06/programming-code-coding-or-hacker-background-programming-code-icon-made-with-binary-code-digital-binary-data-and-streaming-digital-code-vector-1200x675.jpg heigth='350' width='600'></p>\n",
    "\n",
    "<p align='justify'>Nós faremos uso de 2 (dois) dos primeiros algoritmos de aprendizado de máquina descritos por algoritmos para classificação: o perceptron e os neurônios lineares adaptativos. Vamos implementar um perceptron passo a passo em Python e treiná-lo para classificar diferentes espécies de flores no conjunto de dados Iris, muito famoso por sinal. Isso nos ajudará a entender o conceito de algoritmos de aprendizado de máquina para classificação e como eles podem ser implementados com eficiência em Python.</p>\n"
   ]
  }
 ],
 "metadata": {
  "interpreter": {
   "hash": "f8bbe703e4409461e5c1796f0c401e26e62f32801f1a5b19455b89c31c613fbe"
  },
  "kernelspec": {
   "display_name": "Python 3.9.7 ('base')",
   "language": "python",
   "name": "python3"
  },
  "language_info": {
   "name": "python",
   "version": "3.9.5"
  },
  "orig_nbformat": 4
 },
 "nbformat": 4,
 "nbformat_minor": 2
}
