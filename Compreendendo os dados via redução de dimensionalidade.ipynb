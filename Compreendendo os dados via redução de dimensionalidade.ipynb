{
 "cells": [
  {
   "cell_type": "markdown",
   "metadata": {},
   "source": [
    "<h1 align='center'>Compreendendo os dados via redução de dimensionalidade</h1>\n",
    "\n",
    "<p align='center'><img src=https://hidden.brutalk.com/wp-content/uploads/2021/02/Introduccion-a-la-reduccion-de-dimensionalidad-para-el-aprendizaje-automatico.jpg   width=\"400\" height=\"300\"></p>\n",
    "\n",
    "<p align='justify'>Vamos conversar sobre três técnicas fundamentais que o ajudarão a resumir o conteúdo de informações de um conjunto de dados, transformando-o em um novo subespaço de características de menor dimensionalidade do que o original. A compactação de dados é um tópico importante no aprendizado de máquina e nos ajuda a armazenar e analisar as quantidades crescentes de dados que são produzidos e coletados na era moderna da tecnologia.</p>"
   ]
  },
  {
   "cell_type": "markdown",
   "metadata": {},
   "source": [
    "<h3>Redução de dimensionalidade não supervisionada por meio dae Análise de Componentes Principais(PCA)</h3>\n",
    "\n",
    "<p align='justify'>Semelhante à seleção de recursos, podemos usar diferentes técnicas de extração de recursos para reduzir o número de recursos em um conjunto de dados. A diferença entre a seleção de recursos e a extração de recursos é que, enquanto mantemos os recursos originais quando usamos algoritmos de seleção de recursos, como <b>seleção regressiva sequencial</b>, usamos a extração de recursos para transformar ou projetar os dados em um novo espaço de recursos.</p>\n",
    "\n",
    "<p align='justify'>No contexto da redução de dimensionalidade, a extração de características pode ser entendida como uma abordagem de compressão de dados com o <u>objetivo de manter a maior parte das informações relevantes</u>. Na prática, a extração de recursos não é usada apenas para melhorar o espaço de armazenamento ou a eficiência computacional do algoritmo de aprendizado, mas também pode melhorar o desempenho preditivo reduzindo a <u>maldição da dimensionalidade</u> - especialmente se estivermos trabalhando com modelos não regularizados.</p>\n"
   ]
  },
  {
   "cell_type": "markdown",
   "metadata": {},
   "source": []
  }
 ],
 "metadata": {
  "interpreter": {
   "hash": "f8bbe703e4409461e5c1796f0c401e26e62f32801f1a5b19455b89c31c613fbe"
  },
  "kernelspec": {
   "display_name": "Python 3.9.7 ('base')",
   "language": "python",
   "name": "python3"
  },
  "language_info": {
   "name": "python",
   "version": "3.9.7"
  },
  "orig_nbformat": 4
 },
 "nbformat": 4,
 "nbformat_minor": 2
}
