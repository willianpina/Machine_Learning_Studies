{
 "cells": [
  {
   "cell_type": "markdown",
   "metadata": {},
   "source": [
    "<h1 align='center'>Compreendendo os dados via redução de dimensionalidade</h1>\n",
    "\n",
    "<p align='center'><img src=https://hidden.brutalk.com/wp-content/uploads/2021/02/Introduccion-a-la-reduccion-de-dimensionalidad-para-el-aprendizaje-automatico.jpg   width=\"400\" height=\"300\"></p>\n",
    "\n",
    "<p align='justify'>Vamos conversar sobre três técnicas fundamentais que o ajudarão a resumir o conteúdo de informações de um conjunto de dados, transformando-o em um novo subespaço de características de menor dimensionalidade do que o original. A compactação de dados é um tópico importante no aprendizado de máquina e nos ajuda a armazenar e analisar as quantidades crescentes de dados que são produzidos e coletados na era moderna da tecnologia.</p>"
   ]
  },
  {
   "cell_type": "markdown",
   "metadata": {},
   "source": [
    "<h3>Redução de dimensionalidade não supervisionada por meio da Análise dos Componentes Principais(PCA)</h3>\n",
    "\n",
    "<p align='justify'>Semelhante à seleção de recursos, podemos usar diferentes técnicas de extração de recursos para reduzir o número de recursos em um conjunto de dados. A diferença entre a seleção de recursos e a extração de recursos é que, enquanto mantemos os recursos originais quando usamos algoritmos de seleção de recursos, como <b>seleção regressiva sequencial</b>, usamos a extração de recursos para transformar ou projetar os dados em um novo espaço de recursos.</p>\n",
    "\n",
    "<p align='justify'>No contexto da redução de dimensionalidade, a extração de características pode ser entendida como uma abordagem de compressão de dados com o <u>objetivo de manter a maior parte das informações relevantes</u>. Na prática, a extração de recursos não é usada apenas para melhorar o espaço de armazenamento ou a eficiência computacional do algoritmo de aprendizado, mas também pode melhorar o desempenho preditivo reduzindo a <u>maldição da dimensionalidade</u> - especialmente se estivermos trabalhando com modelos não regularizados.</p>\n"
   ]
  },
  {
   "cell_type": "markdown",
   "metadata": {},
   "source": [
    "<h4>Extraindo os componentes principais passo a passo</h4>\n",
    "<p align='justify'>Nesta subseção, abordaremos as quatro primeiras etapas de um PCA:</p>\n",
    "<ol>\n",
    "<li>Padronização dos dados.</li>\n",
    "<li>Construindo a matriz de covariância.</li>\n",
    "<li>Obtenção dos autovalores e autovetores da matriz de covariâncias.</li>\n",
    "<li>Classificando os autovalores por ordem decrescente para classificar os autovetores.</li>\n",
    "</ol>"
   ]
  },
  {
   "cell_type": "code",
   "execution_count": 52,
   "metadata": {},
   "outputs": [
    {
     "data": {
      "text/html": [
       "<div>\n",
       "<style scoped>\n",
       "    .dataframe tbody tr th:only-of-type {\n",
       "        vertical-align: middle;\n",
       "    }\n",
       "\n",
       "    .dataframe tbody tr th {\n",
       "        vertical-align: top;\n",
       "    }\n",
       "\n",
       "    .dataframe thead th {\n",
       "        text-align: right;\n",
       "    }\n",
       "</style>\n",
       "<table border=\"1\" class=\"dataframe\">\n",
       "  <thead>\n",
       "    <tr style=\"text-align: right;\">\n",
       "      <th></th>\n",
       "      <th>Class label</th>\n",
       "      <th>Alcohol</th>\n",
       "      <th>Malic acid</th>\n",
       "      <th>Ash</th>\n",
       "      <th>Alcalinity of ash</th>\n",
       "      <th>Magnesium</th>\n",
       "      <th>Total phenols</th>\n",
       "      <th>Flavanoids</th>\n",
       "      <th>Nonflavanoid phenols</th>\n",
       "      <th>Proanthocyanins</th>\n",
       "      <th>Color intensity</th>\n",
       "      <th>Hue</th>\n",
       "      <th>OD280/OD315 of diluted wines</th>\n",
       "      <th>Proline</th>\n",
       "    </tr>\n",
       "  </thead>\n",
       "  <tbody>\n",
       "    <tr>\n",
       "      <th>0</th>\n",
       "      <td>1</td>\n",
       "      <td>14.23</td>\n",
       "      <td>1.71</td>\n",
       "      <td>2.43</td>\n",
       "      <td>15.6</td>\n",
       "      <td>127</td>\n",
       "      <td>2.80</td>\n",
       "      <td>3.06</td>\n",
       "      <td>0.28</td>\n",
       "      <td>2.29</td>\n",
       "      <td>5.64</td>\n",
       "      <td>1.04</td>\n",
       "      <td>3.92</td>\n",
       "      <td>1065</td>\n",
       "    </tr>\n",
       "    <tr>\n",
       "      <th>1</th>\n",
       "      <td>1</td>\n",
       "      <td>13.20</td>\n",
       "      <td>1.78</td>\n",
       "      <td>2.14</td>\n",
       "      <td>11.2</td>\n",
       "      <td>100</td>\n",
       "      <td>2.65</td>\n",
       "      <td>2.76</td>\n",
       "      <td>0.26</td>\n",
       "      <td>1.28</td>\n",
       "      <td>4.38</td>\n",
       "      <td>1.05</td>\n",
       "      <td>3.40</td>\n",
       "      <td>1050</td>\n",
       "    </tr>\n",
       "    <tr>\n",
       "      <th>2</th>\n",
       "      <td>1</td>\n",
       "      <td>13.16</td>\n",
       "      <td>2.36</td>\n",
       "      <td>2.67</td>\n",
       "      <td>18.6</td>\n",
       "      <td>101</td>\n",
       "      <td>2.80</td>\n",
       "      <td>3.24</td>\n",
       "      <td>0.30</td>\n",
       "      <td>2.81</td>\n",
       "      <td>5.68</td>\n",
       "      <td>1.03</td>\n",
       "      <td>3.17</td>\n",
       "      <td>1185</td>\n",
       "    </tr>\n",
       "    <tr>\n",
       "      <th>3</th>\n",
       "      <td>1</td>\n",
       "      <td>14.37</td>\n",
       "      <td>1.95</td>\n",
       "      <td>2.50</td>\n",
       "      <td>16.8</td>\n",
       "      <td>113</td>\n",
       "      <td>3.85</td>\n",
       "      <td>3.49</td>\n",
       "      <td>0.24</td>\n",
       "      <td>2.18</td>\n",
       "      <td>7.80</td>\n",
       "      <td>0.86</td>\n",
       "      <td>3.45</td>\n",
       "      <td>1480</td>\n",
       "    </tr>\n",
       "    <tr>\n",
       "      <th>4</th>\n",
       "      <td>1</td>\n",
       "      <td>13.24</td>\n",
       "      <td>2.59</td>\n",
       "      <td>2.87</td>\n",
       "      <td>21.0</td>\n",
       "      <td>118</td>\n",
       "      <td>2.80</td>\n",
       "      <td>2.69</td>\n",
       "      <td>0.39</td>\n",
       "      <td>1.82</td>\n",
       "      <td>4.32</td>\n",
       "      <td>1.04</td>\n",
       "      <td>2.93</td>\n",
       "      <td>735</td>\n",
       "    </tr>\n",
       "  </tbody>\n",
       "</table>\n",
       "</div>"
      ],
      "text/plain": [
       "   Class label  Alcohol  Malic acid   Ash  Alcalinity of ash  Magnesium  \\\n",
       "0            1    14.23        1.71  2.43               15.6        127   \n",
       "1            1    13.20        1.78  2.14               11.2        100   \n",
       "2            1    13.16        2.36  2.67               18.6        101   \n",
       "3            1    14.37        1.95  2.50               16.8        113   \n",
       "4            1    13.24        2.59  2.87               21.0        118   \n",
       "\n",
       "   Total phenols  Flavanoids  Nonflavanoid phenols  Proanthocyanins  \\\n",
       "0           2.80        3.06                  0.28             2.29   \n",
       "1           2.65        2.76                  0.26             1.28   \n",
       "2           2.80        3.24                  0.30             2.81   \n",
       "3           3.85        3.49                  0.24             2.18   \n",
       "4           2.80        2.69                  0.39             1.82   \n",
       "\n",
       "   Color intensity   Hue  OD280/OD315 of diluted wines  Proline  \n",
       "0             5.64  1.04                          3.92     1065  \n",
       "1             4.38  1.05                          3.40     1050  \n",
       "2             5.68  1.03                          3.17     1185  \n",
       "3             7.80  0.86                          3.45     1480  \n",
       "4             4.32  1.04                          2.93      735  "
      ]
     },
     "execution_count": 52,
     "metadata": {},
     "output_type": "execute_result"
    }
   ],
   "source": [
    "# Carregando o conjunto de dados WINE\n",
    "import pandas as pd\n",
    "df_wine = pd.read_csv('https://archive.ics.uci.edu/ml/machine-learning-databases/wine/wine.data',\n",
    "                        header=None)\n",
    "df_wine.columns = ['Class label', 'Alcohol', 'Malic acid', 'Ash',\n",
    "                   'Alcalinity of ash', 'Magnesium', 'Total phenols',\n",
    "                   'Flavanoids', 'Nonflavanoid phenols', 'Proanthocyanins',\n",
    "                   'Color intensity', 'Hue',\n",
    "                   'OD280/OD315 of diluted wines', 'Proline']\n",
    "\n",
    "df_wine.head()"
   ]
  },
  {
   "cell_type": "code",
   "execution_count": 53,
   "metadata": {},
   "outputs": [],
   "source": [
    "# Dividindo o conjunto de dados em 70/30 \n",
    "from sklearn.model_selection import train_test_split\n",
    "\n",
    "X, y = df_wine.iloc[:, 1:].values, df_wine.iloc[:, 0].values\n",
    "\n",
    "X_train, X_test, y_train, y_test = \\\n",
    "    train_test_split(X, y, test_size=0.3, \n",
    "                     stratify=y,\n",
    "                     random_state=0)\n",
    "\n",
    "# 1º PASSO:  Padronizando os dados\n",
    "from sklearn.preprocessing import StandardScaler\n",
    "sc = StandardScaler()\n",
    "X_train_std = sc.fit_transform(X_train)\n",
    "X_test_std = sc.transform(X_test)"
   ]
  },
  {
   "cell_type": "code",
   "execution_count": 54,
   "metadata": {},
   "outputs": [
    {
     "name": "stdout",
     "output_type": "stream",
     "text": [
      "\n",
      "Autovalores \n",
      "[4.84274532 2.41602459 1.54845825 0.96120438 0.84166161 0.6620634\n",
      " 0.51828472 0.34650377 0.3131368  0.10754642 0.21357215 0.15362835\n",
      " 0.1808613 ]\n",
      "\n",
      "Autovetores \n",
      "[[-1.37242175e-01  5.03034778e-01 -1.37748734e-01 -3.29610003e-03\n",
      "   2.90625226e-01 -2.99096847e-01 -7.90529293e-02  3.68176414e-01\n",
      "   3.98377017e-01 -9.44869777e-02  3.74638877e-01 -1.27834515e-01\n",
      "   2.62834263e-01]\n",
      " [ 2.47243265e-01  1.64871190e-01  9.61503863e-02  5.62646692e-01\n",
      "  -8.95378697e-02 -6.27036396e-01  2.74002014e-01  1.25775752e-02\n",
      "  -1.10458230e-01  2.63652406e-02 -1.37405597e-01  8.06401578e-02\n",
      "  -2.66769211e-01]\n",
      " [-2.54515927e-02  2.44564761e-01  6.77775667e-01 -1.08977111e-01\n",
      "   1.60834991e-01 -3.89128239e-04 -1.32328045e-01 -1.77578177e-01\n",
      "  -3.82496856e-01  1.42747511e-01  4.61583035e-01  1.67924873e-02\n",
      "  -1.15542548e-01]\n",
      " [ 2.06945084e-01 -1.13529045e-01  6.25040550e-01  3.38187002e-02\n",
      "  -5.15873402e-02  4.05836452e-02 -2.23999097e-01  4.40592110e-01\n",
      "   2.43373853e-01 -1.30485780e-01 -4.18953989e-01 -1.10845657e-01\n",
      "   1.99483410e-01]\n",
      " [-1.54365821e-01  2.89745182e-01  1.96135481e-01 -3.67511070e-01\n",
      "  -6.76487073e-01 -6.57772614e-02  4.05268966e-01 -1.16617503e-01\n",
      "   2.58982359e-01 -6.76080782e-02  1.00470630e-02  7.93879562e-02\n",
      "   2.89018810e-02]\n",
      " [-3.93769523e-01  5.08010391e-02  1.40310572e-01  2.40245127e-01\n",
      "   1.18511144e-01  5.89776247e-02  3.47419412e-02 -3.50192127e-01\n",
      "   3.42312860e-01  4.59917661e-01 -2.21254241e-01 -4.91459313e-01\n",
      "  -6.63868598e-02]\n",
      " [-4.17351064e-01 -2.28733792e-02  1.17053859e-01  1.87053299e-01\n",
      "   1.07100349e-01  3.01103180e-02 -4.17835724e-02 -2.18718183e-01\n",
      "   3.61231642e-02 -8.14583947e-01 -4.17513600e-02 -5.03074004e-02\n",
      "  -2.13349079e-01]\n",
      " [ 3.05728961e-01  9.04888470e-02  1.31217777e-01 -2.29262234e-02\n",
      "   5.07581610e-01  2.71728086e-01  6.31145686e-01 -1.97129425e-01\n",
      "   1.71436883e-01 -9.57480885e-02 -8.87569452e-02  1.75328030e-01\n",
      "   1.86391279e-01]\n",
      " [-3.06683469e-01  8.35232677e-03  3.04309008e-02  4.96262330e-01\n",
      "  -2.01634619e-01  4.39997519e-01  3.23122775e-01  4.33055871e-01\n",
      "  -2.44370210e-01  6.72468934e-02  1.99921861e-01 -3.67595797e-03\n",
      "   1.68082985e-01]\n",
      " [ 7.55406578e-02  5.49775805e-01 -7.99299713e-02  1.06482939e-01\n",
      "  -5.73607091e-03  4.11743459e-01 -2.69082623e-01  6.68411823e-02\n",
      "   1.55514919e-01  8.73336218e-02 -2.21668868e-01  3.59756535e-01\n",
      "  -4.66369031e-01]\n",
      " [-3.26132628e-01 -2.07164328e-01  5.30591506e-02 -3.69053747e-01\n",
      "   2.76914216e-01 -1.41673377e-01  3.02640661e-01  4.59762295e-01\n",
      "  -2.11961247e-02  1.29061125e-01 -9.84694573e-02  4.04669797e-02\n",
      "  -5.32483880e-01]\n",
      " [-3.68610222e-01 -2.49025357e-01  1.32391030e-01  1.42016088e-01\n",
      "   6.66275572e-02 -1.75842384e-01 -1.30540143e-01 -1.10827548e-01\n",
      "   2.38089559e-01  1.87646268e-01  1.91205783e-02  7.42229543e-01\n",
      "   2.37835283e-01]\n",
      " [-2.96696514e-01  3.80229423e-01 -7.06502178e-02 -1.67682173e-01\n",
      "   1.28029045e-01 -1.38018388e-01 -8.11335043e-04 -5.60817288e-03\n",
      "  -5.17278463e-01  1.21112574e-02 -5.42532072e-01  3.87395209e-02\n",
      "   3.67763359e-01]]\n"
     ]
    }
   ],
   "source": [
    "# 2º PASSO: Criando uma Matriz de Convariância\n",
    "import numpy as np\n",
    "cov_mat = np.cov(X_train_std.T)\n",
    "\n",
    "# 3º PASSO: Obtendo os autovalores e autovetores da matriz de covariância\n",
    "eigen_vals, eigen_vecs = np.linalg.eig(cov_mat)\n",
    "print('\\nAutovalores \\n%s' %eigen_vals)\n",
    "print('\\nAutovetores \\n%s' %eigen_vecs)"
   ]
  },
  {
   "cell_type": "markdown",
   "metadata": {},
   "source": [
    "<blockquote>\n",
    "<h4>Autodecomposição no NumPy</h4>\n",
    "<p align='justify'>A função <i>numpy.linalg.eig</i> foi projetada para operar em matrizes quadradas simétricas e não simétricas. No entanto, você pode descobrir que ela retorna autovalores complexos em certos casos.</p>\n",
    "<p align='justify'>Uma função relacionada, <i>numpy.linalg.eigh</i>, tem sido implementada para decompor matrizes hermetianas, que é uma abordagem numericamente mais estável para trabalhar com matrizes simétricas, como a matriz de covariância; <i>numpy.linalg.eigh</i> sempre retorna autovalores reais.</p>\n",
    "</blockquote>"
   ]
  },
  {
   "cell_type": "markdown",
   "metadata": {},
   "source": [
    "<h3>Variação total e explicada</h3>\n",
    "<p align='justify'>Como queremos reduzir a dimensionalidade de nosso conjunto de dados compactando-o em um novo subespaço de recursos, selecionamos apenas o subconjunto dos autovetores (componentes principais) que contém a maioria das informações (variância). Os autovalores definem a magnitude dos autovetores, então temos que ordenar os autovalores por magnitude decrescente; estamos interessados nos principais <i>k</i> autovetores com base nos valores de seus autovalores correspondentes.</p>\n",
    "<p align='justify'>Mas antes de coletar esses <i>k</i> autovetores mais informativos, vamos traçar as razões explicadas de variância dos autovalores. A razão explicada pela variância de um autovalor, 𝜆𝑗 , é simplesmente a fração de um autovalor, 𝜆𝑗, e a soma total dos autovalores:</p>"
   ]
  },
  {
   "cell_type": "code",
   "execution_count": 55,
   "metadata": {},
   "outputs": [
    {
     "data": {
      "image/png": "[encoded data removed]",
      "text/plain": [
       "<Figure size 864x432 with 1 Axes>"
      ]
     },
     "metadata": {
      "needs_background": "light"
     },
     "output_type": "display_data"
    }
   ],
   "source": [
    "import matplotlib.pyplot as plt\n",
    "\n",
    "tot = sum(eigen_vals)\n",
    "\n",
    "# 4º PASSO: Classificando os autovalores em ordem decrecente\n",
    "var_exp = [(i / tot) for i in sorted(eigen_vals, reverse=True)]\n",
    "cum_var_exp = np.cumsum(var_exp)\n",
    "\n",
    "# Classificando os Autovetores\n",
    "plt.figure(figsize=(12,6))\n",
    "plt.bar(range(1, 14), var_exp, alpha=0.5, align='center',\n",
    "        label='Individual explained variance')\n",
    "plt.step(range(1, 14), cum_var_exp, where='mid',\n",
    "         label='Cumulative explained variance')\n",
    "plt.ylabel('Explained variance ratio')\n",
    "plt.xlabel('Principal component index')\n",
    "plt.legend(loc='best')\n",
    "plt.tight_layout()\n",
    "plt.show()"
   ]
  },
  {
   "cell_type": "markdown",
   "metadata": {},
   "source": [
    "<p align='justify'>O gráfico resultante indica que o primeiro componente principal sozinho é responsável por aproximadamente <b>40% da variação</b>. Além disso, podemos ver que os dois primeiros componentes principais combinados explicam quase <b>60% da variação no conjunto de dados</b>.</p>\n",
    "\n",
    "<p align='justify'>Embora o gráfico de variância explicado nos lembre dos valores de importância de recursos que computamos, devemos nos lembrar que o <i>PCA</i> é um método não supervisionado, o que significa que as informações sobre os rótulos de classe é <u>ignorada</u>. Enquanto uma floresta aleatória usa as informações de associação de classe para calcular as impurezas do nó, a variância mede a dispersão dos valores ao longo de um eixo de recurso.</p>"
   ]
  },
  {
   "cell_type": "markdown",
   "metadata": {},
   "source": [
    "<h3>Transformação de recursos</h3>\n",
    "<p align='justify'>Agora que decompusemos com sucesso a matriz de covariância em pares próprios, vamos prosseguir com as três últimas etapas para transformar o conjunto de dados <i>Wine</i> nos novos eixos de componentes principais. As etapas restantes que vamos abordar nesta seção são as seguintes:</p>\n",
    "<li>Selecionar os <i>k</i> autovetores, que correspondem aos <i>k</i> maiores autovalores, onde <i>k</i> é a dimensionalidade do novo subespaço de recurso (𝑘 ≤ 𝑑).</li>\n",
    "<li>Construir uma matriz de projeção, <i>W</i>, a partir dos <i>k</i> autovetores \"superiores\".</li>\n",
    "<li>Transformar o conjunto de dados de entrada <i>d-dimensional</i>, <i>X</i>, usando a matriz de projeção, <i>W</i>, para obter o novo subespaço de recurso <i>k-dimensional</i>.</li>"
   ]
  },
  {
   "cell_type": "code",
   "execution_count": 56,
   "metadata": {},
   "outputs": [],
   "source": [
    "# Começamos ordenando os pares próprios por ordem decrescente dos valores próprios\n",
    "# Faça uma lista de tuplas (autovalores, autovetores)\n",
    "eigen_pairs = [(np.abs(eigen_vals[i]), eigen_vecs[:, i]) for i in range(len(eigen_vals))]\n",
    "# Ordene as tuplas (eigenvalue, eigenvector) tuples do maior para o menor\n",
    "eigen_pairs.sort(key=lambda k: k[0], reverse=True)"
   ]
  },
  {
   "cell_type": "markdown",
   "metadata": {},
   "source": [
    "<p align='justify'>Em seguida, coletamos os dois autovetores que correspondem aos dois maiores autovalores, para capturar cerca de <u>60% da variância</u> neste conjunto de dados. Observe que dois autovetores foram escolhidos para fins de ilustração, pois vamos plotar os dados por meio de um gráfico de dispersão bidimensional mais adiante. Na prática, o número de componentes principais deve ser determinado por uma compensação entre a <b>eficiência computacional</b> e o <b>desempenho do classificador</b>:"
   ]
  },
  {
   "cell_type": "code",
   "execution_count": 57,
   "metadata": {},
   "outputs": [
    {
     "name": "stdout",
     "output_type": "stream",
     "text": [
      "Matrix W:\n",
      " [[-0.13724218  0.50303478]\n",
      " [ 0.24724326  0.16487119]\n",
      " [-0.02545159  0.24456476]\n",
      " [ 0.20694508 -0.11352904]\n",
      " [-0.15436582  0.28974518]\n",
      " [-0.39376952  0.05080104]\n",
      " [-0.41735106 -0.02287338]\n",
      " [ 0.30572896  0.09048885]\n",
      " [-0.30668347  0.00835233]\n",
      " [ 0.07554066  0.54977581]\n",
      " [-0.32613263 -0.20716433]\n",
      " [-0.36861022 -0.24902536]\n",
      " [-0.29669651  0.38022942]]\n"
     ]
    }
   ],
   "source": [
    "w = np.hstack((eigen_pairs[0][1][:, np.newaxis],\n",
    "               eigen_pairs[1][1][:, np.newaxis]))\n",
    "print('Matrix W:\\n', w)"
   ]
  },
  {
   "cell_type": "markdown",
   "metadata": {},
   "source": [
    "<p alifn='justify'>Executando o código anterior, criamos uma matriz de projeção de 13 × 2 dimensões, <i>W</i>, a partir dos dois autovetores superiores. Usando a matriz de projeção, podemos agora transformar um exemplo, <i>x</i> (representado como um vetor linha de 13 dimensões), no subespaço <i>PCA</i> (os componentes principais um e dois) obtendo 𝒙′, agora um vetor de exemplo bidimensional consistindo em duas novas características:</p>"
   ]
  },
  {
   "cell_type": "code",
   "execution_count": 58,
   "metadata": {},
   "outputs": [
    {
     "data": {
      "text/plain": [
       "array([2.38299011, 0.45458499])"
      ]
     },
     "execution_count": 58,
     "metadata": {},
     "output_type": "execute_result"
    }
   ],
   "source": [
    "X_train_std[0].dot(w)"
   ]
  },
  {
   "cell_type": "code",
   "execution_count": 59,
   "metadata": {},
   "outputs": [
    {
     "data": {
      "image/png": "[encoded data removed]",
      "text/plain": [
       "<Figure size 864x432 with 1 Axes>"
      ]
     },
     "metadata": {
      "needs_background": "light"
     },
     "output_type": "display_data"
    }
   ],
   "source": [
    "# Vamos treinar todo o conjunto 124 x 13 do conjunto de treinamento em dois Componentes Principais\n",
    "X_train_pca = X_train_std.dot(w)\n",
    "\n",
    "# Visualizando os dados em duas dimensões em um gráfico Scatter\n",
    "colors = ['r', 'b', 'g']\n",
    "markers = ['s', 'x', 'o']\n",
    "plt.figure(figsize=(12,6))\n",
    "for l, c, m in zip(np.unique(y_train), colors, markers):\n",
    "    plt.scatter(X_train_pca[y_train == l, 0], \n",
    "                X_train_pca[y_train == l, 1], \n",
    "                c=c, label=l, marker=m)\n",
    "plt.xlabel('PC 1')\n",
    "plt.ylabel('PC 2')\n",
    "plt.legend(loc='lower left')\n",
    "plt.tight_layout()\n",
    "plt.show()\n"
   ]
  },
  {
   "cell_type": "markdown",
   "metadata": {},
   "source": [
    "<p align='justify'>Como podemos ver no gráfico resultante, os dados estão mais espalhados ao longo do eixo x - o primeiro componente principal - do que o segundo componente principal (eixo y), o que é consistente com o gráfico de razão de variância explicado que criamos no subseção anterior. No entanto, podemos dizer que um <b>classificador linear</b> provavelmente será capaz de separar bem as classes.</p>\n",
    "\n",
    "<p align='justify'>Embora tenhamos codificado as informações de rótulo de classe para fins de ilustração no gráfico de dispersão anterior, devemos ter em mente que o <i>PCA</i> é uma técnica não supervisionada que não usa nenhuma informação de rótulo de classe.</p>"
   ]
  },
  {
   "cell_type": "markdown",
   "metadata": {},
   "source": [
    "<h3>Análise dos componentes principais no <i>scikit-learn</i></h3>\n",
    "\n",
    "<p align='justify'>Embora a abordagem detalhada na subseção anterior tenha nos ajudado a seguir o funcionamento interno do <i>PCA</i>, agora discutiremos como usar a classe <i>PCA</i> implementada no <i>scikit-learn</i>.</p>\n",
    "\n",
    "<p align='justify'>A classe <i>PCA</i> é outra das classes de transformadores do <i>scikit-learn</i>, onde primeiro ajustamos o modelo usando os dados de treinamento antes de transformar os dados de treinamento e o conjunto de dados de teste usando os mesmos parâmetros do modelo. Agora, vamos usar a classe <i>PCA</i> do <i>scikit-learn</i> no conjunto de dados de treinamento <i>Wine</i>, classificar os exemplos transformados por meio de regressão logística e visualizar as regiões de decisão por meio da função <i>plot_decision_regions</i>.</p>"
   ]
  },
  {
   "cell_type": "code",
   "execution_count": 60,
   "metadata": {},
   "outputs": [
    {
     "data": {
      "text/plain": [
       "array([0.36951469, 0.18434927, 0.11815159, 0.07334252, 0.06422108,\n",
       "       0.05051724, 0.03954654, 0.02643918, 0.02389319, 0.01629614,\n",
       "       0.01380021, 0.01172226, 0.00820609])"
      ]
     },
     "execution_count": 60,
     "metadata": {},
     "output_type": "execute_result"
    }
   ],
   "source": [
    "from sklearn.decomposition import PCA\n",
    "\n",
    "pca = PCA() # Instanciando o PCA tranformer\n",
    "X_train_pca = pca.fit_transform(X_train_std)\n",
    "pca.explained_variance_ratio_"
   ]
  },
  {
   "cell_type": "code",
   "execution_count": 61,
   "metadata": {},
   "outputs": [
    {
     "data": {
      "image/png": "[encoded data removed]",
      "text/plain": [
       "<Figure size 864x432 with 1 Axes>"
      ]
     },
     "metadata": {
      "needs_background": "light"
     },
     "output_type": "display_data"
    }
   ],
   "source": [
    "# Plotando as Variáveis \"Razão de Variância Explicada e os Componentes Principais\"\n",
    "plt.figure(figsize=(12,6))\n",
    "plt.bar(range(1, 14), pca.explained_variance_ratio_, alpha=0.5, align='center')\n",
    "plt.step(range(1, 14), np.cumsum(pca.explained_variance_ratio_), where='mid')\n",
    "plt.ylabel('Explained variance ratio')\n",
    "plt.xlabel('Principal components')\n",
    "plt.show()"
   ]
  },
  {
   "cell_type": "code",
   "execution_count": 69,
   "metadata": {},
   "outputs": [
    {
     "data": {
      "image/png": "[encoded data removed]",
      "text/plain": [
       "<Figure size 864x432 with 1 Axes>"
      ]
     },
     "metadata": {
      "needs_background": "light"
     },
     "output_type": "display_data"
    }
   ],
   "source": [
    "# Instanciando o PCA com 2 (dois) componentes apenas. Reduzindo a dimensionalidade.\n",
    "pca = PCA(n_components=2)\n",
    "X_train_pca = pca.fit_transform(X_train_std)\n",
    "X_test_pca = pca.transform(X_test_std)\n",
    "\n",
    "plt.figure(figsize=(12,6))\n",
    "plt.scatter(X_train_pca[:, 0], X_train_pca[:, 1])\n",
    "plt.xlabel('PC 1')\n",
    "plt.ylabel('PC 2')\n",
    "plt.show()"
   ]
  },
  {
   "cell_type": "code",
   "execution_count": 70,
   "metadata": {},
   "outputs": [],
   "source": [
    "from sklearn.linear_model import LogisticRegression\n",
    "\n",
    "# Ajustando o modelo em um conjunto de dados reduzido (train_pca)\n",
    "lr = LogisticRegression(multi_class='ovr', random_state=1, solver='lbfgs')\n",
    "lr = lr.fit(X_train_pca, y_train)"
   ]
  },
  {
   "cell_type": "code",
   "execution_count": 64,
   "metadata": {},
   "outputs": [],
   "source": [
    "# Função Região de Decisão\n",
    "from matplotlib.colors import ListedColormap\n",
    "\n",
    "def plot_decision_regions(X, y, classifier, resolution=0.02):\n",
    "\n",
    "    # setup marker generator and color map\n",
    "    markers = ('s', 'x', 'o', '^', 'v')\n",
    "    colors = ('red', 'blue', 'lightgreen', 'gray', 'cyan')\n",
    "    cmap = ListedColormap(colors[:len(np.unique(y))])\n",
    "\n",
    "    # plot the decision surface\n",
    "    x1_min, x1_max = X[:, 0].min() - 1, X[:, 0].max() + 1\n",
    "    x2_min, x2_max = X[:, 1].min() - 1, X[:, 1].max() + 1\n",
    "    xx1, xx2 = np.meshgrid(np.arange(x1_min, x1_max, resolution),\n",
    "                           np.arange(x2_min, x2_max, resolution))\n",
    "    Z = classifier.predict(np.array([xx1.ravel(), xx2.ravel()]).T)\n",
    "    Z = Z.reshape(xx1.shape)\n",
    "    plt.contourf(xx1, xx2, Z, alpha=0.4, cmap=cmap)\n",
    "    plt.xlim(xx1.min(), xx1.max())\n",
    "    plt.ylim(xx2.min(), xx2.max())\n",
    "\n",
    "    # plot examples by class\n",
    "    for idx, cl in enumerate(np.unique(y)):\n",
    "        plt.scatter(x=X[y == cl, 0], \n",
    "                    y=X[y == cl, 1],\n",
    "                    alpha=0.6, \n",
    "                    color=cmap(idx),\n",
    "                    edgecolor='black',\n",
    "                    marker=markers[idx], \n",
    "                    label=cl)"
   ]
  },
  {
   "cell_type": "markdown",
   "metadata": {},
   "source": [
    "<p align='justify'>Ao executar o código, veremos as regiões de decisão para os dados de treinamento reduzidas a dois eixos de componentes principais (n_components=2):</p>"
   ]
  },
  {
   "cell_type": "code",
   "execution_count": 72,
   "metadata": {},
   "outputs": [
    {
     "name": "stderr",
     "output_type": "stream",
     "text": [
      "C:\\Users\\willi\\AppData\\Local\\Temp\\ipykernel_10420\\3564363118.py:24: UserWarning: You passed a edgecolor/edgecolors ('black') for an unfilled marker ('x').  Matplotlib is ignoring the edgecolor in favor of the facecolor.  This behavior may change in the future.\n",
      "  plt.scatter(x=X[y == cl, 0],\n"
     ]
    },
    {
     "data": {
      "image/png": "[encoded data removed]",
      "text/plain": [
       "<Figure size 864x432 with 1 Axes>"
      ]
     },
     "metadata": {
      "needs_background": "light"
     },
     "output_type": "display_data"
    }
   ],
   "source": [
    "# Plotando os Gráficos dos eixos (PCA 1 - PCA 2) do conjunto de treinamento\n",
    "plt.figure(figsize=(12,6))\n",
    "plot_decision_regions(X_train_pca, y_train, classifier=lr)\n",
    "plt.xlabel('PC 1')\n",
    "plt.ylabel('PC 2')\n",
    "plt.legend(loc='lower left')\n",
    "plt.tight_layout()\n",
    "plt.show()"
   ]
  },
  {
   "cell_type": "markdown",
   "metadata": {},
   "source": [
    "<p align='justify'>Quando comparamos projeções de <i>PCA</i> via <i>scikit-learn</i> com nossa própria implementação de <i>PCA</i>, pode acontecer que os gráficos resultantes sejam imagens espelhadas um do outro. Observe que isso não se deve a um erro em nenhuma dessas duas implementações; a razão para esta diferença é que, dependendo do auto-solver, os autovetores podem ter sinais negativos ou positivos.</p>\n",
    "<p align='justify'>Não que isso importe, mas poderíamos simplesmente reverter a imagem espelhada multiplicando os dados por –1 se quiséssemos; observe que os autovetores são normalmente dimensionados para o comprimento de unidade 1. Vamos plotar as regiões de decisão da regressão logística no conjunto de dados de teste transformado para ver se ele pode separar bem as classes.</p>"
   ]
  },
  {
   "cell_type": "code",
   "execution_count": 68,
   "metadata": {},
   "outputs": [
    {
     "name": "stderr",
     "output_type": "stream",
     "text": [
      "C:\\Users\\willi\\AppData\\Local\\Temp\\ipykernel_10420\\3564363118.py:24: UserWarning: You passed a edgecolor/edgecolors ('black') for an unfilled marker ('x').  Matplotlib is ignoring the edgecolor in favor of the facecolor.  This behavior may change in the future.\n",
      "  plt.scatter(x=X[y == cl, 0],\n"
     ]
    },
    {
     "data": {
      "image/png": "[encoded data removed]",
      "text/plain": [
       "<Figure size 864x432 with 1 Axes>"
      ]
     },
     "metadata": {
      "needs_background": "light"
     },
     "output_type": "display_data"
    }
   ],
   "source": [
    "plt.figure(figsize=(12,6))\n",
    "plot_decision_regions(X_test_pca, y_test, classifier=lr)\n",
    "plt.xlabel('PC1')\n",
    "plt.ylabel('PC2')\n",
    "plt.legend(loc='lower left')\n",
    "plt.tight_layout()\n",
    "plt.show()"
   ]
  },
  {
   "cell_type": "markdown",
   "metadata": {},
   "source": [
    "<p align='justify'>Depois de plotarmos as regiões de decisão para o conjunto de dados de teste executando o código anterior, podemos ver que a regressão logística funciona muito bem nesse pequeno subespaço de recursos bidimensionais e apenas classifica incorretamente alguns exemplos no conjunto de dados de teste.</p>\n",
    "\n",
    "<p align='justify'>Se estivermos interessados nas razões de variância explicadas (<i>explained variance ratio</i>) dos diferentes componentes principais, podemos simplesmente inicializar a classe <i>PCA</i> com o parâmetro <i>n_components</i> definido como <i>None</i>, para que todos os componentes principais sejam mantidos e a razão de variância explicada possa ser acessada através do atributo <i>explain_variance_ratio_</i>."
   ]
  },
  {
   "cell_type": "code",
   "execution_count": 73,
   "metadata": {},
   "outputs": [
    {
     "data": {
      "text/plain": [
       "array([0.36951469, 0.18434927, 0.11815159, 0.07334252, 0.06422108,\n",
       "       0.05051724, 0.03954654, 0.02643918, 0.02389319, 0.01629614,\n",
       "       0.01380021, 0.01172226, 0.00820609])"
      ]
     },
     "execution_count": 73,
     "metadata": {},
     "output_type": "execute_result"
    }
   ],
   "source": [
    "pca = PCA(n_components=None)\n",
    "X_train_pca = pca.fit_transform(X_train_std)\n",
    "pca.explained_variance_ratio_"
   ]
  },
  {
   "cell_type": "markdown",
   "metadata": {},
   "source": [
    "<p align='justify'>Observe que definimos <i>n_components=None</i> quando inicializamos a classe <i>PCA</i> para que ela retorne todos os componentes principais em uma ordem de classificação, em vez de realizar uma redução de dimensionalidade.</p>"
   ]
  },
  {
   "cell_type": "markdown",
   "metadata": {},
   "source": [
    "<h4>Compreendendo dados supervisionados por meio de Análise Discriminante Linear (<i>LDA</i>)</h4>\n",
    "\n",
    "<p align='justify'>A <i>LDA</i> pode ser usado como uma técnica de extração de características para aumentar a eficiência computacional e reduzir o grau de <i>overfitting</i> devido à <u>maldição da dimensionalidade</u> em modelos não regularizados. O conceito geral por trás do <i>LDA</i> é muito semelhante ao <i>PCA</i>, mas enquanto o <i>PCA</i> tenta encontrar os eixos de componentes ortogonais de variância máxima em um conjunto de dados, o objetivo no <i>LDA</i> é encontrar o subespaço de recursos que otimiza a separabilidade de classes. Discutiremos as semelhanças entre <i>LDA</i> e <i>PCA</i> com mais detalhes e percorreremos a abordagem <i>LDA</i> passo a passo."
   ]
  },
  {
   "cell_type": "markdown",
   "metadata": {},
   "source": [
    "<h4>Análise de componentes principais versus análise discriminante linear</h4>"
   ]
  }
 ],
 "metadata": {
  "interpreter": {
   "hash": "f8bbe703e4409461e5c1796f0c401e26e62f32801f1a5b19455b89c31c613fbe"
  },
  "kernelspec": {
   "display_name": "Python 3.9.7 ('base')",
   "language": "python",
   "name": "python3"
  },
  "language_info": {
   "codemirror_mode": {
    "name": "ipython",
    "version": 3
   },
   "file_extension": ".py",
   "mimetype": "text/x-python",
   "name": "python",
   "nbconvert_exporter": "python",
   "pygments_lexer": "ipython3",
   "version": "3.9.7"
  },
  "orig_nbformat": 4
 },
 "nbformat": 4,
 "nbformat_minor": 2
}
