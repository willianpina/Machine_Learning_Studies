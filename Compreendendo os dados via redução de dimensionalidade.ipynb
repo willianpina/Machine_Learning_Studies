{
 "cells": [
  {
   "cell_type": "markdown",
   "metadata": {},
   "source": [
    "<h1 align='center'>Compreendendo os dados via redução de dimensionalidade</h1>\n",
    "\n",
    "<p align='center'><img src=https://hidden.brutalk.com/wp-content/uploads/2021/02/Introduccion-a-la-reduccion-de-dimensionalidad-para-el-aprendizaje-automatico.jpg   width=\"400\" height=\"300\"></p>\n",
    "\n",
    "<p align='justify'>Vamos conversar sobre três técnicas fundamentais que o ajudarão a resumir o conteúdo de informações de um conjunto de dados, transformando-o em um novo subespaço de características de menor dimensionalidade do que o original. A compactação de dados é um tópico importante no aprendizado de máquina e nos ajuda a armazenar e analisar as quantidades crescentes de dados que são produzidos e coletados na era moderna da tecnologia.</p>"
   ]
  },
  {
   "cell_type": "markdown",
   "metadata": {},
   "source": [
    "<h3>Redução de dimensionalidade não supervisionada por meio da Análise dos Componentes Principais(PCA)</h3>\n",
    "\n",
    "<p align='justify'>Semelhante à seleção de recursos, podemos usar diferentes técnicas de extração de recursos para reduzir o número de recursos em um conjunto de dados. A diferença entre a seleção de recursos e a extração de recursos é que, enquanto mantemos os recursos originais quando usamos algoritmos de seleção de recursos, como <b>seleção regressiva sequencial</b>, usamos a extração de recursos para transformar ou projetar os dados em um novo espaço de recursos.</p>\n",
    "\n",
    "<p align='justify'>No contexto da redução de dimensionalidade, a extração de características pode ser entendida como uma abordagem de compressão de dados com o <u>objetivo de manter a maior parte das informações relevantes</u>. Na prática, a extração de recursos não é usada apenas para melhorar o espaço de armazenamento ou a eficiência computacional do algoritmo de aprendizado, mas também pode melhorar o desempenho preditivo reduzindo a <u>maldição da dimensionalidade</u> - especialmente se estivermos trabalhando com modelos não regularizados.</p>\n"
   ]
  },
  {
   "cell_type": "markdown",
   "metadata": {},
   "source": [
    "<h4>Extraindo os componentes principais passo a passo</h4>\n",
    "<p align='justify'>Nesta subseção, abordaremos as quatro primeiras etapas de um PCA:</p>\n",
    "<ol>\n",
    "<li>Padronização dos dados.</li>\n",
    "<li>Construindo a matriz de covariância.</li>\n",
    "<li>Obtenção dos autovalores e autovetores da matriz de covariâncias.</li>\n",
    "<li>Classificando os autovalores por ordem decrescente para classificar os autovetores.</li>\n",
    "</ol>"
   ]
  },
  {
   "cell_type": "code",
   "execution_count": 32,
   "metadata": {},
   "outputs": [
    {
     "data": {
      "text/html": [
       "<div>\n",
       "<style scoped>\n",
       "    .dataframe tbody tr th:only-of-type {\n",
       "        vertical-align: middle;\n",
       "    }\n",
       "\n",
       "    .dataframe tbody tr th {\n",
       "        vertical-align: top;\n",
       "    }\n",
       "\n",
       "    .dataframe thead th {\n",
       "        text-align: right;\n",
       "    }\n",
       "</style>\n",
       "<table border=\"1\" class=\"dataframe\">\n",
       "  <thead>\n",
       "    <tr style=\"text-align: right;\">\n",
       "      <th></th>\n",
       "      <th>Class label</th>\n",
       "      <th>Alcohol</th>\n",
       "      <th>Malic acid</th>\n",
       "      <th>Ash</th>\n",
       "      <th>Alcalinity of ash</th>\n",
       "      <th>Magnesium</th>\n",
       "      <th>Total phenols</th>\n",
       "      <th>Flavanoids</th>\n",
       "      <th>Nonflavanoid phenols</th>\n",
       "      <th>Proanthocyanins</th>\n",
       "      <th>Color intensity</th>\n",
       "      <th>Hue</th>\n",
       "      <th>OD280/OD315 of diluted wines</th>\n",
       "      <th>Proline</th>\n",
       "    </tr>\n",
       "  </thead>\n",
       "  <tbody>\n",
       "    <tr>\n",
       "      <th>0</th>\n",
       "      <td>1</td>\n",
       "      <td>14.23</td>\n",
       "      <td>1.71</td>\n",
       "      <td>2.43</td>\n",
       "      <td>15.6</td>\n",
       "      <td>127</td>\n",
       "      <td>2.80</td>\n",
       "      <td>3.06</td>\n",
       "      <td>0.28</td>\n",
       "      <td>2.29</td>\n",
       "      <td>5.64</td>\n",
       "      <td>1.04</td>\n",
       "      <td>3.92</td>\n",
       "      <td>1065</td>\n",
       "    </tr>\n",
       "    <tr>\n",
       "      <th>1</th>\n",
       "      <td>1</td>\n",
       "      <td>13.20</td>\n",
       "      <td>1.78</td>\n",
       "      <td>2.14</td>\n",
       "      <td>11.2</td>\n",
       "      <td>100</td>\n",
       "      <td>2.65</td>\n",
       "      <td>2.76</td>\n",
       "      <td>0.26</td>\n",
       "      <td>1.28</td>\n",
       "      <td>4.38</td>\n",
       "      <td>1.05</td>\n",
       "      <td>3.40</td>\n",
       "      <td>1050</td>\n",
       "    </tr>\n",
       "    <tr>\n",
       "      <th>2</th>\n",
       "      <td>1</td>\n",
       "      <td>13.16</td>\n",
       "      <td>2.36</td>\n",
       "      <td>2.67</td>\n",
       "      <td>18.6</td>\n",
       "      <td>101</td>\n",
       "      <td>2.80</td>\n",
       "      <td>3.24</td>\n",
       "      <td>0.30</td>\n",
       "      <td>2.81</td>\n",
       "      <td>5.68</td>\n",
       "      <td>1.03</td>\n",
       "      <td>3.17</td>\n",
       "      <td>1185</td>\n",
       "    </tr>\n",
       "    <tr>\n",
       "      <th>3</th>\n",
       "      <td>1</td>\n",
       "      <td>14.37</td>\n",
       "      <td>1.95</td>\n",
       "      <td>2.50</td>\n",
       "      <td>16.8</td>\n",
       "      <td>113</td>\n",
       "      <td>3.85</td>\n",
       "      <td>3.49</td>\n",
       "      <td>0.24</td>\n",
       "      <td>2.18</td>\n",
       "      <td>7.80</td>\n",
       "      <td>0.86</td>\n",
       "      <td>3.45</td>\n",
       "      <td>1480</td>\n",
       "    </tr>\n",
       "    <tr>\n",
       "      <th>4</th>\n",
       "      <td>1</td>\n",
       "      <td>13.24</td>\n",
       "      <td>2.59</td>\n",
       "      <td>2.87</td>\n",
       "      <td>21.0</td>\n",
       "      <td>118</td>\n",
       "      <td>2.80</td>\n",
       "      <td>2.69</td>\n",
       "      <td>0.39</td>\n",
       "      <td>1.82</td>\n",
       "      <td>4.32</td>\n",
       "      <td>1.04</td>\n",
       "      <td>2.93</td>\n",
       "      <td>735</td>\n",
       "    </tr>\n",
       "  </tbody>\n",
       "</table>\n",
       "</div>"
      ],
      "text/plain": [
       "   Class label  Alcohol  Malic acid   Ash  Alcalinity of ash  Magnesium  \\\n",
       "0            1    14.23        1.71  2.43               15.6        127   \n",
       "1            1    13.20        1.78  2.14               11.2        100   \n",
       "2            1    13.16        2.36  2.67               18.6        101   \n",
       "3            1    14.37        1.95  2.50               16.8        113   \n",
       "4            1    13.24        2.59  2.87               21.0        118   \n",
       "\n",
       "   Total phenols  Flavanoids  Nonflavanoid phenols  Proanthocyanins  \\\n",
       "0           2.80        3.06                  0.28             2.29   \n",
       "1           2.65        2.76                  0.26             1.28   \n",
       "2           2.80        3.24                  0.30             2.81   \n",
       "3           3.85        3.49                  0.24             2.18   \n",
       "4           2.80        2.69                  0.39             1.82   \n",
       "\n",
       "   Color intensity   Hue  OD280/OD315 of diluted wines  Proline  \n",
       "0             5.64  1.04                          3.92     1065  \n",
       "1             4.38  1.05                          3.40     1050  \n",
       "2             5.68  1.03                          3.17     1185  \n",
       "3             7.80  0.86                          3.45     1480  \n",
       "4             4.32  1.04                          2.93      735  "
      ]
     },
     "execution_count": 32,
     "metadata": {},
     "output_type": "execute_result"
    }
   ],
   "source": [
    "# Carregando o conjunto de dados WINE\n",
    "import pandas as pd\n",
    "df_wine = pd.read_csv('https://archive.ics.uci.edu/ml/machine-learning-databases/wine/wine.data',\n",
    "                        header=None)\n",
    "df_wine.columns = ['Class label', 'Alcohol', 'Malic acid', 'Ash',\n",
    "                   'Alcalinity of ash', 'Magnesium', 'Total phenols',\n",
    "                   'Flavanoids', 'Nonflavanoid phenols', 'Proanthocyanins',\n",
    "                   'Color intensity', 'Hue',\n",
    "                   'OD280/OD315 of diluted wines', 'Proline']\n",
    "\n",
    "df_wine.head()"
   ]
  },
  {
   "cell_type": "code",
   "execution_count": 33,
   "metadata": {},
   "outputs": [],
   "source": [
    "# Dividindo o conjunto de dados em 70/30 \n",
    "from sklearn.model_selection import train_test_split\n",
    "\n",
    "X, y = df_wine.iloc[:, 1:].values, df_wine.iloc[:, 0].values\n",
    "\n",
    "X_train, X_test, y_train, y_test = \\\n",
    "    train_test_split(X, y, test_size=0.3, \n",
    "                     stratify=y,\n",
    "                     random_state=0)\n",
    "\n",
    "# 1º PASSO:  Padronizando os dados\n",
    "from sklearn.preprocessing import StandardScaler\n",
    "sc = StandardScaler()\n",
    "X_train_std = sc.fit_transform(X_train)\n",
    "X_test_std = sc.transform(X_test)"
   ]
  },
  {
   "cell_type": "code",
   "execution_count": 34,
   "metadata": {},
   "outputs": [
    {
     "name": "stdout",
     "output_type": "stream",
     "text": [
      "\n",
      "Autovalores \n",
      "[4.8427 2.416  1.5485 0.9612 0.8417 0.6621 0.5183 0.3465 0.3131 0.1075\n",
      " 0.2136 0.1536 0.1809]\n",
      "\n",
      "Autovetores \n",
      "[[-1.3724e-01  5.0303e-01 -1.3775e-01 -3.2961e-03  2.9063e-01 -2.9910e-01\n",
      "  -7.9053e-02  3.6818e-01  3.9838e-01 -9.4487e-02  3.7464e-01 -1.2783e-01\n",
      "   2.6283e-01]\n",
      " [ 2.4724e-01  1.6487e-01  9.6150e-02  5.6265e-01 -8.9538e-02 -6.2704e-01\n",
      "   2.7400e-01  1.2578e-02 -1.1046e-01  2.6365e-02 -1.3741e-01  8.0640e-02\n",
      "  -2.6677e-01]\n",
      " [-2.5452e-02  2.4456e-01  6.7778e-01 -1.0898e-01  1.6083e-01 -3.8913e-04\n",
      "  -1.3233e-01 -1.7758e-01 -3.8250e-01  1.4275e-01  4.6158e-01  1.6792e-02\n",
      "  -1.1554e-01]\n",
      " [ 2.0695e-01 -1.1353e-01  6.2504e-01  3.3819e-02 -5.1587e-02  4.0584e-02\n",
      "  -2.2400e-01  4.4059e-01  2.4337e-01 -1.3049e-01 -4.1895e-01 -1.1085e-01\n",
      "   1.9948e-01]\n",
      " [-1.5437e-01  2.8975e-01  1.9614e-01 -3.6751e-01 -6.7649e-01 -6.5777e-02\n",
      "   4.0527e-01 -1.1662e-01  2.5898e-01 -6.7608e-02  1.0047e-02  7.9388e-02\n",
      "   2.8902e-02]\n",
      " [-3.9377e-01  5.0801e-02  1.4031e-01  2.4025e-01  1.1851e-01  5.8978e-02\n",
      "   3.4742e-02 -3.5019e-01  3.4231e-01  4.5992e-01 -2.2125e-01 -4.9146e-01\n",
      "  -6.6387e-02]\n",
      " [-4.1735e-01 -2.2873e-02  1.1705e-01  1.8705e-01  1.0710e-01  3.0110e-02\n",
      "  -4.1784e-02 -2.1872e-01  3.6123e-02 -8.1458e-01 -4.1751e-02 -5.0307e-02\n",
      "  -2.1335e-01]\n",
      " [ 3.0573e-01  9.0489e-02  1.3122e-01 -2.2926e-02  5.0758e-01  2.7173e-01\n",
      "   6.3115e-01 -1.9713e-01  1.7144e-01 -9.5748e-02 -8.8757e-02  1.7533e-01\n",
      "   1.8639e-01]\n",
      " [-3.0668e-01  8.3523e-03  3.0431e-02  4.9626e-01 -2.0163e-01  4.4000e-01\n",
      "   3.2312e-01  4.3306e-01 -2.4437e-01  6.7247e-02  1.9992e-01 -3.6760e-03\n",
      "   1.6808e-01]\n",
      " [ 7.5541e-02  5.4978e-01 -7.9930e-02  1.0648e-01 -5.7361e-03  4.1174e-01\n",
      "  -2.6908e-01  6.6841e-02  1.5551e-01  8.7334e-02 -2.2167e-01  3.5976e-01\n",
      "  -4.6637e-01]\n",
      " [-3.2613e-01 -2.0716e-01  5.3059e-02 -3.6905e-01  2.7691e-01 -1.4167e-01\n",
      "   3.0264e-01  4.5976e-01 -2.1196e-02  1.2906e-01 -9.8469e-02  4.0467e-02\n",
      "  -5.3248e-01]\n",
      " [-3.6861e-01 -2.4903e-01  1.3239e-01  1.4202e-01  6.6628e-02 -1.7584e-01\n",
      "  -1.3054e-01 -1.1083e-01  2.3809e-01  1.8765e-01  1.9121e-02  7.4223e-01\n",
      "   2.3784e-01]\n",
      " [-2.9670e-01  3.8023e-01 -7.0650e-02 -1.6768e-01  1.2803e-01 -1.3802e-01\n",
      "  -8.1134e-04 -5.6082e-03 -5.1728e-01  1.2111e-02 -5.4253e-01  3.8740e-02\n",
      "   3.6776e-01]]\n"
     ]
    }
   ],
   "source": [
    "# 2º PASSO: Criando uma Matriz de Convariância\n",
    "import numpy as np\n",
    "cov_mat = np.cov(X_train_std.T)\n",
    "\n",
    "# 3º PASSO: Obtendo os autovalores e autovetores da matriz de covariância\n",
    "eigen_vals, eigen_vecs = np.linalg.eig(cov_mat)\n",
    "print('\\nAutovalores \\n%s' %eigen_vals)\n",
    "print('\\nAutovetores \\n%s' %eigen_vecs)"
   ]
  },
  {
   "cell_type": "markdown",
   "metadata": {},
   "source": [
    "<blockquote>\n",
    "<h4>Autodecomposição no NumPy</h4>\n",
    "<p align='justify'>A função <i>numpy.linalg.eig</i> foi projetada para operar em matrizes quadradas simétricas e não simétricas. No entanto, você pode descobrir que ela retorna autovalores complexos em certos casos.</p>\n",
    "<p align='justify'>Uma função relacionada, <i>numpy.linalg.eigh</i>, tem sido implementada para decompor matrizes hermetianas, que é uma abordagem numericamente mais estável para trabalhar com matrizes simétricas, como a matriz de covariância; <i>numpy.linalg.eigh</i> sempre retorna autovalores reais.</p>\n",
    "</blockquote>"
   ]
  },
  {
   "cell_type": "markdown",
   "metadata": {},
   "source": [
    "<h3>Variação total e explicada</h3>\n",
    "<p align='justify'>Como queremos reduzir a dimensionalidade de nosso conjunto de dados compactando-o em um novo subespaço de recursos, selecionamos apenas o subconjunto dos autovetores (componentes principais) que contém a maioria das informações (variância). Os autovalores definem a magnitude dos autovetores, então temos que ordenar os autovalores por magnitude decrescente; estamos interessados nos principais <i>k</i> autovetores com base nos valores de seus autovalores correspondentes.</p>\n",
    "<p align='justify'>Mas antes de coletar esses <i>k</i> autovetores mais informativos, vamos traçar as razões explicadas de variância dos autovalores. A razão explicada pela variância de um autovalor, 𝜆𝑗 , é simplesmente a fração de um autovalor, 𝜆𝑗, e a soma total dos autovalores:</p>"
   ]
  },
  {
   "cell_type": "code",
   "execution_count": 35,
   "metadata": {},
   "outputs": [
    {
     "data": {
      "image/png": "[encoded data removed]",
      "text/plain": [
       "<Figure size 864x432 with 1 Axes>"
      ]
     },
     "metadata": {
      "needs_background": "light"
     },
     "output_type": "display_data"
    }
   ],
   "source": [
    "import matplotlib.pyplot as plt\n",
    "\n",
    "tot = sum(eigen_vals)\n",
    "\n",
    "# 4º PASSO: Classificando os autovalores em ordem decrecente\n",
    "var_exp = [(i / tot) for i in sorted(eigen_vals, reverse=True)]\n",
    "cum_var_exp = np.cumsum(var_exp)\n",
    "\n",
    "# Classificando os Autovetores\n",
    "plt.figure(figsize=(12,6))\n",
    "plt.bar(range(1, 14), var_exp, alpha=0.5, align='center',\n",
    "        label='Individual explained variance')\n",
    "plt.step(range(1, 14), cum_var_exp, where='mid',\n",
    "         label='Cumulative explained variance')\n",
    "plt.ylabel('Explained variance ratio')\n",
    "plt.xlabel('Principal component index')\n",
    "plt.legend(loc='best')\n",
    "plt.tight_layout()\n",
    "plt.show()"
   ]
  },
  {
   "cell_type": "markdown",
   "metadata": {},
   "source": [
    "<p align='justify'>O gráfico resultante indica que o primeiro componente principal sozinho é responsável por aproximadamente <b>40% da variação</b>. Além disso, podemos ver que os dois primeiros componentes principais combinados explicam quase <b>60% da variação no conjunto de dados</b>.</p>\n",
    "\n",
    "<p align='justify'>Embora o gráfico de variância explicado nos lembre dos valores de importância de recursos que computamos, devemos nos lembrar que o <i>PCA</i> é um método não supervisionado, o que significa que as informações sobre os rótulos de classe é <u>ignorada</u>. Enquanto uma floresta aleatória usa as informações de associação de classe para calcular as impurezas do nó, a variância mede a dispersão dos valores ao longo de um eixo de recurso.</p>"
   ]
  },
  {
   "cell_type": "markdown",
   "metadata": {},
   "source": [
    "<h3>Transformação de recursos</h3>\n",
    "<p align='justify'>Agora que decompusemos com sucesso a matriz de covariância em pares próprios, vamos prosseguir com as três últimas etapas para transformar o conjunto de dados <i>Wine</i> nos novos eixos de componentes principais. As etapas restantes que vamos abordar nesta seção são as seguintes:</p>\n",
    "<li>Selecionar os <i>k</i> autovetores, que correspondem aos <i>k</i> maiores autovalores, onde <i>k</i> é a dimensionalidade do novo subespaço de recurso (𝑘 ≤ 𝑑).</li>\n",
    "<li>Construir uma matriz de projeção, <i>W</i>, a partir dos <i>k</i> autovetores \"superiores\".</li>\n",
    "<li>Transformar o conjunto de dados de entrada <i>d-dimensional</i>, <i>X</i>, usando a matriz de projeção, <i>W</i>, para obter o novo subespaço de recurso <i>k-dimensional</i>.</li>"
   ]
  },
  {
   "cell_type": "code",
   "execution_count": 36,
   "metadata": {},
   "outputs": [],
   "source": [
    "# Começamos ordenando os pares próprios por ordem decrescente dos valores próprios\n",
    "# Faça uma lista de tuplas (autovalores, autovetores)\n",
    "eigen_pairs = [(np.abs(eigen_vals[i]), eigen_vecs[:, i]) for i in range(len(eigen_vals))]\n",
    "# Ordene as tuplas (eigenvalue, eigenvector) tuples do maior para o menor\n",
    "eigen_pairs.sort(key=lambda k: k[0], reverse=True)"
   ]
  },
  {
   "cell_type": "markdown",
   "metadata": {},
   "source": [
    "<p align='justify'>Em seguida, coletamos os dois autovetores que correspondem aos dois maiores autovalores, para capturar cerca de <u>60% da variância</u> neste conjunto de dados. Observe que dois autovetores foram escolhidos para fins de ilustração, pois vamos plotar os dados por meio de um gráfico de dispersão bidimensional mais adiante. Na prática, o número de componentes principais deve ser determinado por uma compensação entre a <b>eficiência computacional</b> e o <b>desempenho do classificador</b>:"
   ]
  },
  {
   "cell_type": "code",
   "execution_count": 37,
   "metadata": {},
   "outputs": [
    {
     "name": "stdout",
     "output_type": "stream",
     "text": [
      "Matrix W:\n",
      " [[-0.1372  0.503 ]\n",
      " [ 0.2472  0.1649]\n",
      " [-0.0255  0.2446]\n",
      " [ 0.2069 -0.1135]\n",
      " [-0.1544  0.2897]\n",
      " [-0.3938  0.0508]\n",
      " [-0.4174 -0.0229]\n",
      " [ 0.3057  0.0905]\n",
      " [-0.3067  0.0084]\n",
      " [ 0.0755  0.5498]\n",
      " [-0.3261 -0.2072]\n",
      " [-0.3686 -0.249 ]\n",
      " [-0.2967  0.3802]]\n"
     ]
    }
   ],
   "source": [
    "w = np.hstack((eigen_pairs[0][1][:, np.newaxis],\n",
    "               eigen_pairs[1][1][:, np.newaxis]))\n",
    "print('Matrix W:\\n', w)"
   ]
  },
  {
   "cell_type": "markdown",
   "metadata": {},
   "source": [
    "<p alifn='justify'>Executando o código anterior, criamos uma matriz de projeção de 13 × 2 dimensões, <i>W</i>, a partir dos dois autovetores superiores. Usando a matriz de projeção, podemos agora transformar um exemplo, <i>x</i> (representado como um vetor linha de 13 dimensões), no subespaço <i>PCA</i> (os componentes principais um e dois) obtendo 𝒙′, agora um vetor de exemplo bidimensional consistindo em duas novas características:</p>"
   ]
  },
  {
   "cell_type": "code",
   "execution_count": 38,
   "metadata": {},
   "outputs": [
    {
     "data": {
      "text/plain": [
       "array([2.383 , 0.4546])"
      ]
     },
     "execution_count": 38,
     "metadata": {},
     "output_type": "execute_result"
    }
   ],
   "source": [
    "X_train_std[0].dot(w)"
   ]
  },
  {
   "cell_type": "code",
   "execution_count": 39,
   "metadata": {},
   "outputs": [
    {
     "data": {
      "image/png": "[encoded data removed]",
      "text/plain": [
       "<Figure size 864x432 with 1 Axes>"
      ]
     },
     "metadata": {
      "needs_background": "light"
     },
     "output_type": "display_data"
    }
   ],
   "source": [
    "# Vamos treinar todo o conjunto 124 x 13 do conjunto de treinamento em dois Componentes Principais\n",
    "X_train_pca = X_train_std.dot(w)\n",
    "\n",
    "# Visualizando os dados em duas dimensões em um gráfico Scatter\n",
    "colors = ['r', 'b', 'g']\n",
    "markers = ['s', 'x', 'o']\n",
    "plt.figure(figsize=(12,6))\n",
    "for l, c, m in zip(np.unique(y_train), colors, markers):\n",
    "    plt.scatter(X_train_pca[y_train == l, 0], \n",
    "                X_train_pca[y_train == l, 1], \n",
    "                c=c, label=l, marker=m)\n",
    "plt.xlabel('PC 1')\n",
    "plt.ylabel('PC 2')\n",
    "plt.legend(loc='lower left')\n",
    "plt.tight_layout()\n",
    "plt.show()\n"
   ]
  },
  {
   "cell_type": "markdown",
   "metadata": {},
   "source": [
    "<p align='justify'>Como podemos ver no gráfico resultante, os dados estão mais espalhados ao longo do eixo x - o primeiro componente principal - do que o segundo componente principal (eixo y), o que é consistente com o gráfico de razão de variância explicado que criamos no subseção anterior. No entanto, podemos dizer que um <b>classificador linear</b> provavelmente será capaz de separar bem as classes.</p>\n",
    "\n",
    "<p align='justify'>Embora tenhamos codificado as informações de rótulo de classe para fins de ilustração no gráfico de dispersão anterior, devemos ter em mente que o <i>PCA</i> é uma técnica não supervisionada que não usa nenhuma informação de rótulo de classe.</p>"
   ]
  },
  {
   "cell_type": "markdown",
   "metadata": {},
   "source": [
    "<h3>Análise dos componentes principais no <i>scikit-learn</i></h3>\n",
    "\n",
    "<p align='justify'>Embora a abordagem detalhada na subseção anterior tenha nos ajudado a seguir o funcionamento interno do <i>PCA</i>, agora discutiremos como usar a classe <i>PCA</i> implementada no <i>scikit-learn</i>.</p>\n",
    "\n",
    "<p align='justify'>A classe <i>PCA</i> é outra das classes de transformadores do <i>scikit-learn</i>, onde primeiro ajustamos o modelo usando os dados de treinamento antes de transformar os dados de treinamento e o conjunto de dados de teste usando os mesmos parâmetros do modelo. Agora, vamos usar a classe <i>PCA</i> do <i>scikit-learn</i> no conjunto de dados de treinamento <i>Wine</i>, classificar os exemplos transformados por meio de regressão logística e visualizar as regiões de decisão por meio da função <i>plot_decision_regions</i>.</p>"
   ]
  },
  {
   "cell_type": "code",
   "execution_count": 40,
   "metadata": {},
   "outputs": [
    {
     "data": {
      "text/plain": [
       "array([0.3695, 0.1843, 0.1182, 0.0733, 0.0642, 0.0505, 0.0395, 0.0264,\n",
       "       0.0239, 0.0163, 0.0138, 0.0117, 0.0082])"
      ]
     },
     "execution_count": 40,
     "metadata": {},
     "output_type": "execute_result"
    }
   ],
   "source": [
    "from sklearn.decomposition import PCA\n",
    "\n",
    "pca = PCA() # Instanciando o PCA tranformer\n",
    "X_train_pca = pca.fit_transform(X_train_std)\n",
    "pca.explained_variance_ratio_"
   ]
  },
  {
   "cell_type": "code",
   "execution_count": 41,
   "metadata": {},
   "outputs": [
    {
     "data": {
      "image/png": "[encoded data removed]",
      "text/plain": [
       "<Figure size 864x432 with 1 Axes>"
      ]
     },
     "metadata": {
      "needs_background": "light"
     },
     "output_type": "display_data"
    }
   ],
   "source": [
    "# Plotando as Variáveis \"Razão de Variância Explicada e os Componentes Principais\"\n",
    "plt.figure(figsize=(12,6))\n",
    "plt.bar(range(1, 14), pca.explained_variance_ratio_, alpha=0.5, align='center')\n",
    "plt.step(range(1, 14), np.cumsum(pca.explained_variance_ratio_), where='mid')\n",
    "plt.ylabel('Explained variance ratio')\n",
    "plt.xlabel('Principal components')\n",
    "plt.show()"
   ]
  },
  {
   "cell_type": "code",
   "execution_count": 42,
   "metadata": {},
   "outputs": [
    {
     "data": {
      "image/png": "[encoded data removed]",
      "text/plain": [
       "<Figure size 864x432 with 1 Axes>"
      ]
     },
     "metadata": {
      "needs_background": "light"
     },
     "output_type": "display_data"
    }
   ],
   "source": [
    "# Instanciando o PCA com 2 (dois) componentes apenas. Reduzindo a dimensionalidade.\n",
    "pca = PCA(n_components=2)\n",
    "X_train_pca = pca.fit_transform(X_train_std)\n",
    "X_test_pca = pca.transform(X_test_std)\n",
    "\n",
    "plt.figure(figsize=(12,6))\n",
    "plt.scatter(X_train_pca[:, 0], X_train_pca[:, 1])\n",
    "plt.xlabel('PC 1')\n",
    "plt.ylabel('PC 2')\n",
    "plt.show()"
   ]
  },
  {
   "cell_type": "code",
   "execution_count": 43,
   "metadata": {},
   "outputs": [],
   "source": [
    "from sklearn.linear_model import LogisticRegression\n",
    "\n",
    "# Ajustando o modelo em um conjunto de dados reduzido (train_pca)\n",
    "lr = LogisticRegression(multi_class='ovr', random_state=1, solver='lbfgs')\n",
    "lr = lr.fit(X_train_pca, y_train)"
   ]
  },
  {
   "cell_type": "code",
   "execution_count": 44,
   "metadata": {},
   "outputs": [],
   "source": [
    "# Função Região de Decisão\n",
    "from matplotlib.colors import ListedColormap\n",
    "\n",
    "def plot_decision_regions(X, y, classifier, resolution=0.02):\n",
    "\n",
    "    # setup marker generator and color map\n",
    "    markers = ('s', 'x', 'o', '^', 'v')\n",
    "    colors = ('red', 'blue', 'lightgreen', 'gray', 'cyan')\n",
    "    cmap = ListedColormap(colors[:len(np.unique(y))])\n",
    "\n",
    "    # plot the decision surface\n",
    "    x1_min, x1_max = X[:, 0].min() - 1, X[:, 0].max() + 1\n",
    "    x2_min, x2_max = X[:, 1].min() - 1, X[:, 1].max() + 1\n",
    "    xx1, xx2 = np.meshgrid(np.arange(x1_min, x1_max, resolution),\n",
    "                           np.arange(x2_min, x2_max, resolution))\n",
    "    Z = classifier.predict(np.array([xx1.ravel(), xx2.ravel()]).T)\n",
    "    Z = Z.reshape(xx1.shape)\n",
    "    plt.contourf(xx1, xx2, Z, alpha=0.4, cmap=cmap)\n",
    "    plt.xlim(xx1.min(), xx1.max())\n",
    "    plt.ylim(xx2.min(), xx2.max())\n",
    "\n",
    "    # plot examples by class\n",
    "    for idx, cl in enumerate(np.unique(y)):\n",
    "        plt.scatter(x=X[y == cl, 0], \n",
    "                    y=X[y == cl, 1],\n",
    "                    alpha=0.6, \n",
    "                    color=cmap(idx),\n",
    "                    edgecolor='black',\n",
    "                    marker=markers[idx], \n",
    "                    label=cl)"
   ]
  },
  {
   "cell_type": "markdown",
   "metadata": {},
   "source": [
    "<p align='justify'>Ao executar o código, veremos as regiões de decisão para os dados de treinamento reduzidas a dois eixos de componentes principais (n_components=2):</p>"
   ]
  },
  {
   "cell_type": "code",
   "execution_count": 45,
   "metadata": {},
   "outputs": [
    {
     "name": "stderr",
     "output_type": "stream",
     "text": [
      "C:\\Users\\willi\\AppData\\Local\\Temp\\ipykernel_13260\\3564363118.py:24: UserWarning: You passed a edgecolor/edgecolors ('black') for an unfilled marker ('x').  Matplotlib is ignoring the edgecolor in favor of the facecolor.  This behavior may change in the future.\n",
      "  plt.scatter(x=X[y == cl, 0],\n"
     ]
    },
    {
     "data": {
      "image/png": "[encoded data removed]",
      "text/plain": [
       "<Figure size 864x432 with 1 Axes>"
      ]
     },
     "metadata": {
      "needs_background": "light"
     },
     "output_type": "display_data"
    }
   ],
   "source": [
    "# Plotando os Gráficos dos eixos (PCA 1 - PCA 2) do conjunto de treinamento\n",
    "plt.figure(figsize=(12,6))\n",
    "plot_decision_regions(X_train_pca, y_train, classifier=lr)\n",
    "plt.xlabel('PC 1')\n",
    "plt.ylabel('PC 2')\n",
    "plt.legend(loc='lower left')\n",
    "plt.tight_layout()\n",
    "plt.show()"
   ]
  },
  {
   "cell_type": "markdown",
   "metadata": {},
   "source": [
    "<p align='justify'>Quando comparamos projeções de <i>PCA</i> via <i>scikit-learn</i> com nossa própria implementação de <i>PCA</i>, pode acontecer que os gráficos resultantes sejam imagens espelhadas um do outro. Observe que isso não se deve a um erro em nenhuma dessas duas implementações; a razão para esta diferença é que, dependendo do auto-solver, os autovetores podem ter sinais negativos ou positivos.</p>\n",
    "<p align='justify'>Não que isso importe, mas poderíamos simplesmente reverter a imagem espelhada multiplicando os dados por –1 se quiséssemos; observe que os autovetores são normalmente dimensionados para o comprimento de unidade 1. Vamos plotar as regiões de decisão da regressão logística no conjunto de dados de teste transformado para ver se ele pode separar bem as classes.</p>"
   ]
  },
  {
   "cell_type": "code",
   "execution_count": 46,
   "metadata": {},
   "outputs": [
    {
     "name": "stderr",
     "output_type": "stream",
     "text": [
      "C:\\Users\\willi\\AppData\\Local\\Temp\\ipykernel_13260\\3564363118.py:24: UserWarning: You passed a edgecolor/edgecolors ('black') for an unfilled marker ('x').  Matplotlib is ignoring the edgecolor in favor of the facecolor.  This behavior may change in the future.\n",
      "  plt.scatter(x=X[y == cl, 0],\n"
     ]
    },
    {
     "data": {
      "image/png": "[encoded data removed]",
      "text/plain": [
       "<Figure size 864x432 with 1 Axes>"
      ]
     },
     "metadata": {
      "needs_background": "light"
     },
     "output_type": "display_data"
    }
   ],
   "source": [
    "plt.figure(figsize=(12,6))\n",
    "plot_decision_regions(X_test_pca, y_test, classifier=lr)\n",
    "plt.xlabel('PC1')\n",
    "plt.ylabel('PC2')\n",
    "plt.legend(loc='lower left')\n",
    "plt.tight_layout()\n",
    "plt.show()"
   ]
  },
  {
   "cell_type": "markdown",
   "metadata": {},
   "source": [
    "<p align='justify'>Depois de plotarmos as regiões de decisão para o conjunto de dados de teste executando o código anterior, podemos ver que a regressão logística funciona muito bem nesse pequeno subespaço de recursos bidimensionais e apenas classifica incorretamente alguns exemplos no conjunto de dados de teste.</p>\n",
    "\n",
    "<p align='justify'>Se estivermos interessados nas razões de variância explicadas (<i>explained variance ratio</i>) dos diferentes componentes principais, podemos simplesmente inicializar a classe <i>PCA</i> com o parâmetro <i>n_components</i> definido como <i>None</i>, para que todos os componentes principais sejam mantidos e a razão de variância explicada possa ser acessada através do atributo <i>explain_variance_ratio_</i>."
   ]
  },
  {
   "cell_type": "code",
   "execution_count": 47,
   "metadata": {},
   "outputs": [
    {
     "data": {
      "text/plain": [
       "array([0.3695, 0.1843, 0.1182, 0.0733, 0.0642, 0.0505, 0.0395, 0.0264,\n",
       "       0.0239, 0.0163, 0.0138, 0.0117, 0.0082])"
      ]
     },
     "execution_count": 47,
     "metadata": {},
     "output_type": "execute_result"
    }
   ],
   "source": [
    "pca = PCA(n_components=None)\n",
    "X_train_pca = pca.fit_transform(X_train_std)\n",
    "pca.explained_variance_ratio_"
   ]
  },
  {
   "cell_type": "markdown",
   "metadata": {},
   "source": [
    "<p align='justify'>Observe que definimos <i>n_components=None</i> quando inicializamos a classe <i>PCA</i> para que ela retorne todos os componentes principais em uma ordem de classificação, em vez de realizar uma redução de dimensionalidade.</p>"
   ]
  },
  {
   "cell_type": "markdown",
   "metadata": {},
   "source": [
    "<h4>Compreendendo dados supervisionados por meio de Análise Discriminante Linear (<i>LDA</i>)</h4>\n",
    "\n",
    "<p align='justify'>A <i>LDA</i> pode ser usado como uma técnica de extração de características para aumentar a eficiência computacional e reduzir o grau de <i>overfitting</i> devido à <u>maldição da dimensionalidade</u> em modelos não regularizados. O conceito geral por trás do <i>LDA</i> é muito semelhante ao <i>PCA</i>, mas enquanto o <i>PCA</i> tenta encontrar os eixos de componentes ortogonais de variância máxima em um conjunto de dados, o objetivo no <i>LDA</i> é encontrar o subespaço de recursos que otimiza a separabilidade de classes. Discutiremos as semelhanças entre <i>LDA</i> e <i>PCA</i> com mais detalhes e percorreremos a abordagem <i>LDA</i> passo a passo."
   ]
  },
  {
   "cell_type": "markdown",
   "metadata": {},
   "source": [
    "<h4>Análise de componentes principais versus Análise Discriminante Linear (<i>LDA</i>)</h4>\n",
    "<p align='justify'>Tanto o <i>PCA</i> quanto o <i>LDA</i> são técnicas de transformação linear que podem ser usadas para reduzir o número de dimensões em um conjunto de dados; o primeiro é um algoritmo não supervisionado, enquanto o último é supervisionado. Assim, podemos pensar que o <i>LDA</i> é uma técnica de extração de características superior para tarefas de classificação em comparação com o <i>PCA</i>. No entanto, <i>A. M. Martinez</i> relatou que o pré-processamento via <i>PCA</i> tende a resultar em melhores resultados de classificação em uma tarefa de reconhecimento de imagem em certos casos, por exemplo, se cada classe consiste em apenas um pequeno número de exemplos.</p>\n",
    "\n",
    "<p align='justify'>A figura a seguir a esquerda, mostra o conceito de <i>PCA</i> e a figura da direita resume o conceito de <i>LDA</i> para um problema de duas classes. Os exemplos da classe 1 são mostrados como cruzes dentro de círculos azuis e os exemplos da classe 2 são mostrados como cruzes dentro de um círculo verde:</p>\n",
    "\n",
    "<p align='center'><img src=https://sebastianraschka.com/images/blog/2014/linear-discriminant-analysis/lda_1.png></p>\n",
    "\n",
    "<p align='justify'>Um discriminante linear, como mostrado no eixo x (LD 1), separaria muito bem as duas classes de distribuição normal. Embora o discriminante linear exemplar mostrado no eixo y (LD-2) capture muito da variância no conjunto de dados, ele falharia como um bom discriminante linear, pois não captura nenhuma das informações discriminatórias de classe.<p>\n",
    "<p align='justify'>Uma suposição em <i>LDA</i> é que os dados são normalmente distribuídos. Além disso, assumimos que as classes possuem matrizes de covariância idênticas e que os exemplos de treinamento são estatisticamente independentes entre si. No entanto, mesmo que uma ou mais dessas suposições seja (levemente) violada, o <i>LDA</i> para redução de dimensionalidade ainda pode funcionar razoavelmente bem (Pattern Classification 2nd Edition, R. O. Duda, P. E. Hart e D. G. Stork, Nova York, 2001).</p>\n",
    "\n"
   ]
  },
  {
   "cell_type": "markdown",
   "metadata": {},
   "source": [
    "<h4>O funcionamento interno da análise discriminante linear</h4>\n",
    "<p align='justify'>Antes de mergulharmos na implementação do código, vamos resumir brevemente as principais etapas necessárias para executar o <i>LDA</i>:</p>\n",
    "<ol>\n",
    "<li>Padronize o conjunto de dados <i>d</i>-dimensional (d é o número de recursos).</li>\n",
    "<li>Para cada classe, calcule o vetor médio <i>d</i>-dimensional.</li>\n",
    "<li>Construa a matriz de dispersão entre classes, 𝑺𝐵, e a matriz de dispersão dentro da classe, 𝑺𝑤</li>\n",
    "<li>Calcule os autovetores e os autovalores correspondentes da matriz.</li>\n",
    "<li>Classifique os autovalores em ordem decrescente para classificar os valores correspondentes autovetores.</li>\n",
    "<li>Escolha os <i>k</i> autovetores que correspondem aos <i>k</i> maiores autovalores para construir uma matriz de transformação 𝑑 × 𝑘-dimensional, <i>W</i>; os autovetores são as colunas desta matriz.</li>\n",
    "<li>Projete os exemplos no novo subespaço de recursos usando a matriz de transformação, <i>W</i>.</li>\n",
    "</ol>\n",
    "<p align='justify'>Como podemos ver, <i>LDA</i> é bastante semelhante ao <i>PCA</i> no sentido de que estamos decompondo matrizes em autovalores e autovetores, que formarão o novo espaço de características de menor dimensão. No entanto, como mencionado anteriormente, o <i>LDA</i> leva em consideração as informações do rótulo da classe, que são representadas na forma dos vetores médios calculados na etapa 2.</p>"
   ]
  },
  {
   "cell_type": "markdown",
   "metadata": {},
   "source": [
    "<h4>Calculando as matrizes de dispersão</h4>\n",
    "<p align='justify'>Como já padronizamos os recursos do conjunto de dados <i>Wine</i> na seção <i>PCA</i> no início, podemos pular a primeira etapa e prosseguir com o cálculo dos vetores médios, que usaremos para construir a matriz de dispersão dentro da classe e matriz de dispersão entre classes, respectivamente.</p>"
   ]
  },
  {
   "cell_type": "code",
   "execution_count": 48,
   "metadata": {},
   "outputs": [
    {
     "name": "stdout",
     "output_type": "stream",
     "text": [
      "MV 1: [ 0.9066 -0.3497  0.3201 -0.7189  0.5056  0.8807  0.9589 -0.5516  0.5416\n",
      "  0.2338  0.5897  0.6563  1.2075]\n",
      "\n",
      "MV 2: [-0.8749 -0.2848 -0.3735  0.3157 -0.3848 -0.0433  0.0635 -0.0946  0.0703\n",
      " -0.8286  0.3144  0.3608 -0.7253]\n",
      "\n",
      "MV 3: [ 0.1992  0.866   0.1682  0.4148 -0.0451 -1.0286 -1.2876  0.8287 -0.7795\n",
      "  0.9649 -1.209  -1.3622 -0.4013]\n",
      "\n"
     ]
    }
   ],
   "source": [
    "# Calculando os vetores médios para cada classe\n",
    "\n",
    "np.set_printoptions(precision=4)\n",
    "mean_vecs = []\n",
    "for label in range(1,4):\n",
    "    mean_vecs.append(np.mean(X_train_std[y_train==label], axis=0))\n",
    "    print('MV %s: %s\\n' %(label, mean_vecs[label-1]))"
   ]
  },
  {
   "cell_type": "code",
   "execution_count": 49,
   "metadata": {},
   "outputs": [
    {
     "name": "stdout",
     "output_type": "stream",
     "text": [
      "Matriz Scatter dentro da Classe: 13x13\n"
     ]
    }
   ],
   "source": [
    "# Usando as médias dos vetores, podemos calcular a matriz de dispersão dentro da classe.\n",
    "# Isso é calculado pela soma das matrizes de dispersão individual de cada classe individual\n",
    "\n",
    "d = 13 # número de características\n",
    "S_W = np.zeros((d, d))\n",
    "for label, mv in zip(range(1, 4), mean_vecs):\n",
    "    class_scatter = np.zeros((d, d))  # matriz scatter para cada classe\n",
    "    for row in X_train_std[y_train == label]:\n",
    "        row, mv = row.reshape(d, 1), mv.reshape(d, 1)  # faz a coluna de vetores\n",
    "        class_scatter += (row - mv).dot((row - mv).T)\n",
    "    S_W += class_scatter                          # soma as classes de matrizes scatter\n",
    "\n",
    "print('Matriz Scatter dentro da Classe: %sx%s' % (S_W.shape[0], S_W.shape[1]))"
   ]
  },
  {
   "cell_type": "markdown",
   "metadata": {},
   "source": [
    "<p align='justify'>Partimos do pressuposto que ao calcular as matrizes de dispersão os rótulos de classe no conjunto de dados de treinamento estão distribuídos uniformemente. No entanto, se verificarmos o número de rótulos de classe, vemos que esta premissa está <b>violada</b>."
   ]
  },
  {
   "cell_type": "code",
   "execution_count": 50,
   "metadata": {},
   "outputs": [
    {
     "name": "stdout",
     "output_type": "stream",
     "text": [
      "Distribuição de rótulos de classe: [41 50 33]\n"
     ]
    }
   ],
   "source": [
    "print('Distribuição de rótulos de classe: %s'  % np.bincount(y_train)[1:])"
   ]
  },
  {
   "cell_type": "markdown",
   "metadata": {},
   "source": [
    "<p align='justify'>Assim, queremos dimensionar as matrizes de dispersão individuais, antes de resumi-las como matriz de dispersão. Quando dividimos as matrizes de dispersão pelo número de exemplos de classe, podemos ver que calcular a matriz de dispersão é de fato o mesmo que calcular a matriz de covariância que é uma versão normalizada da matriz de dispersão.</p>"
   ]
  },
  {
   "cell_type": "code",
   "execution_count": 51,
   "metadata": {},
   "outputs": [
    {
     "name": "stdout",
     "output_type": "stream",
     "text": [
      "Matriz de dispersão dimensionada dentro da classe: 13x13\n"
     ]
    }
   ],
   "source": [
    "d = 13  # Número de características\n",
    "S_W = np.zeros((d, d))\n",
    "for label, mv in zip(range(1, 4), mean_vecs):\n",
    "    class_scatter = np.cov(X_train_std[y_train == label].T)\n",
    "    S_W += class_scatter\n",
    "print('Matriz de dispersão dimensionada dentro da classe: %sx%s' % (S_W.shape[0],\n",
    "                                                     S_W.shape[1]))"
   ]
  },
  {
   "cell_type": "code",
   "execution_count": 52,
   "metadata": {},
   "outputs": [
    {
     "name": "stdout",
     "output_type": "stream",
     "text": [
      "Matriz de dispersão entre classes: 13x13\n"
     ]
    }
   ],
   "source": [
    "# Depois de calcularmos a matriz de dispersão dentro da classe (ou matriz de covariância),\n",
    "# podemos passar para a próxima etapa e calcular a matriz de dispersão entre classes 𝑺𝑩\n",
    "\n",
    "mean_overall = np.mean(X_train_std, axis=0) # m é a média geral que é calculada, incluindo exemplos de todas as classes C\n",
    "d = 13 # Número de características\n",
    "S_B = np.zeros((d, d))\n",
    "\n",
    "for i, mean_vec in enumerate(mean_vecs):\n",
    "    n = X_train_std[y_train == i + 1, :].shape[0]\n",
    "    mean_vec = mean_vec.reshape(d, 1)  # Construindo a coluna do vetor\n",
    "    mean_overall = mean_overall.reshape(d, 1)  # Construindo a coluna do vetor\n",
    "    S_B += n * (mean_vec - mean_overall).dot((mean_vec - mean_overall).T)\n",
    "\n",
    "print('Matriz de dispersão entre classes: %sx%s' % (S_B.shape[0], S_B.shape[1]))"
   ]
  },
  {
   "cell_type": "markdown",
   "metadata": {},
   "source": [
    "<h4>Selecionando discriminantes lineares para o novo subespaço de características</h4>\n",
    "<p align='justify'>As etapas restantes do <i>LDA</i> são semelhantes às etapas do <i>PCA</i>. No entanto, em vez de realizar a autodecomposição na matriz de covariância, resolvemos o problema generalizado de autovalor da matriz."
   ]
  },
  {
   "cell_type": "code",
   "execution_count": 53,
   "metadata": {},
   "outputs": [
    {
     "name": "stdout",
     "output_type": "stream",
     "text": [
      "Autovalores em ordem decrescentes:\n",
      "\n",
      "349.61780890599397\n",
      "172.76152218979385\n",
      "8.083700457542382e-14\n",
      "3.5021010787077537e-14\n",
      "2.5591387869466297e-14\n",
      "2.5591387869466297e-14\n",
      "1.1800646330824407e-14\n",
      "9.54558150994035e-15\n",
      "9.465678066411808e-15\n",
      "9.465678066411808e-15\n",
      "5.830160026378068e-15\n",
      "3.71723684807219e-15\n",
      "1.788037173519217e-15\n"
     ]
    }
   ],
   "source": [
    "eigen_vals, eigen_vecs = np.linalg.eig(np.linalg.inv(S_W).dot(S_B))\n",
    "\n",
    "# eigen_vals, eigen_vecs = np.linalg.eigh(np.linalg.inv(S_W).dot(S_B))\n",
    "# Seria melhor usar numpy.linalg.eigh nesses casos, que foi projetado para matrizes herméticas. O último sempre retorna autovalores reais.\n",
    "\n",
    "\n",
    "# Depois de calcularmos os pares próprios, podemos ordenar os valores próprios em ordem decrescente\n",
    "# Faça uma lista de tuplas (autovalor, autovetor)\n",
    "eigen_pairs = [(np.abs(eigen_vals[i]), eigen_vecs[:, i])\n",
    "               for i in range(len(eigen_vals))]\n",
    "\n",
    "# Ordene as tuplas (autovalor, autovetor) de cima pra baixo\n",
    "eigen_pairs = sorted(eigen_pairs, key=lambda k: k[0], reverse=True)\n",
    "\n",
    "# Visualize para confirmar que a lista está corretamente ordenada pelos autovalores decrescentes\n",
    "\n",
    "print('Autovalores em ordem decrescentes:\\n')\n",
    "for eigen_val in eigen_pairs:\n",
    "    print(eigen_val[0])"
   ]
  },
  {
   "cell_type": "markdown",
   "metadata": {},
   "source": [
    "<blockquote>\n",
    "<h5>Colinearidade</h5>\n",
    "<p align='justify'>Observe que no caso raro de colinearidade perfeita (todos os pontos de exemplo alinhados caem em uma linha reta), a matriz de covariância teria classificação um, o que resultaria em apenas um autovetor com um autovalor diferente de zero.</p>\n",
    "</blockquote>"
   ]
  },
  {
   "cell_type": "markdown",
   "metadata": {},
   "source": [
    "<p align='justify'>Para medir quanto da informação discriminatória de classe é capturada pelos discriminantes lineares (vetores próprios), vamos plotar os discriminantes lineares diminuindo os valores próprios, semelhante ao gráfico de variância explicado que criamos quando falamos de <i>PCA</i>. Para simplificar, chamaremos o conteúdo de discriminabilidade de informações <b>discriminatórias</b> de classe.</p>"
   ]
  },
  {
   "cell_type": "code",
   "execution_count": 55,
   "metadata": {},
   "outputs": [
    {
     "data": {
      "image/png": "[encoded data removed]",
      "text/plain": [
       "<Figure size 864x432 with 1 Axes>"
      ]
     },
     "metadata": {
      "needs_background": "light"
     },
     "output_type": "display_data"
    }
   ],
   "source": [
    "tot = sum(eigen_vals.real)\n",
    "discr = [(i / tot) for i in sorted(eigen_vals.real, reverse=True)]\n",
    "cum_discr = np.cumsum(discr)\n",
    "\n",
    "plt.figure(figsize=(12,6))\n",
    "plt.bar(range(1, 14), discr, alpha=0.5, align='center',\n",
    "        label='Individual \"discriminability\"')\n",
    "plt.step(range(1, 14), cum_discr, where='mid',\n",
    "         label='Cumulative \"discriminability\"')\n",
    "plt.ylabel('\"Discriminability\" ratio')\n",
    "plt.xlabel('Linear discriminants')\n",
    "plt.ylim([-0.1, 1.1])\n",
    "plt.legend(loc='best')\n",
    "plt.tight_layout()\n",
    "\n",
    "plt.show()"
   ]
  },
  {
   "cell_type": "markdown",
   "metadata": {},
   "source": [
    "<p align='justify'>Como podemos ver na figura resultante, os dois primeiros discriminantes lineares sozinhos capturam <b>100% das informações</b> úteis no conjunto de dados de treinamento do <i>Wine</i>.</p>"
   ]
  },
  {
   "cell_type": "code",
   "execution_count": 59,
   "metadata": {},
   "outputs": [
    {
     "name": "stdout",
     "output_type": "stream",
     "text": [
      "Matrix W:\n",
      " [[-0.1481 -0.4092]\n",
      " [ 0.0908 -0.1577]\n",
      " [-0.0168 -0.3537]\n",
      " [ 0.1484  0.3223]\n",
      " [-0.0163 -0.0817]\n",
      " [ 0.1913  0.0842]\n",
      " [-0.7338  0.2823]\n",
      " [-0.075  -0.0102]\n",
      " [ 0.0018  0.0907]\n",
      " [ 0.294  -0.2152]\n",
      " [-0.0328  0.2747]\n",
      " [-0.3547 -0.0124]\n",
      " [-0.3915 -0.5958]]\n"
     ]
    }
   ],
   "source": [
    "# Vamos agora empilhar as duas colunas de autovetores mais discriminativas para criar a matriz de transformação, W:\n",
    "\n",
    "w = np.hstack((eigen_pairs[0][1][:, np.newaxis].real,\n",
    "              eigen_pairs[1][1][:, np.newaxis].real))\n",
    "print('Matrix W:\\n', w)"
   ]
  },
  {
   "cell_type": "markdown",
   "metadata": {},
   "source": [
    "<h4>Projetando exemplos no novo espaço de recursos</h4>\n",
    "<p align='justify'>Usando a matriz de transformação, <i>W</i>, que criamos na subseção anterior, agora podemos transformar o conjunto de dados de treinamento multiplicando as matrizes.</p>"
   ]
  },
  {
   "cell_type": "code",
   "execution_count": 61,
   "metadata": {},
   "outputs": [
    {
     "data": {
      "image/png": "[encoded data removed]",
      "text/plain": [
       "<Figure size 864x432 with 1 Axes>"
      ]
     },
     "metadata": {
      "needs_background": "light"
     },
     "output_type": "display_data"
    }
   ],
   "source": [
    "X_train_lda = X_train_std.dot(w)\n",
    "colors = ['r', 'b', 'g']\n",
    "markers = ['s', 'x', 'o']\n",
    "\n",
    "plt.figure(figsize=(12,6))\n",
    "for l, c, m in zip(np.unique(y_train), colors, markers):\n",
    "    plt.scatter(X_train_lda[y_train == l, 0],\n",
    "                X_train_lda[y_train == l, 1] * (-1),\n",
    "                c=c, label=l, marker=m)\n",
    "\n",
    "plt.xlabel('LD 1')\n",
    "plt.ylabel('LD 2')\n",
    "plt.legend(loc='lower right')\n",
    "plt.tight_layout()\n",
    "\n",
    "plt.show()"
   ]
  },
  {
   "cell_type": "markdown",
   "metadata": {},
   "source": [
    "<p align='justify'>Como podemos ver no gráfico resultante, as três classes <i>Wine</i> agora são perfeitamente separáveis linearmente no novo subespaço de recursos.</p>"
   ]
  },
  {
   "cell_type": "markdown",
   "metadata": {},
   "source": [
    "<h4>LDA via scikit-learn</h4>\n",
    "<p align='justify'>Essa implementação passo a passo foi um bom exercício para entender o funcionamento interno de um <i>LDA</i> e entender as diferenças entre <i>LDA</i> e <i>PCA</i>. Agora, vamos ver a classe <i>LDA</i> implementada no <i>scikit-learn</i>.</p>"
   ]
  },
  {
   "cell_type": "code",
   "execution_count": 66,
   "metadata": {},
   "outputs": [
    {
     "data": {
      "image/png": "[encoded data removed]",
      "text/plain": [
       "<Figure size 864x432 with 1 Axes>"
      ]
     },
     "metadata": {
      "needs_background": "light"
     },
     "output_type": "display_data"
    }
   ],
   "source": [
    "from sklearn.discriminant_analysis import LinearDiscriminantAnalysis as LDA\n",
    "\n",
    "# Instanciando a Classe LDA\n",
    "lda = LDA(n_components=2)\n",
    "\n",
    "X_train_lda = lda.fit_transform(X_train_std, y_train)\n",
    "\n",
    "\n",
    "# Em seguida, vamos ver como o classificador de regressão logística lida com o conjunto de dados de treinamento de \n",
    "# dimensão inferior após a transformação LDA\n",
    "\n",
    "lr = LogisticRegression(multi_class='ovr',\n",
    "                            random_state=1,\n",
    "                            solver='lbfgs')\n",
    "lr = lr.fit(X_train_lda,y_train)\n",
    "\n",
    "# Plotando as regiões de Decisão\n",
    "from mlxtend.plotting import plot_decision_regions\n",
    "plt.figure(figsize=(12,6))\n",
    "plot_decision_regions(X_train_lda,y_train,clf=lr)\n",
    "plt.xlabel('LD 1')\n",
    "plt.ylabel('LD 2')\n",
    "plt.legend(loc='lower left')\n",
    "plt.tight_layout()\n",
    "plt.show()"
   ]
  },
  {
   "cell_type": "markdown",
   "metadata": {},
   "source": [
    "<p align='justify'>Ao diminuir a força da regularização, provavelmente poderíamos mudar os limites de decisão para que o modelo de regressão logística classifique todos os exemplos no conjunto de dados de treinamento corretamente. No entanto, e mais importante, vamos dar uma olhada nos resultados no conjunto de dados de teste.</p>"
   ]
  },
  {
   "cell_type": "code",
   "execution_count": 69,
   "metadata": {},
   "outputs": [
    {
     "data": {
      "image/png": "[encoded data removed]",
      "text/plain": [
       "<Figure size 864x432 with 1 Axes>"
      ]
     },
     "metadata": {
      "needs_background": "light"
     },
     "output_type": "display_data"
    }
   ],
   "source": [
    "X_test_lda = lda.transform(X_test_std)\n",
    "plt.figure(figsize=(12,6))\n",
    "plot_decision_regions(X_test_lda, y_test, clf=lr)\n",
    "plt.xlabel('LD 1')\n",
    "plt.ylabel('LD 2')\n",
    "plt.legend(loc='lower left')\n",
    "plt.tight_layout()\n",
    "plt.show()"
   ]
  },
  {
   "cell_type": "markdown",
   "metadata": {},
   "source": [
    "<p align='justify'>Como podemos ver no gráfico acima, o classificador de regressão logística foi capaz de obter uma pontuação de precisão perfeita para classificar os exemplos no conjunto de dados de teste usando apenas um subespaço de recursos bidimensionais, em vez dos 13 recursos originais do conjunto de dados <i>Wine</i>.</p>"
   ]
  }
 ],
 "metadata": {
  "interpreter": {
   "hash": "f8bbe703e4409461e5c1796f0c401e26e62f32801f1a5b19455b89c31c613fbe"
  },
  "kernelspec": {
   "display_name": "Python 3.9.7 ('base')",
   "language": "python",
   "name": "python3"
  },
  "language_info": {
   "codemirror_mode": {
    "name": "ipython",
    "version": 3
   },
   "file_extension": ".py",
   "mimetype": "text/x-python",
   "name": "python",
   "nbconvert_exporter": "python",
   "pygments_lexer": "ipython3",
   "version": "3.9.7"
  },
  "orig_nbformat": 4
 },
 "nbformat": 4,
 "nbformat_minor": 2
}
