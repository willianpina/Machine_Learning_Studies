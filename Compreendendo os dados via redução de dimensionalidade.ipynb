{
 "cells": [
  {
   "cell_type": "markdown",
   "metadata": {},
   "source": [
    "<h1 align='center'>Compreendendo os dados via redução de dimensionalidade</h1>\n",
    "\n",
    "<p align='center'><img src=https://hidden.brutalk.com/wp-content/uploads/2021/02/Introduccion-a-la-reduccion-de-dimensionalidad-para-el-aprendizaje-automatico.jpg  width=600 heigth=600></p>"
   ]
  }
 ],
 "metadata": {
  "interpreter": {
   "hash": "f8bbe703e4409461e5c1796f0c401e26e62f32801f1a5b19455b89c31c613fbe"
  },
  "kernelspec": {
   "display_name": "Python 3.9.7 ('base')",
   "language": "python",
   "name": "python3"
  },
  "language_info": {
   "name": "python",
   "version": "3.9.7"
  },
  "orig_nbformat": 4
 },
 "nbformat": 4,
 "nbformat_minor": 2
}
