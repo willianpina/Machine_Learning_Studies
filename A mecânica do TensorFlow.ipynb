{
 "cells": [
  {
   "cell_type": "markdown",
   "metadata": {
    "pycharm": {
     "name": "#%% md\n"
    }
   },
   "source": [
    "<h1 align=center>Indo mais fundo – A mecânica do TensorFlow</h1>\n",
    "<p align=center><img src=https://cdn.shortpixel.ai/spai/w_912+q_+ret_img+to_webp/https://iaexpert.academy/wp-content/uploads/2021/01/26.01.png width = 500></p>\n",
    "\n",
    "Agora que temos alguma experiência prática com treinamento de uma Rede Neural (RN) do *TensorFlow* e aprendizado de máquina, é hora de mergulhar mais fundo na biblioteca do *TensorFlow* e explorar seu rico conjunto de recursos, o que nos permitirá implementar um aprendizado profundo mais avançado modelos nas próximas etapas.\n",
    "\n",
    "Usaremos diferentes aspectos da API do *TensorFlow* para implementar as RNs. Em particular, usaremos novamente a API *Keras*, que fornece várias camadas de abstração para tornar a implementação de arquiteturas padrão muito conveniente. O *TensorFlow* também nos permite implementar camadas RNs personalizadas, o que é muito útil em projetos orientados à pesquisa que exigem mais personalização. Mais adiante, implementaremos essa camada personalizada.\n",
    "\n",
    "Para ilustrar as diferentes formas de construção de modelos usando a API *Keras*, também consideraremos o problema clássico **exclusivo ou (XOR)**. Primeiramente, construiremos perceptrons multicamadas usando a classe `Sequential`. Em seguida, consideraremos outros métodos, como subclassificar `tf.keras.Model` para definir camadas personalizadas. Por fim, abordaremos o `tf.estimator`, uma API *TensorFlow* de alto nível que encapsula as etapas de aprendizado de máquina da entrada bruta à previsão.\n",
    "\n",
    "### Como criar um gráfico no *TensorFlow* v1.x\n",
    "Na versão anterior da API de baixo nível do *TensorFlow* (v1.x), esse gráfico precisava ser declarado explicitamente. As etapas individuais para criar, compilar e avaliar esse gráfico de computação no *TensorFlow* v1.x são as seguintes:\n",
    "1. Instanciar um novo gráfico de computação vazio\n",
    "2. Adicione nós (tensores e operações) ao gráfico de computação\n",
    "3. Avalie (execute) o gráfico:\n",
    "* Iniciar uma nova sessão\n",
    "* Inicialize as variáveis ​​no gráfico\n",
    "* Execute o gráfico de computação nesta sessão\n",
    "\n",
    "Antes de darmos uma olhada na abordagem dinâmica no *TensorFlow* v2, vamos ver um exemplo simples que ilustra como criar um gráfico no *TensorFlow* v1.x para calcular $\\small z = 2 \\times (a-b) + c$. As variáveis $​​\\small a$, $​​\\small b$ e $​​\\small c$ são escalares (números únicos) e definimos como constantes do *TensorFlow*. Um gráfico pode então ser criado chamando `tf.Graph()`. As variáveis, assim como os cálculos, representam os nós do gráfico, que definiremos da seguinte forma:"
   ]
  },
  {
   "cell_type": "code",
   "execution_count": 1,
   "metadata": {
    "pycharm": {
     "name": "#%%\n"
    }
   },
   "outputs": [
    {
     "name": "stderr",
     "output_type": "stream",
     "text": [
      "WARNING:root:Limited tf.compat.v2.summary API due to missing TensorBoard installation.\n",
      "WARNING:root:Limited tf.compat.v2.summary API due to missing TensorBoard installation.\n",
      "WARNING:root:Limited tf.compat.v2.summary API due to missing TensorBoard installation.\n",
      "WARNING:root:Limited tf.summary API due to missing TensorBoard installation.\n",
      "WARNING:root:Limited tf.compat.v2.summary API due to missing TensorBoard installation.\n",
      "WARNING:root:Limited tf.compat.v2.summary API due to missing TensorBoard installation.\n",
      "WARNING:root:Limited tf.compat.v2.summary API due to missing TensorBoard installation.\n"
     ]
    }
   ],
   "source": [
    "import logging\n",
    "import tensorflow as tf\n",
    "logging.getLogger(\"tensorflow\").setLevel(logging.ERROR)\n",
    "tf.autograph.set_verbosity(0)"
   ]
  },
  {
   "cell_type": "code",
   "execution_count": 2,
   "metadata": {
    "pycharm": {
     "name": "#%%\n"
    }
   },
   "outputs": [],
   "source": [
    "## TF v1.x style\n",
    "import tensorflow as tf\n",
    "g = tf.Graph()\n",
    "\n",
    "with g.as_default():\n",
    "    a = tf.constant(1, name='a')\n",
    "    b = tf.constant(2, name='b')\n",
    "    c = tf.constant(3, name='c')\n",
    "    z = 2*(a-b) + c\n"
   ]
  },
  {
   "cell_type": "markdown",
   "metadata": {
    "pycharm": {
     "name": "#%% md\n"
    }
   },
   "source": [
    "Neste código, primeiro definimos o gráfico `g` via `g=tf.Graph()`. Em seguida, adicionamos nós ao gráfico, `g`, usando com `g.as_default()`. No entanto, observe que, se não criarmos um gráfico explicitamente, sempre haverá um gráfico padrão ao qual variáveis ​​e cálculos serão adicionados automaticamente.\n",
    "\n",
    "No *TensorFlow* v1.x, uma sessão é um ambiente no qual as operações e os tensores de um gráfico podem ser executados. A classe `Session` foi removida do *TensorFlow* v2; No entanto, por enquanto, ele ainda está disponível por meio do submódulo `tf.compat` para permitir a compatibilidade com o *TensorFlow* v1.x. Um objeto de sessão pode ser criado chamando `tf.compat.v1.Session()`, que pode receber um gráfico existente (no caso, `g`) como argumento, como em `Session(graph=g)`.\n",
    "\n",
    "Após lançar um gráfico em uma sessão do *TensorFlow*, podemos executar seus nós, ou seja, avaliar seus tensores ou executar seus operadores. Avaliar cada tensor individual envolve chamar seu método `eval()` dentro da sessão atual. Ao avaliar um tensor específico no gráfico, o *TensorFlow* precisa executar todos os nós anteriores no gráfico até atingir o nó de interesse fornecido. Caso haja uma ou mais variáveis *​​placeholder*, também precisamos fornecer valores para elas através do método `run` da sessão, como veremos mais adiante.\n",
    "\n",
    "Depois de definir o gráfico estático no trecho de código anterior, podemos executar o gráfico em uma sessão do *TensorFlow* e avaliar o tensor, `z`, da seguinte forma:"
   ]
  },
  {
   "cell_type": "code",
   "execution_count": 3,
   "metadata": {
    "pycharm": {
     "name": "#%%\n"
    }
   },
   "outputs": [
    {
     "name": "stdout",
     "output_type": "stream",
     "text": [
      "Result: z =  1\n"
     ]
    }
   ],
   "source": [
    "## TF v1.x style\n",
    "\n",
    "with tf.compat.v1.Session(graph=g) as sess:\n",
    "    print('Result: z = ', sess.run(z))"
   ]
  },
  {
   "cell_type": "markdown",
   "metadata": {
    "pycharm": {
     "name": "#%% md\n"
    }
   },
   "source": [
    "### Como migrar um gráfico para o *TensorFlow* v2\n",
    "\n",
    "Em seguida, vamos ver como esse código pode ser migrado para o *TensorFlow* v2. O *TensorFlow* v2 usa gráficos dinâmicos (em oposição aos estáticos) por padrão (isso também é chamado de execução antecipada no *TensorFlow*), o que nos permite avaliar uma operação em tempo real. Portanto, não precisamos criar explicitamente um gráfico e uma sessão, o que torna o fluxo de trabalho de desenvolvimento muito mais conveniente:"
   ]
  },
  {
   "cell_type": "code",
   "execution_count": 4,
   "metadata": {
    "pycharm": {
     "name": "#%%\n"
    }
   },
   "outputs": [
    {
     "name": "stdout",
     "output_type": "stream",
     "text": [
      "Result: z =  1\n"
     ]
    }
   ],
   "source": [
    "## TF v2 Style\n",
    "a = tf.constant(1, name='a')\n",
    "b = tf.constant(2, name='b')\n",
    "c = tf.constant(3, name='c')\n",
    "\n",
    "z = 2*(a - b) + c\n",
    "\n",
    "tf.print('Result: z = ', z)\n",
    "\n"
   ]
  },
  {
   "cell_type": "markdown",
   "metadata": {
    "pycharm": {
     "name": "#%% md\n"
    }
   },
   "source": [
    "### Carregando dados de entrada em um modelo: estilo *TensorFlow* v1.x\n",
    "\n",
    "Outra melhoria importante do *TensorFlow* v1.x para v2 diz respeito a como os dados podem ser carregados em nossos modelos. No *TensorFlow* v2, podemos alimentar dados diretamente na forma de variáveis *Python* ou arrays *NumPy*. No entanto, ao usar a API de baixo nível do *TensorFlow* v1.x, tivemos que criar variáveis de espaço reservado para fornecer dados de entrada a um modelo. Para o exemplo de gráfico de computação simples anterior, $\\small z = 2 \\times (a-b) + c$, vamos supor que `a`, `b` e `c` são os tensores de entrada de *Rank* 0. Podemos então definir três espaços reservados, que usaremos para \"feed\" dados para o modelo por meio de um dicionário *feed_dict*, da seguinte forma:"
   ]
  },
  {
   "cell_type": "code",
   "execution_count": 5,
   "metadata": {
    "pycharm": {
     "name": "#%%\n"
    }
   },
   "outputs": [
    {
     "name": "stdout",
     "output_type": "stream",
     "text": [
      "Result: z = 1\n"
     ]
    }
   ],
   "source": [
    "## TF-v1.x style\n",
    "g = tf.Graph()\n",
    "with g.as_default():\n",
    "    a = tf.compat.v1.placeholder(shape=None, dtype=tf.int32, name='tf_a')\n",
    "    b = tf.compat.v1.placeholder(shape=None, dtype=tf.int32, name='tf_b')\n",
    "    c = tf.compat.v1.placeholder(shape=None, dtype=tf.int32, name='tf_c')\n",
    "    z = 2*(a - b) + c\n",
    "    \n",
    "with tf.compat.v1.Session(graph=g) as sess:\n",
    "    feed_dict = {a:1, b:2, c:3}\n",
    "    print('Result: z =', sess.run(z, feed_dict=feed_dict))"
   ]
  },
  {
   "cell_type": "markdown",
   "metadata": {
    "pycharm": {
     "name": "#%% md\n"
    }
   },
   "source": [
    "### Carregando dados de entrada em um modelo: estilo *TensorFlow* v2\n",
    "\n",
    "No *TensorFlow* v2, tudo isso pode ser feito simplesmente definindo uma função *Python* regular com `a`, `b` e `c` como seus argumentos de entrada, por exemplo:"
   ]
  },
  {
   "cell_type": "code",
   "execution_count": 6,
   "metadata": {
    "pycharm": {
     "name": "#%%\n"
    }
   },
   "outputs": [],
   "source": [
    "## TF-v2 style\n",
    "def compute_z(a, b, c):\n",
    "    r1 = tf.subtract(a, b)\n",
    "    r2 = tf.multiply(2, r1)\n",
    "    z = tf.add(r2, c)\n",
    "    return z"
   ]
  },
  {
   "cell_type": "markdown",
   "metadata": {
    "pycharm": {
     "name": "#%% md\n"
    }
   },
   "source": [
    "Agora, para realizar o cálculo, podemos simplesmente chamar essa função com objetos `Tensor` como argumentos de função. Observe que as funções do *TensorFlow*, como `add`, `subtract` e `multiply`, também nos permitem fornecer entradas de classificações mais altas na forma de um objeto *TensorFlow* `Tensor`, um array *NumPy* ou possivelmente outros objetos *Python*, como listas e tuplas. No exemplo de código a seguir, fornecemos entradas escalares (*Rank* 0), bem como entradas de *Rank* 1 e *Rank* 2, como listas:"
   ]
  },
  {
   "cell_type": "code",
   "execution_count": 7,
   "metadata": {
    "pycharm": {
     "name": "#%%\n"
    }
   },
   "outputs": [
    {
     "name": "stdout",
     "output_type": "stream",
     "text": [
      "Scalar Inputs: 1\n",
      "Rank 1 Inputs: [1]\n",
      "Rank 2 Inputs: [[1]]\n"
     ]
    }
   ],
   "source": [
    "tf.print('Scalar Inputs:', compute_z(1, 2, 3))\n",
    "tf.print('Rank 1 Inputs:', compute_z([1], [2], [3]))\n",
    "tf.print('Rank 2 Inputs:', compute_z([[1]], [[2]], [[3]]))"
   ]
  },
  {
   "cell_type": "markdown",
   "metadata": {
    "pycharm": {
     "name": "#%% md\n"
    }
   },
   "source": [
    "### Melhorando o desempenho computacional com decoradores de função\n",
    "\n",
    "Como você viu na seção anterior, podemos escrever facilmente uma função *Python* normal e utilizar as operações do *TensorFlow*. No entanto, os cálculos por meio do modo de execução antecipada (gráfico dinâmico) não são tão eficientes quanto a execução de gráfico estático no *TensorFlow* v1.x. Assim, o *TensorFlow* v2 fornece uma ferramenta chamada **AutoGraph** que pode transformar automaticamente o código *Python* no código gráfico do *TensorFlow* para uma execução mais rápida. Além disso, o *TensorFlow* fornece um mecanismo simples para compilar uma função *Python* normal em um gráfico estático do *TensorFlow* para tornar os cálculos mais eficientes.\n",
    "\n",
    "Para ver como isso funciona na prática, vamos trabalhar com nossa função `compute_z` anterior e anotá-la para compilação de gráfico usando o decorador `@tf.function`:"
   ]
  },
  {
   "cell_type": "code",
   "execution_count": 8,
   "metadata": {
    "pycharm": {
     "name": "#%%\n"
    }
   },
   "outputs": [],
   "source": [
    "@tf.function\n",
    "def compute_z(a, b, c):\n",
    "    r1 = tf.subtract(a, b)\n",
    "    r2 = tf.multiply(2, r1)\n",
    "    z = tf.add(r2, c)\n",
    "    return z"
   ]
  },
  {
   "cell_type": "markdown",
   "metadata": {
    "pycharm": {
     "name": "#%% md\n"
    }
   },
   "source": [
    "Observe que podemos usar e chamar essa função da mesma maneira que antes, mas agora o *TensorFlow* construirá um gráfico estático com base nos argumentos de entrada. *Python* suporta tipagem dinâmica e polimorfismo, então podemos definir uma função como `def f(a, b): return a+b` e chame-a usando entradas de *inteiro*, *float*, *list* ou *string* (lembre-se de que `a+b` é um valor válido operação para listas e *strings*). Embora os gráficos do *TensorFlow* exijam tipos e formas estáticos, o `tf.function` oferece suporte a esse recurso de digitação dinâmica. Por exemplo, vamos chamar esta função com as seguintes entradas:"
   ]
  },
  {
   "cell_type": "code",
   "execution_count": 9,
   "metadata": {
    "pycharm": {
     "name": "#%%\n"
    }
   },
   "outputs": [
    {
     "name": "stdout",
     "output_type": "stream",
     "text": [
      "Scalar Inputs: 1\n",
      "Rank 1 Inputs: [1]\n",
      "Rank 2 Inputs: [[1]]\n"
     ]
    }
   ],
   "source": [
    "tf.print('Scalar Inputs:', compute_z(1, 2, 3))\n",
    "tf.print('Rank 1 Inputs:', compute_z([1], [2], [3]))\n",
    "tf.print('Rank 2 Inputs:', compute_z([[1]], [[2]], [[3]]))"
   ]
  },
  {
   "cell_type": "markdown",
   "metadata": {
    "pycharm": {
     "name": "#%% md\n"
    }
   },
   "source": [
    "Veja que foi produzido as mesmas saídas de antes. Aqui, o *TensorFlow* usa um mecanismo de rastreamento para construir um gráfico com base nos argumentos de entrada. Para esse mecanismo de rastreamento, o *TensorFlow* gera uma tupla de chaves com base nas assinaturas de entrada fornecidas para chamar a função. As chaves geradas são as seguintes:\n",
    "\n",
    "* Para argumentos `tf.Tensor`, a chave é baseada em seus *shapes* e *dtypes*.\n",
    "* Para tipos *Python*, como listas, seu `id()` é usado para gerar chaves de cache.\n",
    "* Para valores primitivos do *Python*, as chaves de cache são baseadas nos valores de entrada.\n",
    "\n",
    "Ao chamar essa função decorada, o *TensorFlow* verificará se um gráfico com a chave correspondente já foi gerado. Se esse gráfico não existir, o *TensorFlow* gerará um novo gráfico e armazenará a nova chave. Por outro lado, se quisermos limitar a forma como uma função pode ser chamada, podemos especificar sua assinatura de entrada por meio de uma tupla de objetos `tf.TensorSpec` ao definir a função. Por exemplo, vamos redefinir a função anterior, `compute_z`, e especificar que apenas tensores de rank 1 do tipo `tf.int32` são permitidos:"
   ]
  },
  {
   "cell_type": "code",
   "execution_count": 10,
   "metadata": {
    "pycharm": {
     "name": "#%%\n"
    }
   },
   "outputs": [],
   "source": [
    "@tf.function(input_signature=(tf.TensorSpec(shape=[None], dtype=tf.int32),\n",
    "                              tf.TensorSpec(shape=[None], dtype=tf.int32),\n",
    "                              tf.TensorSpec(shape=[None], dtype=tf.int32),))\n",
    "def compute_z(a, b, c):\n",
    "    r1 = tf.subtract(a, b)\n",
    "    r2 = tf.multiply(2, r1)\n",
    "    z = tf.add(r2, c)\n",
    "    return z"
   ]
  },
  {
   "cell_type": "markdown",
   "metadata": {
    "pycharm": {
     "name": "#%% md\n"
    }
   },
   "source": [
    "Agora, podemos chamar esta função usando tensores de rank 1 (ou listas que podem ser convertidas em tensores de rank 1):"
   ]
  },
  {
   "cell_type": "code",
   "execution_count": 11,
   "metadata": {
    "pycharm": {
     "name": "#%%\n"
    }
   },
   "outputs": [
    {
     "name": "stdout",
     "output_type": "stream",
     "text": [
      "Rank 1 Inputs: [1]\n",
      "Rank 1 Inputs: [1 2]\n"
     ]
    }
   ],
   "source": [
    "tf.print('Rank 1 Inputs:', compute_z([1], [2], [3]))\n",
    "tf.print('Rank 1 Inputs:', compute_z([1, 2], [2, 4], [3, 6]))"
   ]
  },
  {
   "cell_type": "markdown",
   "metadata": {
    "pycharm": {
     "name": "#%% md\n"
    }
   },
   "source": [
    "No entanto, chamar essa função usando tensores com classificações diferentes de 1 resultará em um erro, pois a classificação não corresponderá à assinatura de entrada especificada, conforme a seguir:"
   ]
  },
  {
   "cell_type": "code",
   "execution_count": 12,
   "metadata": {
    "pycharm": {
     "name": "#%%\n"
    }
   },
   "outputs": [
    {
     "data": {
      "text/plain": [
       "' ValueError: Python inputs incompatible with input_signature:\\n  inputs: (\\n    1,\\n    2,\\n    3)\\n  input_signature: (\\n    TensorSpec(shape=(None,), dtype=tf.int32, name=None),\\n    TensorSpec(shape=(None,), dtype=tf.int32, name=None),\\n    TensorSpec(shape=(None,), dtype=tf.int32, name=None)).'"
      ]
     },
     "execution_count": 12,
     "metadata": {},
     "output_type": "execute_result"
    }
   ],
   "source": [
    "#tf.print('Rank 0 Inputs:', compute_z(1, 2, 3))\n",
    "\n",
    "# Gera um erro\n",
    "''' ValueError: Python inputs incompatible with input_signature:\n",
    "  inputs: (\n",
    "    1,\n",
    "    2,\n",
    "    3)\n",
    "  input_signature: (\n",
    "    TensorSpec(shape=(None,), dtype=tf.int32, name=None),\n",
    "    TensorSpec(shape=(None,), dtype=tf.int32, name=None),\n",
    "    TensorSpec(shape=(None,), dtype=tf.int32, name=None)).'''"
   ]
  },
  {
   "cell_type": "code",
   "execution_count": 13,
   "metadata": {
    "pycharm": {
     "name": "#%%\n"
    }
   },
   "outputs": [
    {
     "data": {
      "text/plain": [
       "'\"\\nValueError: Python inputs incompatible with input_signature:\\n  inputs: (\\n    [[1], [2]],\\n    [[2], [4]],\\n    [[3], [6]])\\n  input_signature: (\\n    TensorSpec(shape=(None,), dtype=tf.int32, name=None),\\n    TensorSpec(shape=(None,), dtype=tf.int32, name=None),\\n    TensorSpec(shape=(None,), dtype=tf.int32, name=None)).\\n'"
      ]
     },
     "execution_count": 13,
     "metadata": {},
     "output_type": "execute_result"
    }
   ],
   "source": [
    "#tf.print('Rank 2 Inputs:', compute_z([[1], [2]], [[2], [4]], [[3], [6]]))\n",
    "\n",
    "\"\"\"\"\n",
    "ValueError: Python inputs incompatible with input_signature:\n",
    "  inputs: (\n",
    "    [[1], [2]],\n",
    "    [[2], [4]],\n",
    "    [[3], [6]])\n",
    "  input_signature: (\n",
    "    TensorSpec(shape=(None,), dtype=tf.int32, name=None),\n",
    "    TensorSpec(shape=(None,), dtype=tf.int32, name=None),\n",
    "    TensorSpec(shape=(None,), dtype=tf.int32, name=None)).\n",
    "\"\"\""
   ]
  },
  {
   "cell_type": "markdown",
   "metadata": {
    "pycharm": {
     "name": "#%% md\n"
    }
   },
   "source": [
    "### Objetos variáveis do *TensorFlow* para armazenar e atualizar os parâmetros do modelo\n",
    "\n",
    "No contexto do *TensorFlow*, uma `Variable` é um objeto Tensor especial que nos permite armazenar e atualizar os parâmetros de nossos modelos durante o treinamento. Um `Variable` pode ser criada apenas chamando a classe `tf.Variable` em valores iniciais especificados pelo usuário. No código a seguir, vamos gerar objetos `Variable` do tipo `float32`, `int32`, `bool` e `string`:"
   ]
  },
  {
   "cell_type": "code",
   "execution_count": 14,
   "metadata": {
    "pycharm": {
     "name": "#%%\n"
    }
   },
   "outputs": [
    {
     "name": "stdout",
     "output_type": "stream",
     "text": [
      "<tf.Variable 'var_a:0' shape=() dtype=float32, numpy=3.14>\n",
      "<tf.Variable 'var_b:0' shape=(3,) dtype=int32, numpy=array([1, 2, 3])>\n",
      "<tf.Variable 'Variable:0' shape=(2,) dtype=bool, numpy=array([ True, False])>\n",
      "<tf.Variable 'Variable:0' shape=(1,) dtype=string, numpy=array([b'abc'], dtype=object)>\n"
     ]
    }
   ],
   "source": [
    "a = tf.Variable(initial_value=3.14, name='var_a')\n",
    "b = tf.Variable(initial_value=[1, 2, 3], name='var_b')\n",
    "c = tf.Variable(initial_value=[True, False], dtype=tf.bool)\n",
    "d = tf.Variable(initial_value=['abc'], dtype=tf.string)\n",
    "print(a)\n",
    "print(b)\n",
    "print(c)\n",
    "print(d)"
   ]
  },
  {
   "cell_type": "markdown",
   "metadata": {
    "pycharm": {
     "name": "#%% md\n"
    }
   },
   "source": [
    "Observe que sempre temos que fornecer os valores iniciais ao criar um `Variable`. As variáveis têm um atributo chamado `treinable`, que, por padrão, é definido como `True`. APIs de nível superior, como *Keras*, usarão esse atributo para gerenciar as variáveis treináveis e não treináveis. Você pode definir um `Variable` não treinável da seguinte forma:"
   ]
  },
  {
   "cell_type": "code",
   "execution_count": 15,
   "metadata": {
    "pycharm": {
     "name": "#%%\n"
    }
   },
   "outputs": [
    {
     "name": "stdout",
     "output_type": "stream",
     "text": [
      "False\n"
     ]
    }
   ],
   "source": [
    "w = tf.Variable([1,2,3], trainable=False)\n",
    "\n",
    "print(w.trainable)"
   ]
  },
  {
   "cell_type": "markdown",
   "metadata": {
    "pycharm": {
     "name": "#%% md\n"
    }
   },
   "source": [
    "Os valores de um `Variable` podem ser modificados de forma eficiente executando algumas operações como `.assign()`, `.assign_add()` e métodos relacionados. Vejamos alguns exemplos:"
   ]
  },
  {
   "cell_type": "code",
   "execution_count": 16,
   "metadata": {
    "pycharm": {
     "name": "#%%\n"
    }
   },
   "outputs": [
    {
     "name": "stdout",
     "output_type": "stream",
     "text": [
      "<tf.Variable 'UnreadVariable' shape=(3,) dtype=int32, numpy=array([3, 1, 4])>\n"
     ]
    }
   ],
   "source": [
    "print(w.assign([3,1,4], read_value=True))"
   ]
  },
  {
   "cell_type": "code",
   "execution_count": 17,
   "metadata": {
    "pycharm": {
     "name": "#%%\n"
    }
   },
   "outputs": [
    {
     "name": "stdout",
     "output_type": "stream",
     "text": [
      "tf.Tensor([5 0 6], shape=(3,), dtype=int32)\n"
     ]
    }
   ],
   "source": [
    "w.assign_add([2,-1,2], read_value=False)\n",
    "\n",
    "print(w.value())"
   ]
  },
  {
   "cell_type": "markdown",
   "metadata": {
    "pycharm": {
     "name": "#%% md\n"
    }
   },
   "source": [
    "Quando o argumento `read_value` estiver definido como `True` (que também é o padrão), essas operações retornarão automaticamente os novos valores após atualizar os valores atuais da `Variable`. Definir o `read_value` como `False` suprimirá o retorno automático do valor atualizado (mas a `Variable` ainda será atualizada no local). Chamar `w.value()` retornará os valores em um formato de tensor. Observe que não podemos alterar a forma ou o tipo da `Variable` durante a atribuição.\n",
    "\n",
    "Você deve se lembrar de que, para modelos de Rede Neural, é necessário inicializar os parâmetros do modelo com pesos aleatórios para quebrar a simetria durante a retropropagação - caso contrário, uma RN multicamada não seria mais útil do que uma RN de camada única, como regressão logística. Ao criar uma variável do *TensorFlow*, também podemos usar um esquema de inicialização aleatório. O *TensorFlow* pode gerar números aleatórios com base em várias distribuições via `tf.random`.\n",
    "\n",
    "No exemplo a seguir, veremos alguns métodos de inicialização padrão que também estão disponíveis no *Keras*. Então, vamos ver como podemos criar uma `Variable` com inicialização *Glorot*, que é um esquema clássico de inicialização aleatória que foi proposto por Xavier Glorot e Yoshua Bengio. Para isso, criamos um operador chamado `init` como objeto da classe `GlorotNormal`. Então, chamamos esse operador e fornecemos a forma desejada do tensor de saída:"
   ]
  },
  {
   "cell_type": "code",
   "execution_count": 18,
   "metadata": {
    "pycharm": {
     "name": "#%%\n"
    }
   },
   "outputs": [
    {
     "name": "stdout",
     "output_type": "stream",
     "text": [
      "[-0.722795904 1.01456821 0.251808226]\n"
     ]
    }
   ],
   "source": [
    "tf.random.set_seed(1)\n",
    "init = tf.keras.initializers.GlorotNormal()\n",
    "\n",
    "tf.print(init(shape=(3,)))"
   ]
  },
  {
   "cell_type": "markdown",
   "metadata": {
    "pycharm": {
     "name": "#%% md\n"
    }
   },
   "source": [
    "Agora, podemos usar este operador para inicializar uma `Variable` de formato 2 × 3 :"
   ]
  },
  {
   "cell_type": "code",
   "execution_count": 19,
   "metadata": {
    "pycharm": {
     "name": "#%%\n"
    }
   },
   "outputs": [
    {
     "name": "stdout",
     "output_type": "stream",
     "text": [
      "[[0.28982234 -0.782292783 -0.0453658961]\n",
      " [0.960991383 -0.120003454 0.708528221]]\n"
     ]
    }
   ],
   "source": [
    "v = tf.Variable(init(shape=(2, 3)))\n",
    "tf.print(v)"
   ]
  },
  {
   "cell_type": "markdown",
   "metadata": {
    "pycharm": {
     "name": "#%% md\n"
    }
   },
   "source": [
    "Agora, para colocar isso no contexto de um caso de uso mais prático, vamos ver como podemos definir uma `Variable` dentro da classe base `tf.Module`. Vamos definir duas variáveis: uma treinável e uma não treinável:"
   ]
  },
  {
   "cell_type": "code",
   "execution_count": 20,
   "metadata": {
    "pycharm": {
     "name": "#%%\n"
    }
   },
   "outputs": [
    {
     "name": "stdout",
     "output_type": "stream",
     "text": [
      "All module variables: [TensorShape([2, 3]), TensorShape([1, 2])]\n",
      "Trainable variable:   [TensorShape([2, 3])]\n"
     ]
    }
   ],
   "source": [
    "class MyModule (tf.Module):\n",
    "    def __init__(self):\n",
    "        init = tf.keras.initializers.GlorotNormal()\n",
    "        self.w1 = tf.Variable(init(shape=(2,3)),\n",
    "                                    trainable=True)\n",
    "        self.w2 = tf.Variable(init(shape=(1,2)),\n",
    "                                trainable = False)\n",
    "\n",
    "m = MyModule()\n",
    "\n",
    "print('All module variables:', [v.shape for v in m.variables])\n",
    "\n",
    "print('Trainable variable:  ', [v.shape for v in m.trainable_variables])\n",
    "\n"
   ]
  },
  {
   "cell_type": "markdown",
   "metadata": {
    "pycharm": {
     "name": "#%% md\n"
    }
   },
   "source": [
    "Como você pode ver neste exemplo de código, a subclasse da classe `tf.Module` nos dá acesso direto a todas as variáveis definidas em um determinado objeto (aqui, uma instância de nossa classe `MyModule` personalizada) por meio do atributo `.variables`.\n",
    "\n",
    "Finalmente, vamos ver como usar variáveis dentro de uma função decorada com `tf.function`. Quando definimos uma `Variable` do TensorFlow dentro de uma função normal (não decorada), podemos esperar que uma nova `Variable` seja criada e inicializada toda vez que a função for chamada. No entanto, `tf.function` tentará reutilizar a `Variable` com base no rastreamento e na criação do gráfico. Portanto, o *TensorFlow* não permite a criação de uma `Variable` dentro de uma função decorada e, como resultado, o código a seguir gerará um erro:"
   ]
  },
  {
   "cell_type": "code",
   "execution_count": 21,
   "metadata": {
    "pycharm": {
     "name": "#%%\n"
    }
   },
   "outputs": [
    {
     "data": {
      "text/plain": [
       "'\"\\n@tf.function\\ndef f(x):\\n    w = tf.Variable([1,2,3])\\n\\nf([1])\\n\\n'"
      ]
     },
     "execution_count": 21,
     "metadata": {},
     "output_type": "execute_result"
    }
   ],
   "source": [
    "\"\"\"\"\n",
    "@tf.function\n",
    "def f(x):\n",
    "    w = tf.Variable([1,2,3])\n",
    "\n",
    "f([1])\n",
    "\n",
    "\"\"\""
   ]
  },
  {
   "cell_type": "markdown",
   "metadata": {
    "pycharm": {
     "name": "#%% md\n"
    }
   },
   "source": [
    "Uma maneira de evitar esse problema é definir a variável fora da função decorada e usá-la dentro da função:"
   ]
  },
  {
   "cell_type": "code",
   "execution_count": 22,
   "metadata": {
    "pycharm": {
     "name": "#%%\n"
    }
   },
   "outputs": [
    {
     "name": "stdout",
     "output_type": "stream",
     "text": [
      "[[1.20935762]\n",
      " [3.89828062]\n",
      " [1.65398622]]\n"
     ]
    }
   ],
   "source": [
    "w = tf.Variable(tf.random.uniform((3, 3)))\n",
    "\n",
    "@ tf.function\n",
    "def compute_z(x):\n",
    "    return tf.matmul(w , x)\n",
    "\n",
    "x = tf.constant([[1], [2], [3]], dtype=tf.float32)\n",
    "\n",
    "tf.print(compute_z(x))"
   ]
  },
  {
   "cell_type": "markdown",
   "metadata": {
    "pycharm": {
     "name": "#%% md\n"
    }
   },
   "source": [
    "### Computação de gradientes via diferenciação automática e *GradientTape*\n",
    "\n",
    "Como você já sabe, otimizar RNs requer calcular os gradientes do custo em relação aos pesos da Rn. Isso é necessário para algoritmos de otimização, como gradiente descendente estocástico (SGD). Além disso, os gradientes têm outras aplicações, como diagnosticar a rede para descobrir por que um modelo de RN está fazendo uma previsão específica para um exemplo de teste. Portanto, nesta seção, abordaremos como calcular gradientes de uma computação em relação a algumas variáveis.\n",
    "\n",
    "### Calculando os gradientes da perda em relação às variáveis ​​treináveis\n",
    "\n",
    "O *TensorFlow* oferece suporte à **diferenciação automática**, que pode ser considerada uma implementação da regra da cadeia para calcular gradientes de funções aninhadas. Quando definimos uma série de operações que resultam em alguma saída ou mesmo tensores intermediários, o *TensorFlow* fornece um contexto para calcular gradientes desses tensores calculados em relação a seus nós dependentes no gráfico de computação. Para calcular esses gradientes, temos que \"gravar\" os cálculos via `tf.GradientTape`.\n",
    "\n",
    "Vamos trabalhar com um exemplo simples onde vamos calcular $\\small z = wx + b$ e definir a perda como a perda ao quadrado entre o alvo e a previsão, $\\small Loss = (y - z)^2$. No caso mais geral, onde podemos ter várias previsões e metas, calcule a perda como a soma do erro ao quadrado, $\\small Loss = \\sum_i(y_i - z_i)^2$. Para implementar esse cálculo no *TensorFlow*, vamos definir os parâmetros do modelo, $\\small w$ e $\\small b$, como variáveis, e as entradas $\\small x$ e $\\small y$, como tensores. Colocaremos o cálculo de $\\small z$ e a perda dentro do contexto `tf.GradientTape`:"
   ]
  },
  {
   "cell_type": "code",
   "execution_count": 23,
   "metadata": {
    "pycharm": {
     "name": "#%%\n"
    }
   },
   "outputs": [
    {
     "name": "stdout",
     "output_type": "stream",
     "text": [
      "True True\n"
     ]
    }
   ],
   "source": [
    "import tensorflow as tf\n",
    "\n",
    "w = tf.Variable(1.0)\n",
    "b = tf.Variable(0.5)\n",
    "print(w.trainable, b.trainable)"
   ]
  },
  {
   "cell_type": "code",
   "execution_count": 24,
   "metadata": {
    "pycharm": {
     "name": "#%%\n"
    }
   },
   "outputs": [
    {
     "name": "stdout",
     "output_type": "stream",
     "text": [
      "dL/dw :  -0.559999764\n"
     ]
    }
   ],
   "source": [
    "x = tf.convert_to_tensor([1.4])\n",
    "y = tf.convert_to_tensor([2.1])\n",
    "\n",
    "with tf.GradientTape() as tape:\n",
    "    z = tf.add(tf.multiply(w, x), b)\n",
    "    loss = tf.reduce_sum(tf.square(y - z))\n",
    "\n",
    "dloss_dw = tape.gradient(loss, w)\n",
    "\n",
    "tf.print('dL/dw : ', dloss_dw)"
   ]
  },
  {
   "cell_type": "markdown",
   "metadata": {
    "pycharm": {
     "name": "#%% md\n"
    }
   },
   "source": [
    "Ao calcular o valor $\\small z$, podemos pensar nas operações necessárias, que gravamos na \"gradient tape\", como uma passagem para frente em uma RN. Usamos `tape.gradient` para calcular $\\small \\dfrac{\\partial Loss}{\\partial w}$ . Como este é um exemplo muito simples, podemos obter as derivadas, $\\small \\dfrac {\\partial Loss}{\\partial w} = 2x(wx + b - y)$, simbolicamente para verificar que os gradientes calculados obtivemos no exemplo de código anterior:"
   ]
  },
  {
   "cell_type": "code",
   "execution_count": 25,
   "metadata": {
    "pycharm": {
     "name": "#%%\n"
    }
   },
   "outputs": [
    {
     "name": "stdout",
     "output_type": "stream",
     "text": [
      "[-0.559999764]\n"
     ]
    }
   ],
   "source": [
    "# verifying the computed gradient\n",
    "tf.print(2*x*(w*x  + b - y))"
   ]
  },
  {
   "cell_type": "markdown",
   "metadata": {
    "pycharm": {
     "name": "#%% md\n"
    }
   },
   "source": [
    "### Computação de gradientes em relação a tensores não treináveis\n",
    "\n",
    "`tf.GradientTape` suporta automaticamente os gradientes para variáveis treináveis. No entanto, para variáveis não treináveis e outros objetos `Tensor`, precisamos adicionar uma modificação adicional ao `GradientTape` chamada `tape.watch()` para monitorá-los também. Por exemplo, se estivermos interessados em calcular $\\small \\dfrac {\\partial Loss}{\\partial x}$ , o código será o seguinte:"
   ]
  },
  {
   "cell_type": "code",
   "execution_count": 26,
   "metadata": {
    "pycharm": {
     "name": "#%%\n"
    }
   },
   "outputs": [
    {
     "name": "stdout",
     "output_type": "stream",
     "text": [
      "dL/dx: [-0.399999857]\n"
     ]
    }
   ],
   "source": [
    "with tf.GradientTape() as tape:\n",
    "    tape.watch(x)\n",
    "    z = tf.add(tf.multiply(w, x), b)\n",
    "    loss = tf.square(y - z)\n",
    "\n",
    "dloss_dx = tape.gradient(loss, x)\n",
    "\n",
    "tf.print('dL/dx:', dloss_dx)"
   ]
  },
  {
   "cell_type": "code",
   "execution_count": 27,
   "metadata": {
    "pycharm": {
     "name": "#%%\n"
    }
   },
   "outputs": [
    {
     "name": "stdout",
     "output_type": "stream",
     "text": [
      "[-0.399999857]\n"
     ]
    }
   ],
   "source": [
    "# verifying the computed gradient\n",
    "tf.print(2*w * ((w*x + b) - y))"
   ]
  },
  {
   "cell_type": "markdown",
   "metadata": {
    "pycharm": {
     "name": "#%% md\n"
    }
   },
   "source": [
    "### Mantendo recursos para vários cálculos de gradiente\n",
    "Quando monitoramos os cálculos no contexto de`tf.GradientTape`, por padrão, a fita manterá os recursos apenas para um único cálculo de gradiente. Por exemplo, após chamar `tape.gradient()` uma vez, os recursos serão liberados e a fita será limpa. Portanto, se quisermos calcular mais de um gradiente, por exemplo, ambos $\\small \\dfrac {\\partial Loss}{\\partial w}$ e $\\small \\dfrac {\\partial Loss}{\\partial b}$ , precisamos tornar a fita persistente:"
   ]
  },
  {
   "cell_type": "code",
   "execution_count": 28,
   "metadata": {
    "pycharm": {
     "name": "#%%\n"
    }
   },
   "outputs": [
    {
     "name": "stdout",
     "output_type": "stream",
     "text": [
      "dL/dw: -0.559999764\n",
      "dL/db: -0.399999857\n"
     ]
    }
   ],
   "source": [
    "with tf.GradientTape(persistent=True) as tape:\n",
    "    z = tf.add(tf.multiply(w, x), b)\n",
    "    loss = tf.reduce_sum(tf.square(y - z))\n",
    "\n",
    "dloss_dw = tape.gradient(loss, w)\n",
    "dloss_db = tape.gradient(loss, b)\n",
    "\n",
    "tf.print('dL/dw:', dloss_dw)\n",
    "tf.print('dL/db:', dloss_db)"
   ]
  },
  {
   "cell_type": "code",
   "execution_count": 29,
   "metadata": {
    "pycharm": {
     "name": "#%%\n"
    }
   },
   "outputs": [
    {
     "name": "stdout",
     "output_type": "stream",
     "text": [
      "[-0.559999764]\n"
     ]
    }
   ],
   "source": [
    "tf.print(2*x * ((w*x + b) - y))"
   ]
  },
  {
   "cell_type": "markdown",
   "metadata": {
    "pycharm": {
     "name": "#%% md\n"
    }
   },
   "source": [
    "No entanto, lembre-se de que isso só é necessário quando queremos calcular mais de um gradiente, pois gravar e manter a fita gradiente é menos eficiente em termos de memória em comparação com liberar a memória após um único cálculo de gradiente. É também por isso que a configuração padrão é `persistent=False`.\n",
    "\n",
    "Finalmente, se estivermos computando gradientes de um termo de perda em relação aos parâmetros de um modelo, podemos definir um otimizador e aplicar os gradientes para otimizar os parâmetros do modelo usando a API `tf.keras`, como segue:"
   ]
  },
  {
   "cell_type": "code",
   "execution_count": 30,
   "metadata": {
    "pycharm": {
     "name": "#%%\n"
    }
   },
   "outputs": [
    {
     "name": "stdout",
     "output_type": "stream",
     "text": [
      "Updated w: 1.0056\n",
      "Updated bias: 0.504\n"
     ]
    }
   ],
   "source": [
    "optimizer = tf.keras.optimizers.SGD()\n",
    "\n",
    "optimizer.apply_gradients(zip([dloss_dw, dloss_db], [w, b]))\n",
    "\n",
    "tf.print('Updated w:', w)\n",
    "tf.print('Updated bias:', b)"
   ]
  },
  {
   "cell_type": "markdown",
   "metadata": {
    "pycharm": {
     "name": "#%% md\n"
    }
   },
   "source": [
    "Você deve se lembrar que o peso inicial e a unidade de viés eram $\\small w$ = 1,0 e $\\small b$ = 0,5, e a aplicação dos gradientes da perda em relação aos parâmetros do modelo mudou os parâmetros do modelo para $\\small w$ = 1,0056 e $\\small b$ = 0,504.\n",
    "\n",
    "### Simplificando implementações de arquiteturas comuns por meio da API *Keras*\n",
    "Você já viu alguns exemplos de construção de um modelo de RN *feedforward* (por exemplo, um *perceptron* multicamadas) e definição de uma sequência de camadas usando a classe `Sequential` do *Keras*. Antes de examinarmos diferentes abordagens para configurar essas camadas, vamos recapitular brevemente as etapas básicas construindo um modelo com duas camadas densamente (totalmente) conectadas:"
   ]
  },
  {
   "cell_type": "code",
   "execution_count": 31,
   "metadata": {
    "pycharm": {
     "name": "#%%\n"
    }
   },
   "outputs": [
    {
     "name": "stdout",
     "output_type": "stream",
     "text": [
      "Model: \"sequential\"\n",
      "_________________________________________________________________\n",
      " Layer (type)                Output Shape              Param #   \n",
      "=================================================================\n",
      " dense (Dense)               (None, 16)                80        \n",
      "                                                                 \n",
      " dense_1 (Dense)             (None, 32)                544       \n",
      "                                                                 \n",
      "=================================================================\n",
      "Total params: 624\n",
      "Trainable params: 624\n",
      "Non-trainable params: 0\n",
      "_________________________________________________________________\n"
     ]
    }
   ],
   "source": [
    "model = tf.keras.Sequential()\n",
    "model.add(tf.keras.layers.Dense(units=16, activation='relu'))\n",
    "model.add(tf.keras.layers.Dense(units=32, activation='relu'))\n",
    "\n",
    "# late variable creation\n",
    "\n",
    "model.build(input_shape=(None,4))\n",
    "model.summary()"
   ]
  },
  {
   "cell_type": "markdown",
   "metadata": {
    "pycharm": {
     "name": "#%% md\n"
    }
   },
   "source": [
    "Especificamos a forma de entrada com `model.build()`, instanciando as variáveis após definir o modelo para essa forma específica. O número de parâmetros de cada camada é exibido: $\\small 16 × 4 + 16 = 80$ para a primeira camada e $\\small 16 × 32 + 32 = 544$ para a segunda camada. Depois que as variáveis (ou parâmetros do modelo) são criadas, podemos acessar as variáveis treináveis e não treináveis da seguinte forma:"
   ]
  },
  {
   "cell_type": "code",
   "execution_count": 32,
   "metadata": {
    "pycharm": {
     "name": "#%%\n"
    }
   },
   "outputs": [
    {
     "name": "stdout",
     "output_type": "stream",
     "text": [
      "dense/kernel:0       True (4, 16)\n",
      "dense/bias:0         True (16,)\n",
      "dense_1/kernel:0     True (16, 32)\n",
      "dense_1/bias:0       True (32,)\n"
     ]
    }
   ],
   "source": [
    "# Apresentado as variáveis do modelo.\n",
    "for v in model.variables:\n",
    "    print('{:20s}'.format(v.name), v.trainable, v.shape)"
   ]
  },
  {
   "cell_type": "markdown",
   "metadata": {
    "pycharm": {
     "name": "#%% md\n"
    }
   },
   "source": [
    "Nesse caso, cada camada possui uma matriz de pesos chamada `kernel`, bem como um vetor de polarização.\n",
    "\n",
    "Em seguida, vamos configurar essas camadas, por exemplo, aplicando diferentes funções de ativação, inicializadores de variáveis ou métodos de regularização aos parâmetros. Uma lista abrangente e completa de opções disponíveis para essas categorias pode ser encontrada na documentação oficial:\n",
    "\n",
    "* Escolhendo funções de ativação via `tf.keras.activations`: https://www.tensorflow.org/versions/r2.0/api_docs/python/tf/keras/ativactions\n",
    "* Inicializando os parâmetros da camada via `tf.keras.initializers`: https://www.tensorflow.org/versions/r2.0/api_docs/python/tf/keras/initializers\n",
    "* Aplicando regularização aos parâmetros da camada (para evitar *overfitting*) via `tf.keras.regularizers`: https://www.tensorflow.org/versions/r2.0/api_docs/python/tf/keras/regularizers\n",
    "\n",
    "No exemplo de código a seguir, configuraremos a primeira camada especificando inicializadores para as variáveis kernel e bias. Em seguida, configuraremos a segunda camada especificando um regularizador L1 para o kernel (matriz de peso):"
   ]
  },
  {
   "cell_type": "code",
   "execution_count": 33,
   "metadata": {
    "pycharm": {
     "name": "#%%\n"
    }
   },
   "outputs": [],
   "source": [
    "model = tf.keras.Sequential()\n",
    "model.add(\n",
    "        tf.keras.layers.Dense(\n",
    "            units=16,\n",
    "            activation = tf.keras.activations.relu,\n",
    "            kernel_initializer = tf.keras.initializers.GlorotUniform(),\n",
    "            bias_initializer = tf.keras.initializers.Constant(2.0)\n",
    "        )\n",
    ")\n",
    "\n",
    "model.add(\n",
    "    tf.keras.layers.Dense(\n",
    "        units = 32,\n",
    "        activation=tf.keras.activations.sigmoid,\n",
    "        kernel_regularizer=tf.keras.regularizers.l1\n",
    "    )\n",
    ")"
   ]
  },
  {
   "cell_type": "markdown",
   "metadata": {
    "pycharm": {
     "name": "#%% md\n"
    }
   },
   "source": [
    "Além disso, além de configurar as camadas individuais, também podemos configurar o modelo ao compilá-lo. Podemos especificar o tipo de otimizador e a função de perda para treinamento, bem como quais métricas usar para relatar o desempenho nos conjuntos de dados de treinamento, validação e teste. Novamente, uma lista abrangente de todas as opções disponíveis pode ser encontrada na documentação oficial:\n",
    "* Otimizadores via tf.keras.optimizers: https://www.tensorflow.org/versões/r2.0/api_docs/python/tf/keras/optimizers\n",
    "* Funções de perda via tf.keras.losses: https://www.tensorflow.org/versões/r2.0/api_docs/python/tf/keras/losses\n",
    "* Métricas de desempenho via tf.keras.metrics: https://www.tensorflow.org/versions/r2.0/api_docs/python/tf/keras/metrics\n",
    "\n",
    "> ##### Escolhendo uma função de perda\n",
    "> Em relação às escolhas de algoritmos de otimização, *SGD* e *Adam* são os métodos mais utilizados. A escolha da função de perda depende da tarefa; por exemplo, você pode usar a perda de erro quadrático médio para um problema de regressão. A família de funções de perda de entropia cruzada fornece as opções possíveis para tarefas de classificação.\n",
    "> \n",
    "> Além disso, você pode usar as técnicas que aprendeu antes (por exemplo, técnicas para avaliação de modelos) combinadas com as métricas apropriadas para o problema. Por exemplo, *precision* e *recall*, *accuracy*, área sob a curva (AUC) e pontuações de falso negativo e falso positivo são métricas apropriadas para avaliar modelos de classificação.\n",
    "\n",
    "Neste exemplo, compilaremos o modelo usando o otimizador *SGD*, perda de entropia cruzada para classificação binária e uma lista específica de métricas, incluindo *precision* e *recall*, *accuracy*:"
   ]
  },
  {
   "cell_type": "code",
   "execution_count": 34,
   "metadata": {
    "pycharm": {
     "name": "#%%\n"
    }
   },
   "outputs": [],
   "source": [
    "model.compile(\n",
    "    optimizer=tf.keras.optimizers.SGD(learning_rate=0.001),\n",
    "    loss=tf.keras.losses.BinaryCrossentropy(),\n",
    "    metrics=[tf.keras.metrics.Accuracy(),\n",
    "    tf.keras.metrics.Precision(),\n",
    "    tf.keras.metrics.Recall()]\n",
    ")"
   ]
  },
  {
   "cell_type": "markdown",
   "metadata": {
    "pycharm": {
     "name": "#%% md\n"
    }
   },
   "source": [
    "Quando treinamos este modelo chamando `model.fit(...)`, será retornado o histórico da perda e as métricas especificadas para avaliar o desempenho do treinamento e validação (se for usado um conjunto de dados de validação), que pode ser usado para diagnosticar o comportamento de aprendizagem.\n",
    "\n",
    "A seguir, veremos um exemplo mais prático: resolvendo o problema clássico de classificação $\\small XOR$ usando a API *Keras*. Primeiro, usaremos a classe `tf.keras.Sequential()` para construir o modelo. Ao longo do caminho, você também aprenderá sobre a capacidade de um modelo para lidar com limites de decisão não lineares. Em seguida, abordaremos outras formas de construir um modelo que nos dará mais flexibilidade e controle sobre as camadas da rede.\n",
    "\n",
    "### Resolvendo um problema de classificação XOR\n",
    "O problema de classificação $\\small XOR$ é um problema clássico para analisar a capacidade de um modelo em capturar o limite de decisão não linear entre duas classes. Geramos um conjunto de dados fictício de 200 exemplos de treinamento com dois recursos ($\\small x_0$, $\\small x_1$) extraídos de uma distribuição uniforme entre [−1,1) . Em seguida, atribuímos o rótulo de verdade do terreno para o exemplo de treinamento $\\small i$ de acordo com a seguinte regra:\n",
    "\n",
    "$$\n",
    "y^{(i)} =\n",
    "\\begin{cases}\n",
    "0 \\quad \\text{if $x_0^{(i)} \\times x_1^{(i)}<$0}\\\\\n",
    "1 \\quad \\text{otherwise}\n",
    "\\end{cases}\n",
    "$$\n",
    "\n",
    "Usaremos metade dos dados (100 exemplos de treinamento) para treinamento e a metade restante para validação. O código para gerar os dados e dividi-los nos conjuntos de dados de treinamento e validação é o seguinte:\n"
   ]
  },
  {
   "cell_type": "code",
   "execution_count": 35,
   "metadata": {
    "pycharm": {
     "name": "#%%\n"
    }
   },
   "outputs": [
    {
     "data": {
      "image/png": "[encoded data removed]",
      "text/plain": [
       "<Figure size 720x576 with 1 Axes>"
      ]
     },
     "metadata": {
      "needs_background": "light"
     },
     "output_type": "display_data"
    }
   ],
   "source": [
    "import numpy as np\n",
    "import matplotlib.pyplot as plt\n",
    "tf.random.set_seed(1)\n",
    "np.random.seed(1)\n",
    "\n",
    "x = np.random.uniform(low=-1, high=1, size=(200, 2))\n",
    "y = np.ones(len(x))\n",
    "y[x[:, 0] * x[:, 1]<0] = 0\n",
    "\n",
    "x_train = x[:100, :]\n",
    "y_train = y[:100]\n",
    "x_valid = x[100:, :]\n",
    "y_valid = y[100:]\n",
    "\n",
    "fig = plt.figure(figsize=(10, 8))\n",
    "plt.plot(x[y==0, 0], \n",
    "         x[y==0, 1], 'o', alpha=0.75, markersize=10)\n",
    "plt.plot(x[y==1, 0], \n",
    "         x[y==1, 1], '<', alpha=0.75, markersize=10)\n",
    "plt.xlabel(r'$x_1$', size=15)\n",
    "plt.ylabel(r'$x_2$', size=15)\n",
    "plt.show()"
   ]
  },
  {
   "cell_type": "markdown",
   "metadata": {
    "pycharm": {
     "name": "#%% md\n"
    }
   },
   "source": [
    "Na subseção anterior, abordamos as ferramentas essenciais necessárias para implementar um classificador no *TensorFlow*. Agora precisamos decidir qual arquitetura devemos escolher para essa tarefa e o conjunto de dados. Como regra geral, quanto mais camadas tivermos, e quanto mais neurônios tivermos em cada camada, maior será a capacidade do modelo. Aqui, a capacidade do modelo pode ser pensada como uma medida de quão prontamente o modelo pode aproximar funções complexas. Embora ter mais parâmetros signifique que a rede pode ajustar a funções mais complexas, modelos maiores geralmente são mais difíceis de treinar (e propensos a *overfitting*).\n",
    "\n",
    "Na prática, é sempre uma boa ideia começar com um modelo simples como linha de base, por exemplo, uma RN de camada única como regressão logística:"
   ]
  },
  {
   "cell_type": "code",
   "execution_count": 36,
   "metadata": {
    "pycharm": {
     "name": "#%%\n"
    }
   },
   "outputs": [
    {
     "name": "stdout",
     "output_type": "stream",
     "text": [
      "Model: \"sequential_2\"\n",
      "_________________________________________________________________\n",
      " Layer (type)                Output Shape              Param #   \n",
      "=================================================================\n",
      " dense_4 (Dense)             (None, 1)                 3         \n",
      "                                                                 \n",
      "=================================================================\n",
      "Total params: 3\n",
      "Trainable params: 3\n",
      "Non-trainable params: 0\n",
      "_________________________________________________________________\n"
     ]
    }
   ],
   "source": [
    "model = tf.keras.Sequential()\n",
    "model.add(tf.keras.layers.Dense(units=1,\n",
    "                input_shape=(2,),\n",
    "                activation='sigmoid'))\n",
    "\n",
    "model.summary()"
   ]
  },
  {
   "cell_type": "markdown",
   "metadata": {
    "pycharm": {
     "name": "#%% md\n"
    }
   },
   "source": [
    "O tamanho total dos parâmetros para este modelo de regressão logística simples é 3: uma matriz de peso (ou kernel) de tamanho 2 × 1 e um vetor de viés de tamanho 1. Após definir o modelo, vamos compilar o modelo e treiná-lo por 200 épocas usando um tamanho de lote de 2:"
   ]
  },
  {
   "cell_type": "code",
   "execution_count": 37,
   "metadata": {
    "pycharm": {
     "name": "#%%\n"
    }
   },
   "outputs": [],
   "source": [
    "model.compile(optimizer=tf.keras.optimizers.SGD(),\n",
    "                        loss=tf.keras.losses.BinaryCrossentropy(),\n",
    "                        metrics=[tf.keras.metrics.BinaryAccuracy()])\n",
    "\n",
    "hist = model.fit(x_train, y_train,\n",
    "                    validation_data=(x_valid, y_valid),\n",
    "                    epochs=200, batch_size=2,\n",
    "                    verbose=0)"
   ]
  },
  {
   "cell_type": "markdown",
   "metadata": {
    "pycharm": {
     "name": "#%% md\n"
    }
   },
   "source": [
    "Observe que `model.fit()` retorna um histórico de épocas de treinamento, o que é útil para inspeção visual após o treinamento. No código a seguir, plotaremos as curvas de aprendizado, incluindo a perda de treinamento e validação, bem como suas acurácias.\n",
    "\n",
    "Também usaremos a biblioteca `MLxtend` para visualizar os dados de validação e o limite de decisão."
   ]
  },
  {
   "cell_type": "code",
   "execution_count": 38,
   "metadata": {
    "pycharm": {
     "name": "#%%\n"
    }
   },
   "outputs": [
    {
     "data": {
      "image/png": "[encoded data removed]",
      "text/plain": [
       "<Figure size 1152x288 with 3 Axes>"
      ]
     },
     "metadata": {
      "needs_background": "light"
     },
     "output_type": "display_data"
    }
   ],
   "source": [
    "from mlxtend.plotting import plot_decision_regions\n",
    "history = hist.history\n",
    "fig = plt.figure(figsize=(16, 4))\n",
    "\n",
    "ax = fig.add_subplot(1, 3, 1)\n",
    "plt.plot(history['loss'], lw=4)\n",
    "plt.plot(history['val_loss'], lw=4)\n",
    "plt.legend(['Train loss', 'Validation loss'], fontsize=15)\n",
    "ax.set_xlabel('Epochs', size=15)\n",
    "\n",
    "ax = fig.add_subplot(1, 3, 2)\n",
    "plt.plot(history['binary_accuracy'], lw=4)\n",
    "plt.plot(history['val_binary_accuracy'], lw=4)\n",
    "plt.legend(['Train Acc.', 'Validation Acc.'], fontsize=15)\n",
    "ax.set_xlabel('Epochs', size=15)\n",
    "\n",
    "ax = fig.add_subplot(1, 3, 3)\n",
    "plot_decision_regions(X=x_valid, y=y_valid.astype(np.int32),\n",
    "                        clf=model)\n",
    "ax.set_xlabel(r'$x_1$', size=15)\n",
    "ax.xaxis.set_label_coords(1, -0.025)\n",
    "ax.set_ylabel(r'$x_2$', size=15)\n",
    "ax.yaxis.set_label_coords(-0.025, 1)\n",
    "plt.show()"
   ]
  },
  {
   "cell_type": "markdown",
   "metadata": {
    "pycharm": {
     "name": "#%% md\n"
    }
   },
   "source": [
    "Acima o resultado apresentou uma plotagem com três painéis separados para as perdas, precisões e o gráfico de dispersão dos exemplos de validação, juntamente com o limite de decisão.\n",
    "\n",
    "Como você pode ver, um modelo simples sem camada oculta **só pode derivar um limite de decisão linear**, que é incapaz de resolver o problema $\\small XOR$. Como consequência, podemos observar que os termos de perda para os conjuntos de dados de treinamento e validação são muito altos e a precisão da classificação é muito baixa.\n",
    "\n",
    "Para derivar um limite de decisão não linear, podemos adicionar uma ou mais camadas ocultas conectadas por meio de funções de ativação não lineares. O teorema da aproximação universal afirma que uma RN *feedforward* com uma única camada oculta e um número relativamente grande de unidades ocultas pode aproximar relativamente bem as funções contínuas arbitrárias. Assim, uma abordagem para o problema $\\small XOR$, de forma mais satisfatória, é adicionar uma camada oculta e comparar diferentes números de unidades ocultas até observarmos resultados satisfatórios no conjunto de dados de validação. Adicionar mais unidades ocultas corresponderia a aumentar a largura de uma camada.\n",
    "\n",
    "Alternativamente, também podemos adicionar mais camadas ocultas, o que tornará o modelo mais profundo. A vantagem de tornar uma rede mais profunda em vez de mais ampla é que são necessários menos parâmetros para atingir uma capacidade de modelo comparável. No entanto, uma desvantagem dos modelos profundos (versus amplos) é que os modelos profundos são propensos a desaparecer e explodir gradientes, o que os torna mais difíceis de treinar. Como exercício, tente adicionar uma, duas, três e quatro camadas ocultas, cada uma com quatro unidades ocultas. No exemplo a seguir, veremos os resultados de uma RN *feedforward* com três camadas ocultas:"
   ]
  },
  {
   "cell_type": "code",
   "execution_count": 39,
   "metadata": {
    "pycharm": {
     "name": "#%%\n"
    }
   },
   "outputs": [
    {
     "name": "stdout",
     "output_type": "stream",
     "text": [
      "Model: \"sequential_3\"\n",
      "_________________________________________________________________\n",
      " Layer (type)                Output Shape              Param #   \n",
      "=================================================================\n",
      " dense_5 (Dense)             (None, 4)                 12        \n",
      "                                                                 \n",
      " dense_6 (Dense)             (None, 4)                 20        \n",
      "                                                                 \n",
      " dense_7 (Dense)             (None, 4)                 20        \n",
      "                                                                 \n",
      " dense_8 (Dense)             (None, 1)                 5         \n",
      "                                                                 \n",
      "=================================================================\n",
      "Total params: 57\n",
      "Trainable params: 57\n",
      "Non-trainable params: 0\n",
      "_________________________________________________________________\n"
     ]
    }
   ],
   "source": [
    "tf.random.set_seed(1)\n",
    "model = tf.keras.Sequential()\n",
    "model.add(tf.keras.layers.Dense(units=4, input_shape=(2,), activation='relu'))\n",
    "model.add(tf.keras.layers.Dense(units=4, activation='relu'))\n",
    "model.add(tf.keras.layers.Dense(units=4, activation='relu'))\n",
    "model.add(tf.keras.layers.Dense(units=1, activation='sigmoid'))\n",
    "model.summary()"
   ]
  },
  {
   "cell_type": "code",
   "execution_count": 40,
   "metadata": {
    "pycharm": {
     "name": "#%%\n"
    }
   },
   "outputs": [
    {
     "data": {
      "image/png": "[encoded data removed]",
      "text/plain": [
       "<Figure size 1152x288 with 3 Axes>"
      ]
     },
     "metadata": {
      "needs_background": "light"
     },
     "output_type": "display_data"
    }
   ],
   "source": [
    "# Compilando o modelo acima para comparar.\n",
    "\n",
    "model.compile(optimizer=tf.keras.optimizers.SGD(),\n",
    "                        loss=tf.keras.losses.BinaryCrossentropy(),\n",
    "                        metrics=[tf.keras.metrics.BinaryAccuracy()])\n",
    "\n",
    "# Treinando o Modelo acima para comparar.\n",
    "hist = model.fit(x_train, y_train,\n",
    "                    validation_data=(x_valid, y_valid),\n",
    "                    epochs=200, batch_size=2,\n",
    "                    verbose=0)\n",
    "\n",
    "# Plotando o resultado\n",
    "history = hist.history\n",
    "fig = plt.figure(figsize=(16, 4))\n",
    "\n",
    "ax = fig.add_subplot(1, 3, 1)\n",
    "plt.plot(history['loss'], lw=4)\n",
    "plt.plot(history['val_loss'], lw=4)\n",
    "plt.legend(['Train loss', 'Validation loss'], fontsize=15)\n",
    "ax.set_xlabel('Epochs', size=15)\n",
    "\n",
    "ax = fig.add_subplot(1, 3, 2)\n",
    "plt.plot(history['binary_accuracy'], lw=4)\n",
    "plt.plot(history['val_binary_accuracy'], lw=4)\n",
    "plt.legend(['Train Acc.', 'Validation Acc.'], fontsize=15)\n",
    "ax.set_xlabel('Epochs', size=15)\n",
    "\n",
    "ax = fig.add_subplot(1, 3, 3)\n",
    "plot_decision_regions(X=x_valid, y=y_valid.astype(np.int32),\n",
    "                        clf=model)\n",
    "ax.set_xlabel(r'$x_1$', size=15)\n",
    "ax.xaxis.set_label_coords(1, -0.025)\n",
    "ax.set_ylabel(r'$x_2$', size=15)\n",
    "ax.yaxis.set_label_coords(-0.025, 1)\n",
    "plt.show()"
   ]
  },
  {
   "cell_type": "markdown",
   "metadata": {
    "pycharm": {
     "name": "#%% md\n"
    }
   },
   "source": [
    "Agora, podemos ver que o modelo é capaz de derivar um limite de decisão não linear para esses dados e o modelo atinge 100% de precisão no conjunto de dados de treinamento. A precisão do conjunto de dados de validação é de 95%, o que indica que o modelo está ligeiramente **sobreajustado**.\n",
    "\n",
    "### Tornando a construção de modelos mais flexível com a API funcional do Keras\n",
    "\n",
    "No exemplo anterior, usamos a classe Keras `Sequential` para criar uma RN totalmente conectada com várias camadas. Esta é uma maneira muito comum e conveniente de construir modelos. No entanto, infelizmente não nos permite criar modelos mais complexos que tenham várias entradas, saídas ou ramificações intermediárias. É aí que a chamada API funcional do Keras é útil.\n",
    "\n",
    "Para ilustrar como a API funcional pode ser usada, implementaremos a mesma arquitetura que construímos usando a abordagem orientada a objetos (`Sequencial`) na seção anterior; no entanto, desta vez, usaremos a abordagem funcional. Nesta abordagem, primeiro especificamos a entrada. Em seguida, as camadas ocultas são construídas, com suas saídas denominadas $\\small h1$, $\\small h2$ e $\\small h3$. Para este problema, usamos a saída de cada camada como entrada para a camada sucessora (observe que, se você estiver construindo modelos mais complexos que possuem várias ramificações, isso pode não ser o caso, mas ainda pode ser feito por meio da API funcional ). Finalmente, especificamos a saída como a camada densa final que recebe $\\small h3$ como entrada. O código para isso é o seguinte:\n",
    "\n"
   ]
  },
  {
   "cell_type": "code",
   "execution_count": 41,
   "metadata": {
    "pycharm": {
     "name": "#%%\n"
    }
   },
   "outputs": [
    {
     "name": "stdout",
     "output_type": "stream",
     "text": [
      "Model: \"model\"\n",
      "_________________________________________________________________\n",
      " Layer (type)                Output Shape              Param #   \n",
      "=================================================================\n",
      " input_1 (InputLayer)        [(None, 2)]               0         \n",
      "                                                                 \n",
      " dense_9 (Dense)             (None, 4)                 12        \n",
      "                                                                 \n",
      " dense_10 (Dense)            (None, 4)                 20        \n",
      "                                                                 \n",
      " dense_11 (Dense)            (None, 4)                 20        \n",
      "                                                                 \n",
      " dense_12 (Dense)            (None, 1)                 5         \n",
      "                                                                 \n",
      "=================================================================\n",
      "Total params: 57\n",
      "Trainable params: 57\n",
      "Non-trainable params: 0\n",
      "_________________________________________________________________\n"
     ]
    }
   ],
   "source": [
    "tf.random.set_seed(1)\n",
    "\n",
    "# Camada de entrada\n",
    "inputs = tf.keras.Input(shape=(2,))\n",
    "\n",
    "# Camada oculta\n",
    "h1 = tf.keras.layers.Dense(units=4, activation='relu')(inputs)\n",
    "h2 = tf.keras.layers.Dense(units=4, activation='relu')(h1)\n",
    "h3 = tf.keras.layers.Dense(units=4, activation='relu')(h2)\n",
    "\n",
    "# Camada de Saída\n",
    "outputs = tf.keras.layers.Dense(units=1, activation='sigmoid')(h3)\n",
    "\n",
    "# Construindo o Modelo\n",
    "model = tf.keras.Model(inputs=inputs, outputs=outputs)\n",
    "\n",
    "model.summary()"
   ]
  },
  {
   "cell_type": "code",
   "execution_count": 42,
   "metadata": {
    "pycharm": {
     "name": "#%%\n"
    }
   },
   "outputs": [
    {
     "data": {
      "image/png": "[encoded data removed]",
      "text/plain": [
       "<Figure size 1152x288 with 3 Axes>"
      ]
     },
     "metadata": {
      "needs_background": "light"
     },
     "output_type": "display_data"
    }
   ],
   "source": [
    "# Compilando o modelo\n",
    "model.compile(\n",
    "                optimizer=tf.keras.optimizers.SGD(),\n",
    "                loss = tf.keras.losses.BinaryCrossentropy(),\n",
    "                metrics=[tf.keras.metrics.BinaryAccuracy()]\n",
    ")\n",
    "\n",
    "# Treinando o modelo\n",
    "hist = model.fit(\n",
    "                    x_train,y_train,\n",
    "                    validation_data=(x_valid,y_valid),\n",
    "                    epochs=200,\n",
    "                    batch_size=2,\n",
    "                    verbose=0\n",
    ")\n",
    "\n",
    "## Plotting\n",
    "history = hist.history\n",
    "\n",
    "fig = plt.figure(figsize=(16, 4))\n",
    "ax = fig.add_subplot(1, 3, 1)\n",
    "plt.plot(history['loss'], lw=4)\n",
    "plt.plot(history['val_loss'], lw=4)\n",
    "plt.legend(['Train loss', 'Validation loss'], fontsize=15)\n",
    "ax.set_xlabel('Epochs', size=15)\n",
    "\n",
    "ax = fig.add_subplot(1, 3, 2)\n",
    "plt.plot(history['binary_accuracy'], lw=4)\n",
    "plt.plot(history['val_binary_accuracy'], lw=4)\n",
    "plt.legend(['Train Acc.', 'Validation Acc.'], fontsize=15)\n",
    "ax.set_xlabel('Epochs', size=15)\n",
    "\n",
    "ax = fig.add_subplot(1, 3, 3)\n",
    "plot_decision_regions(X=x_valid, y=y_valid.astype(np.int32),\n",
    "                      clf=model)\n",
    "ax.set_xlabel(r'$x_1$', size=15)\n",
    "ax.xaxis.set_label_coords(1, -0.025)\n",
    "ax.set_ylabel(r'$x_2$', size=15)\n",
    "ax.yaxis.set_label_coords(-0.025, 1)\n",
    "plt.show()"
   ]
  },
  {
   "cell_type": "markdown",
   "metadata": {
    "pycharm": {
     "name": "#%% md\n"
    }
   },
   "source": [
    "### Implementando modelos baseados na classe Model do *Keras*\n",
    "\n",
    "Uma forma alternativa de construir modelos complexos é subclassificando `tf.keras.Model`. Nesta abordagem, criamos uma nova classe derivada de `tf.keras.Model` e definimos a função, `__init__()`, como um construtor. O método `call()` é usado para especificar a passagem de encaminhamento. Na função construtora, `__init__()`, definimos as camadas como atributos da classe para que possam ser acessadas através do atributo auto-referência. Então, no método `call()`, especificamos como essas camadas devem ser usadas na passagem direta do RN. O código para definir uma nova classe que implementa o modelo anterior é o seguinte:"
   ]
  },
  {
   "cell_type": "code",
   "execution_count": 43,
   "metadata": {
    "pycharm": {
     "name": "#%%\n"
    }
   },
   "outputs": [],
   "source": [
    "class MyModel(tf.keras.Model):\n",
    "    def __init__(self):\n",
    "        super(MyModel, self).__init__()\n",
    "        self.hidden_1 = tf.keras.layers.Dense(units=4, activation='relu')\n",
    "        self.hidden_2 = tf.keras.layers.Dense(units=4, activation='relu')\n",
    "        self.hidden_3 = tf.keras.layers.Dense(units=4, activation='relu')\n",
    "        self.output_layer = tf.keras.layers.Dense(units=1, activation='sigmoid')\n",
    "        \n",
    "    def call(self, inputs):\n",
    "        h = self.hidden_1(inputs)\n",
    "        h = self.hidden_2(h)\n",
    "        h = self.hidden_3(h)\n",
    "        return self.output_layer(h)"
   ]
  },
  {
   "cell_type": "markdown",
   "metadata": {
    "pycharm": {
     "name": "#%% md\n"
    }
   },
   "source": [
    "Observe que usamos o mesmo nome de saída, $\\small h$, para todas as camadas ocultas. Isso torna o código mais legível e fácil de seguir.\n",
    "Uma classe de modelo derivada de `tf.keras.Model` por meio de subclasses herda atributos gerais de modelo, como `build()`, `compile()` e `fit()`. Portanto, uma vez que definimos uma instância dessa nova classe, podemos compilá-la e treiná-la como qualquer outro modelo construído por Keras:"
   ]
  },
  {
   "cell_type": "code",
   "execution_count": 44,
   "metadata": {
    "pycharm": {
     "name": "#%%\n"
    }
   },
   "outputs": [
    {
     "name": "stdout",
     "output_type": "stream",
     "text": [
      "Model: \"my_model\"\n",
      "_________________________________________________________________\n",
      " Layer (type)                Output Shape              Param #   \n",
      "=================================================================\n",
      " dense_13 (Dense)            multiple                  12        \n",
      "                                                                 \n",
      " dense_14 (Dense)            multiple                  20        \n",
      "                                                                 \n",
      " dense_15 (Dense)            multiple                  20        \n",
      "                                                                 \n",
      " dense_16 (Dense)            multiple                  5         \n",
      "                                                                 \n",
      "=================================================================\n",
      "Total params: 57\n",
      "Trainable params: 57\n",
      "Non-trainable params: 0\n",
      "_________________________________________________________________\n"
     ]
    },
    {
     "name": "stderr",
     "output_type": "stream",
     "text": [
      "C:\\Users\\willi\\AppData\\Local\\Temp\\ipykernel_1228\\2372930084.py:34: DeprecationWarning: Converting `np.integer` or `np.signedinteger` to a dtype is deprecated. The current result is `np.dtype(np.int_)` which is not strictly correct. Note that the result depends on the system. To ensure stable results use may want to use `np.int64` or `np.int32`.\n",
      "  plot_decision_regions(X=x_valid, y=y_valid.astype(np.integer),\n"
     ]
    },
    {
     "data": {
      "image/png": "[encoded data removed]",
      "text/plain": [
       "<Figure size 1152x288 with 3 Axes>"
      ]
     },
     "metadata": {
      "needs_background": "light"
     },
     "output_type": "display_data"
    }
   ],
   "source": [
    "tf.random.set_seed(1)\n",
    "# Testando o Modelo\n",
    "model = MyModel()\n",
    "model.build(input_shape=(None, 2))\n",
    "model.summary()\n",
    "\n",
    "## Complitando \n",
    "model.compile(optimizer=tf.keras.optimizers.SGD(),\n",
    "              loss=tf.keras.losses.BinaryCrossentropy(),\n",
    "              metrics=[tf.keras.metrics.BinaryAccuracy()])\n",
    "\n",
    "## Treinando:\n",
    "hist = model.fit(x_train, y_train, \n",
    "                 validation_data=(x_valid, y_valid), \n",
    "                 epochs=200, batch_size=2, verbose=0)\n",
    "\n",
    "## Plotando\n",
    "history = hist.history\n",
    "\n",
    "fig = plt.figure(figsize=(16, 4))\n",
    "ax = fig.add_subplot(1, 3, 1)\n",
    "plt.plot(history['loss'], lw=4)\n",
    "plt.plot(history['val_loss'], lw=4)\n",
    "plt.legend(['Train loss', 'Validation loss'], fontsize=15)\n",
    "ax.set_xlabel('Epochs', size=15)\n",
    "\n",
    "ax = fig.add_subplot(1, 3, 2)\n",
    "plt.plot(history['binary_accuracy'], lw=4)\n",
    "plt.plot(history['val_binary_accuracy'], lw=4)\n",
    "plt.legend(['Train Acc.', 'Validation Acc.'], fontsize=15)\n",
    "ax.set_xlabel('Epochs', size=15)\n",
    "\n",
    "ax = fig.add_subplot(1, 3, 3)\n",
    "plot_decision_regions(X=x_valid, y=y_valid.astype(np.integer),\n",
    "                      clf=model)\n",
    "ax.set_xlabel(r'$x_1$', size=15)\n",
    "ax.xaxis.set_label_coords(1, -0.025)\n",
    "ax.set_ylabel(r'$x_2$', size=15)\n",
    "ax.yaxis.set_label_coords(-0.025, 1)\n",
    "plt.show()"
   ]
  },
  {
   "cell_type": "markdown",
   "metadata": {
    "pycharm": {
     "name": "#%% md\n"
    }
   },
   "source": [
    "### Escrevendo camadas Keras personalizadas\n",
    "\n",
    "Nos casos em que queremos definir uma nova camada que ainda não é suportada pelo *Keras*, podemos definir uma nova classe derivada da classe `tf.keras.layers.Layer`. Isso é especialmente útil ao projetar uma nova camada ou personalizar uma camada existente.\n",
    "\n",
    "Para ilustrar o conceito de implementação de camadas personalizadas, vamos considerar um exemplo simples. Imagine que queremos definir uma nova camada linear que calcula $w(x+ \\epsilon)+ b$ , onde $\\epsilon$ se refere a uma variável aleatória como uma variável de ruído. Para implementar esses cálculos, definimos uma nova classe como uma subclasse de `tf.keras.layers.Layer`. Para esta nova classe, temos que definir tanto o método construtor `__init__()` quanto o método `call()`. No construtor, definimos as variáveis ​​e outros tensores necessários para nossa camada customizada. Temos a opção de criar variáveis ​​e inicializá-las no construtor se o `input_shape` for fornecido ao construtor. Alternativamente, podemos atrasar a inicialização da variável (por exemplo, se não soubermos antecipadamente a forma exata da entrada) e delegá-la ao método `build()` para a criação tardia da variável. Além disso, podemos definir `get_config()` para serialização, o que significa que um modelo usando nossa camada personalizada pode ser salvo com eficiência usando os recursos de salvamento e carregamento de modelo do *TensorFlow*.\n",
    "\n",
    "Para ver um exemplo concreto, vamos definir uma nova camada chamada `NoisyLinear`, que implementa o cálculo $w(x+ \\epsilon)+ b$, que foi mencionado no parágrafo anterior:"
   ]
  },
  {
   "cell_type": "code",
   "execution_count": 45,
   "metadata": {
    "pycharm": {
     "name": "#%%\n"
    }
   },
   "outputs": [],
   "source": [
    "'''\n",
    "Definindo a camada personalizada:\n",
    "Define __init__()\n",
    "Define build() para crar a variável tardia\n",
    "Define call()\n",
    "Define get_config() para serialização\n",
    "'''\n",
    "class NoisyLinear(tf.keras.layers.Layer):\n",
    "    def __init__(self, output_dim, noise_stddev=0.1, **kwargs):\n",
    "        self.output_dim = output_dim\n",
    "        self.noise_stddev = noise_stddev\n",
    "        super(NoisyLinear, self).__init__(**kwargs)\n",
    "\n",
    "    def build(self, input_shape):\n",
    "        self.w = self.add_weight(name='weights',\n",
    "                                 shape=(input_shape[1], self.output_dim),\n",
    "                                 initializer='random_normal',\n",
    "                                 trainable=True)\n",
    "        \n",
    "        self.b = self.add_weight(shape=(self.output_dim,),\n",
    "                                 initializer='zeros',\n",
    "                                 trainable=True)\n",
    "\n",
    "    def call(self, inputs, training=False):\n",
    "        if training:\n",
    "            batch = tf.shape(inputs)[0]\n",
    "            dim = tf.shape(inputs)[1]\n",
    "            noise = tf.random.normal(shape=(batch, dim),\n",
    "                                     mean=0.0,\n",
    "                                     stddev=self.noise_stddev)\n",
    "\n",
    "            noisy_inputs = tf.add(inputs, noise)\n",
    "        else:\n",
    "            noisy_inputs = inputs\n",
    "        z = tf.matmul(noisy_inputs, self.w) + self.b\n",
    "        return tf.keras.activations.relu(z)\n",
    "    \n",
    "    def get_config(self):\n",
    "        config = super(NoisyLinear, self).get_config()\n",
    "        config.update({'output_dim': self.output_dim,\n",
    "                       'noise_stddev': self.noise_stddev})\n",
    "        return config"
   ]
  },
  {
   "cell_type": "markdown",
   "metadata": {
    "pycharm": {
     "name": "#%% md\n"
    }
   },
   "source": [
    "No construtor, adicionamos um argumento, `noise_stddev`, para especificar o desvio padrão para a distribuição de $\\epsilon$, que é uma amostra de uma distribuição gaussiana. Além disso, observe que no método `call()` usamos um argumento adicional, `training=False`. No contexto de *Keras*, o argumento de treinamento é um argumento booleano especial que distingue se um modelo ou camada é usado durante o treinamento (por exemplo, via `fit()`) ou apenas para previsão (por exemplo, via `predict()`; isso às vezes é também chamado de \"inferência\" ou avaliação). Uma das principais diferenças entre o treinamento e previsão é que, durante a previsão, não exigimos gradientes. Além disso, existem certos métodos que se comportam de forma diferente nos modos de treinamento e previsão. Você encontrará um exemplo de tal método, `Dropout`. No trecho de código anterior, também especificamos que o vetor aleatório, $\\epsilon$, deveria ser gerado e adicionado à entrada apenas durante o treinamento e não usado para inferência ou avaliação.\n",
    "\n",
    "Antes de darmos um passo adiante e usarmos nossa camada `NoisyLinear` personalizada em um modelo, vamos testá-la no contexto de um exemplo simples.\n",
    "\n",
    "No código a seguir, vamos definir uma nova instância dessa camada, inicializá-la chamando `.build()` e executá-la em um tensor de entrada. Então, vamos serializá-lo via `.get_config()` e restaurar o objeto serializado via `.from_config()`:"
   ]
  },
  {
   "cell_type": "code",
   "execution_count": 46,
   "metadata": {
    "pycharm": {
     "name": "#%%\n"
    }
   },
   "outputs": [
    {
     "name": "stdout",
     "output_type": "stream",
     "text": [
      "[[0 0.00821428 0 0]]\n",
      "[[0 0.0108502861 0 0]]\n"
     ]
    }
   ],
   "source": [
    "##  Testando:\n",
    "\n",
    "tf.random.set_seed(1)\n",
    "\n",
    "noisy_layer = NoisyLinear(4)\n",
    "noisy_layer.build(input_shape=(None, 4))\n",
    "\n",
    "x = tf.zeros(shape=(1, 4))\n",
    "tf.print(noisy_layer(x, training=True))\n",
    "\n",
    "## Reconstruindo via config:\n",
    "config = noisy_layer.get_config()\n",
    "new_layer = NoisyLinear.from_config(config)\n",
    "tf.print(new_layer(x, training=True))\n"
   ]
  },
  {
   "cell_type": "markdown",
   "metadata": {
    "pycharm": {
     "name": "#%% md\n"
    }
   },
   "source": [
    "No trecho de código anterior, chamamos a camada duas vezes no mesmo tensor de entrada. No entanto, observe que as saídas diferem porque a camada `NoisyLinear` adicionou ruído aleatório ao tensor de entrada. Agora, vamos criar um novo modelo semelhante ao anterior para resolver a tarefa de classificação $\\small XOR$. Como antes, usaremos a classe `Sequential` do *Keras*, mas desta vez, usaremos nossa camada `NoisyLinear` como a primeira camada oculta do *perceptron* multicamada. O código é o seguinte:"
   ]
  },
  {
   "cell_type": "code",
   "execution_count": 47,
   "metadata": {
    "pycharm": {
     "name": "#%%\n"
    }
   },
   "outputs": [
    {
     "name": "stdout",
     "output_type": "stream",
     "text": [
      "Model: \"sequential_4\"\n",
      "_________________________________________________________________\n",
      " Layer (type)                Output Shape              Param #   \n",
      "=================================================================\n",
      " noisy_linear_1 (NoisyLinear  (None, 4)                12        \n",
      " )                                                               \n",
      "                                                                 \n",
      " dense_17 (Dense)            (None, 4)                 20        \n",
      "                                                                 \n",
      " dense_18 (Dense)            (None, 4)                 20        \n",
      "                                                                 \n",
      " dense_19 (Dense)            (None, 1)                 5         \n",
      "                                                                 \n",
      "=================================================================\n",
      "Total params: 57\n",
      "Trainable params: 57\n",
      "Non-trainable params: 0\n",
      "_________________________________________________________________\n"
     ]
    }
   ],
   "source": [
    "tf.random.set_seed(1)\n",
    "\n",
    "model = tf.keras.Sequential([\n",
    "    NoisyLinear(4, noise_stddev=0.1),\n",
    "    tf.keras.layers.Dense(units=4, activation='relu'),\n",
    "    tf.keras.layers.Dense(units=4, activation='relu'),\n",
    "    tf.keras.layers.Dense(units=1, activation='sigmoid')])\n",
    "\n",
    "model.build(input_shape=(None, 2))\n",
    "model.summary()\n",
    "\n",
    "## Compilando:\n",
    "model.compile(optimizer=tf.keras.optimizers.SGD(),\n",
    "              loss=tf.keras.losses.BinaryCrossentropy(),\n",
    "              metrics=[tf.keras.metrics.BinaryAccuracy()])\n",
    "\n",
    "## treinando:\n",
    "hist = model.fit(x_train, y_train, \n",
    "                 validation_data=(x_valid, y_valid), \n",
    "                 epochs=200, batch_size=2, \n",
    "                 verbose=0)\n",
    "\n",
    "## Plotando\n",
    "history = hist.history\n",
    "\n",
    "fig = plt.figure(figsize=(16, 4))\n",
    "ax = fig.add_subplot(1, 3, 1)\n",
    "plt.plot(history['loss'], lw=4)\n",
    "plt.plot(history['val_loss'], lw=4)\n",
    "plt.legend(['Train loss', 'Validation loss'], fontsize=15)\n",
    "ax.set_xlabel('Epochs', size=15)\n",
    "\n",
    "ax = fig.add_subplot(1, 3, 2)\n",
    "plt.plot(history['binary_accuracy'], lw=4)\n",
    "plt.plot(history['val_binary_accuracy'], lw=4)\n",
    "plt.legend(['Train Acc.', 'Validation Acc.'], fontsize=15)\n",
    "ax.set_xlabel('Epochs', size=15)\n",
    "\n",
    "ax = fig.add_subplot(1, 3, 3)\n",
    "plot_decision_regions(X=x_valid, y=y_valid.astype(np.int32),\n",
    "                      clf=model)\n",
    "ax.set_xlabel(r'$x_1$', size=15)\n",
    "ax.xaxis.set_label_coords(1, -0.025)\n",
    "ax.set_ylabel(r'$x_2$', size=15)\n",
    "ax.yaxis.set_label_coords(-0.025, 1)\n",
    "plt.show()"
   ]
  },
  {
   "cell_type": "markdown",
   "metadata": {
    "pycharm": {
     "name": "#%% md\n"
    }
   },
   "source": [
    "Aqui, nosso objetivo era aprender como definir uma nova camada personalizada subclassificada de `tf.keras.layers.Layer` e usá-la como usaríamos qualquer outra camada *Keras* padrão. Embora, com este exemplo em particular, o `NoisyLinear` não tenha ajudado a melhorar o desempenho, lembre-se de que nosso objetivo era principalmente aprender a escrever uma camada personalizada do zero. Em geral, escrever uma nova camada customizada pode ser útil em outros aplicativos, por exemplo, se você desenvolver um novo algoritmo que dependa de uma nova camada além das existentes.\n",
    "\n",
    "### Estimadores do TensorFlow\n",
    "\n",
    "Até agora, nós nos concentramos principalmente na API *TensorFlow* de baixo nível. Usamos decoradores para modificar funções para compilar os gráficos computacionais explicitamente para eficiência computacional. Em seguida, trabalhamos com a API *Keras* e implementamos RNs *feedforward*, aos quais adicionamos camadas personalizadas. \n",
    "\n",
    "Aqui mudaremos de marcha e trabalharemos com os Estimadores do *TensorFlow*. A API `tf.estimator` encapsula as etapas subjacentes em tarefas de aprendizado de máquina, como treinamento, previsão (inferência) e avaliação. Os estimadores são mais encapsulados, mas também mais escaláveis ​​quando comparados às abordagens anteriores que abordamos anteriormente. Além disso, a API `tf.estimator` adiciona suporte para execução de modelos em várias plataformas sem exigir grandes alterações de código, o que os torna mais adequados para a chamada \"fase de produção\" em aplicativos da indústria. Além disso, o *TensorFlow* vem com uma seleção de estimadores prontos para uso para arquiteturas comuns de aprendizado de máquina e aprendizado profundo que são úteis para estudos de comparação, por exemplo, para avaliar rapidamente se uma determinada abordagem é aplicável a um determinado conjunto de dados ou problema.\n",
    "Mais adiante, aprenderemos como usar esses estimadores pré-fabricados e como criar um estimador a partir de um modelo *Keras* existente. Um dos elementos essenciais dos Estimadores é definir as colunas de recursos como um mecanismo para importar dados para um modelo baseado em Estimadores.\n",
    "\n",
    "### Trabalhando com colunas de recursos\n",
    "Em aplicativos de aprendizado de máquina e aprendizado profundo, podemos encontrar vários tipos diferentes de recursos: contínuo, categórico não ordenado (nominal) e categórico ordenado (ordinal). Você deve se lembrar de que existem diferentes tipos de recursos e aprendemos como lidar com cada tipo. Observe que, embora os dados numéricos possam ser contínuos ou discretos, no contexto da API do *TensorFlow*, os dados \"numéricos\" se referem especificamente a dados contínuos do tipo ponto flutuante.\n",
    "\n",
    "Às vezes, os conjuntos de recursos são compostos por uma mistura de diferentes tipos de recursos. Embora os estimadores do *TensorFlow* tenham sido projetados para lidar com todos esses diferentes tipos de recursos, devemos especificar como cada recurso deve ser interpretado pelo estimador.\n",
    "\n",
    "<img src=https://miro.medium.com/max/1400/1*IKt4cObXmW7j42pD--a-WQ.png width=500>\n",
    "\n",
    "Os recursos mostrados na figura (ano do modelo, cilindros, cilindrada, potência, peso, aceleração e origem) foram obtidos do conjunto de dados Auto MPG, que é um conjunto de dados de benchmark de aprendizado de máquina comum para prever a eficiência de combustível de um carro em milhas por galão (MPG).\n",
    "\n",
    "O conjunto de dados completo e sua descrição estão disponíveis no repositório de aprendizado de máquina da UCI em https://archive.ics.uci.edu/ml/datasets/auto+mpg. Vamos tratar cinco recursos do conjunto de dados Auto MPG (número de cilindros, deslocamento, potência, peso e aceleração) como recursos \"numéricos\" (no caso aqui, contínuos). O ano do modelo pode ser considerado como um recurso categórico (ordinal) ordenado. Por fim, a origem de fabricação pode ser considerada como uma característica categórica não ordenada (nominal) com três valores discretos possíveis, 1, 2 e 3, que correspondem aos EUA, Europa e Japão, respectivamente.\n",
    "\n",
    "Vamos primeiro carregar os dados e aplicar as etapas de pré-processamento necessárias, como particionar o conjunto de dados em conjuntos de dados de treinamento e teste, além de padronizar os recursos contínuos:"
   ]
  },
  {
   "cell_type": "code",
   "execution_count": null,
   "metadata": {
    "collapsed": false,
    "pycharm": {
     "name": "#%%\n"
    }
   },
   "outputs": [],
   "source": [
    "tf.random.set_seed(1)\n",
    "np.random.seed(1)\n",
    "import pandas as pd\n",
    "dataset_path = tf.keras.utils.get_file(\"auto-mpg.data\", \n",
    "                                       (\"http://archive.ics.uci.edu/ml/machine-learning-databases\"\n",
    "                                        \"/auto-mpg/auto-mpg.data\"))\n",
    "\n",
    "column_names = ['MPG', 'Cylinders', 'Displacement', 'Horsepower',\n",
    "                'Weight', 'Acceleration', 'ModelYear', 'Origin']\n",
    "\n",
    "df = pd.read_csv(dataset_path, names=column_names,\n",
    "                 na_values = \"?\", comment='\\t',\n",
    "                 sep=\" \", skipinitialspace=True, encoding='utf-8')\n",
    "\n",
    "df.tail()"
   ]
  },
  {
   "cell_type": "code",
   "execution_count": null,
   "metadata": {
    "collapsed": false,
    "pycharm": {
     "name": "#%%\n"
    }
   },
   "outputs": [],
   "source": [
    "print(df.isna().sum())\n",
    "\n",
    "# Drop linhas Nulas\n",
    "df = df.dropna()\n",
    "df = df.reset_index(drop=True)\n",
    "df.tail()"
   ]
  },
  {
   "cell_type": "code",
   "execution_count": null,
   "metadata": {
    "collapsed": false,
    "pycharm": {
     "name": "#%%\n"
    }
   },
   "outputs": [],
   "source": [
    "# Dividindo o conjunto de dados e treino\n",
    "import sklearn\n",
    "import sklearn.model_selection\n",
    "\n",
    "\n",
    "df_train, df_test = sklearn.model_selection.train_test_split(df, train_size=0.8)\n",
    "train_stats = df_train.describe().transpose()\n",
    "train_stats"
   ]
  },
  {
   "cell_type": "code",
   "execution_count": null,
   "metadata": {
    "collapsed": false,
    "pycharm": {
     "name": "#%%\n"
    }
   },
   "outputs": [],
   "source": [
    "numeric_column_names = ['Cylinders', 'Displacement', 'Horsepower', 'Weight', 'Acceleration']\n",
    "\n",
    "df_train_norm, df_test_norm = df_train.copy(), df_test.copy()\n",
    "\n",
    "for col_name in numeric_column_names:\n",
    "    mean = train_stats.loc[col_name, 'mean']\n",
    "    std  = train_stats.loc[col_name, 'std']\n",
    "    df_train_norm.loc[:, col_name] = (df_train_norm.loc[:, col_name] - mean)/std\n",
    "    df_test_norm.loc[:, col_name] = (df_test_norm.loc[:, col_name] - mean)/std\n",
    "    \n",
    "df_train_norm.tail()"
   ]
  },
  {
   "cell_type": "markdown",
   "metadata": {
    "collapsed": false,
    "pycharm": {
     "name": "#%% md\n"
    }
   },
   "source": [
    "O `DataFrame` pandas que criamos por meio do trecho de código anterior contém cinco colunas com valores do tipo `float`. Essas colunas constituirão as *features* contínuas. No código a seguir, usaremos a função `feature_column` do *TensorFlow* para transformar essas *features* contínuas na estrutura de dados da coluna de *features* com a qual os Estimadores do *TensorFlow* podem trabalhar:"
   ]
  },
  {
   "cell_type": "code",
   "execution_count": null,
   "metadata": {
    "collapsed": false,
    "pycharm": {
     "name": "#%%\n"
    }
   },
   "outputs": [],
   "source": [
    "numeric_features = []\n",
    "\n",
    "for col_name in numeric_column_names:\n",
    "    numeric_features.append(tf.feature_column.numeric_column(key=col_name))\n",
    "    \n",
    "numeric_features"
   ]
  },
  {
   "cell_type": "markdown",
   "metadata": {
    "collapsed": false,
    "pycharm": {
     "name": "#%% md\n"
    }
   },
   "source": [
    "Em seguida, vamos agrupar as informações de ano de modelo bastante refinadas em *buckets* para simplificar a tarefa de aprendizado para o modelo que vamos treinar mais tarde. Concretamente, vamos atribuir cada carro a um dos quatro *buckets* de \"ano\", da seguinte forma:\n",
    "\n",
    "$$\n",
    "\\small bucket = \n",
    "\n",
    "\\begin{cases} 0 \\quad \\text if \\: year < 73 \\\\\n",
    "              1 \\quad \\text if \\: 73 \\leq year \\leq 76 \\\\\n",
    "              2 \\quad \\text if \\: 76 \\leq year \\leq 79 \\\\\n",
    "              3 \\quad \\text if \\: year \\geq 79 \\\\\n",
    "\n",
    "\\end{cases}\n",
    "$$\n",
    "\n",
    "Observe que os intervalos escolhidos foram selecionados arbitrariamente para ilustrar os conceitos de \"bucketing\". Para agrupar os carros nesses *buckets*, primeiro definiremos uma *feature* numérica com base em cada ano do modelo original. Em seguida, esses recursos numéricos serão passados para a função `bucketized_column` para a qual especificaremos três valores de corte de intervalo: $\\small [73, 76, 79]$. Os valores especificados incluem o valor de corte correto. Esses valores de corte são usados para especificar intervalos semifechados, por exemplo, $\\small (−\\infty, 73) , [73, 76) , [76, 79) e [79, \\infty)$ . O código é o seguinte:"
   ]
  },
  {
   "cell_type": "code",
   "execution_count": null,
   "metadata": {
    "collapsed": false,
    "pycharm": {
     "name": "#%%\n"
    }
   },
   "outputs": [],
   "source": [
    "feature_year = tf.feature_column.numeric_column(key='ModelYear')\n",
    "bucketized_features = []\n",
    "bucketized_features.append( \n",
    "    tf.feature_column.bucketized_column(\n",
    "        source_column=feature_year,\n",
    "        boundaries=[73, 76, 79])\n",
    "        )\n",
    "\n",
    "print(bucketized_features)"
   ]
  },
  {
   "cell_type": "markdown",
   "metadata": {
    "collapsed": false,
    "pycharm": {
     "name": "#%% md\n"
    }
   },
   "source": [
    "Para consistência, adicionamos essa coluna de *feature bucketized* a uma lista do *Python*, mesmo que a lista consista em apenas uma entrada. Nas etapas a seguir, mesclaremos essa lista com as listas feitas de outros recursos, que serão fornecidas como entrada para o modelo baseado no *TensorFlow Estimator*.\n",
    "\n",
    "Em seguida, prosseguiremos com a definição de uma lista para o recurso categórico não ordenado, `Origin`. No *TensorFlow*, existem diferentes maneiras de criar uma coluna de recurso categórico. Se os dados contiverem os nomes das categorias (por exemplo, em formato de *string* como \"EUA\", \"Europa\" e \"Japão\"), podemos usar `tf.feature_column.categorical_column_with_vocabulary_list` e fornecer uma lista de nomes de categorias exclusivos e possíveis como entrada . Se a lista de categorias possíveis for muito grande, por exemplo, em um contexto típico de análise de texto, podemos usar `tf.feature_column.categorical_column_with_vocabulary_file`. Ao usar esta função, simplesmente fornecemos um arquivo que contém todas as categorias/palavras para que não tenhamos que armazenar uma lista de todas as palavras possíveis na memória. Além disso, se os recursos já estiverem associados a um índice de categorias no intervalo [0, `num_categories`), podemos usar a função `tf.feature_column.categorical_column_with_identity`. No entanto, neste caso, o recurso `Origin` é fornecido como valores inteiros 1, 2, 3 (em oposição a 0, 1, 2), o que não corresponde ao requisito de indexação categórica, pois espera que os índices comecem de 0. No exemplo de código a seguir, prosseguiremos com a lista de vocabulário:"
   ]
  },
  {
   "cell_type": "code",
   "execution_count": null,
   "metadata": {
    "collapsed": false,
    "pycharm": {
     "name": "#%%\n"
    }
   },
   "outputs": [],
   "source": [
    "feature_origin = tf.feature_column.categorical_column_with_vocabulary_list(\n",
    "    key='Origin',\n",
    "    vocabulary_list=[1, 2, 3])"
   ]
  },
  {
   "cell_type": "markdown",
   "metadata": {
    "collapsed": false,
    "pycharm": {
     "name": "#%% md\n"
    }
   },
   "source": [
    "Certos estimadores, como `DNNClassifier` e `DNNRegressor`, aceitam apenas as chamadas \"colunas densas\". Portanto, a próxima etapa é converter a coluna de recurso categórico existente em uma coluna tão densa. Há duas maneiras de fazer isso: usando uma coluna de incorporação via `embedding_column` ou uma coluna de indicador via `indicator_column`. Uma coluna de indicador converte os índices categóricos em vetores codificados *one-hot*, por exemplo, o índice 0 será codificado como [1, 0, 0], o índice 1 será codificado como [0, 1, 0] e assim por diante. Por outro lado, a coluna *embedding* mapeia cada índice para um vetor de número aleatório do tipo `float`, que pode ser treinado.\n",
    "\n",
    "Quando o número de categorias é grande, usar a coluna de incorporação com menos dimensões do que o número de categorias pode melhorar o desempenho. No trecho de código a seguir, usaremos a abordagem da coluna do indicador no recurso categórico para convertê-lo no formato denso:"
   ]
  },
  {
   "cell_type": "code",
   "execution_count": null,
   "metadata": {
    "collapsed": false,
    "pycharm": {
     "name": "#%%\n"
    }
   },
   "outputs": [],
   "source": [
    "categorical_indicator_features = []\n",
    "categorical_indicator_features.append(tf.feature_column.indicator_column(feature_origin))\n",
    "\n",
    "print(categorical_indicator_features)"
   ]
  },
  {
   "cell_type": "markdown",
   "metadata": {
    "collapsed": false,
    "pycharm": {
     "name": "#%% md\n"
    }
   },
   "source": [
    "### Aprendizado de máquina com estimadores pré-fabricados\n",
    "Agora, depois de construir as colunas de recursos obrigatórias, podemos finalmente utilizar os estimadores do *TensorFlow*. O uso de estimadores pré-fabricados pode ser resumido em quatro etapas:\n",
    "1. Defina uma função de entrada para carregamento de dados\n",
    "2. Converta o conjunto de dados em colunas de recursos\n",
    "3. Instancie um estimador (use um estimador pré-fabricado ou crie um novo, por exemplo, convertendo um modelo *Keras* em um estimador)\n",
    "4. Use os métodos do Estimador `train()`, `evaluate()` e `predict()`\n",
    "\n",
    "Continuando com o exemplo Auto MPG, aplicaremos essas quatro etapas para ilustrar como podemos usar os estimadores na prática. Para a primeira etapa, precisamos definir uma função que processe os dados e retorne um conjunto de dados do *TensorFlow* que consiste em uma tupla que contém os recursos de entrada e os rótulos (valores MPG de verdade). Observe que os recursos devem estar em **um formato de dicionário e as chaves do dicionário devem corresponder aos nomes das colunas de recursos**. Começando com o primeiro passo, vamos definir a função de entrada para os dados de treinamento da seguinte forma:"
   ]
  },
  {
   "cell_type": "code",
   "execution_count": null,
   "metadata": {
    "collapsed": false,
    "pycharm": {
     "name": "#%%\n"
    }
   },
   "outputs": [],
   "source": [
    "def train_input_fn(df_train, batch_size=8):\n",
    "    df = df_train.copy()\n",
    "    train_x, train_y = df, df.pop('MPG')\n",
    "    dataset = tf.data.Dataset.from_tensor_slices((dict(train_x), train_y))\n",
    "\n",
    "    # shuffle, repeat, and batch the examples\n",
    "    return dataset.shuffle(1000).repeat().batch(batch_size)"
   ]
  },
  {
   "cell_type": "markdown",
   "metadata": {
    "collapsed": false,
    "pycharm": {
     "name": "#%% md\n"
    }
   },
   "source": [
    "Observe que usamos `dict(train_x)` nesta função para converter o objeto `DataFrame` do pandas em um dicionário *Python*. Vamos carregar um lote desse conjunto de dados para ver como fica:"
   ]
  },
  {
   "cell_type": "code",
   "execution_count": null,
   "metadata": {
    "collapsed": false,
    "pycharm": {
     "name": "#%%\n"
    }
   },
   "outputs": [],
   "source": [
    "## Inspecionando o código\n",
    "ds = train_input_fn(df_train_norm)\n",
    "batch = next(iter(ds))\n",
    "print('Keys:', batch[0].keys())\n",
    "print('Batch Model Years:', batch[0]['ModelYear'])"
   ]
  },
  {
   "cell_type": "markdown",
   "metadata": {
    "collapsed": false,
    "pycharm": {
     "name": "#%% md\n"
    }
   },
   "source": [
    "Também precisamos definir uma função de entrada para o conjunto de dados de teste que será usado para avaliação após o treinamento do modelo:"
   ]
  },
  {
   "cell_type": "code",
   "execution_count": null,
   "metadata": {
    "collapsed": false,
    "pycharm": {
     "name": "#%%\n"
    }
   },
   "outputs": [],
   "source": [
    "def eval_input_fn(df_test, batch_size=8):\n",
    "    df = df_test.copy()\n",
    "    test_x, test_y = df, df.pop('MPG')\n",
    "    dataset = tf.data.Dataset.from_tensor_slices((dict(test_x), test_y))\n",
    "\n",
    "    return dataset.batch(batch_size)"
   ]
  },
  {
   "cell_type": "markdown",
   "metadata": {
    "collapsed": false,
    "pycharm": {
     "name": "#%% md\n"
    }
   },
   "source": [
    "Agora, indo para a etapa 2, precisamos definir as colunas de recursos. Já definimos uma lista contendo os recursos contínuos, uma lista para a coluna de recursos agrupados e uma lista para a coluna de recursos categóricos. Agora podemos concatenar essas listas individuais em uma única lista contendo todas as colunas de recursos:"
   ]
  },
  {
   "cell_type": "code",
   "execution_count": null,
   "metadata": {
    "collapsed": false,
    "pycharm": {
     "name": "#%%\n"
    }
   },
   "outputs": [],
   "source": [
    "all_feature_columns = (numeric_features + \n",
    "                       bucketized_features + \n",
    "                       categorical_indicator_features)\n",
    "\n",
    "print(all_feature_columns)"
   ]
  },
  {
   "cell_type": "markdown",
   "metadata": {
    "collapsed": false,
    "pycharm": {
     "name": "#%% md\n"
    }
   },
   "source": [
    "Para a etapa 3, precisamos instanciar um novo *Estimador*. Como a previsão de valores de MPG é um problema típico de regressão, usaremos `tf.estimator.DNNRegressor`. Ao instanciar o *Estimador* de regressão, forneceremos a lista de colunas de recursos e especificaremos o número de unidades ocultas que queremos ter em cada camada oculta usando o argumento `hidden_units`. Aqui, usaremos duas camadas ocultas, onde a primeira camada oculta possui 32 unidades e a segunda camada oculta possui 10 unidades:"
   ]
  },
  {
   "cell_type": "code",
   "execution_count": null,
   "metadata": {
    "collapsed": false,
    "pycharm": {
     "name": "#%%\n"
    }
   },
   "outputs": [],
   "source": [
    "regressor = tf.estimator.DNNRegressor(\n",
    "    feature_columns=all_feature_columns,\n",
    "    hidden_units=[32, 10],\n",
    "    model_dir='models/autompg-dnnregressor/')"
   ]
  },
  {
   "cell_type": "markdown",
   "metadata": {
    "collapsed": false,
    "pycharm": {
     "name": "#%% md\n"
    }
   },
   "source": [
    "O outro argumento, `model_dir`, que fornecemos especifica o diretório para salvar os parâmetros do modelo. Uma das vantagens dos Estimadores é que eles **verificam automaticamente o modelo durante o treinamento**, para que, caso o treinamento do modelo falhe por um motivo inesperado (como falha de energia), podemos facilmente carregar o último ponto de verificação salvo e continuar treinando a partir daí. Os pontos de verificação também serão salvos no diretório especificado por `model_dir`. Se não especificarmos o argumento `model_dir`, o Estimador criará uma pasta temporária aleatória que será utilizada para esta finalidade.\n",
    "\n",
    "Após essas três etapas básicas de configuração, podemos finalmente usar o Estimador para treinamento, avaliação e, eventualmente, previsão. O regressor pode ser treinado chamando o método `train()`, para o qual exigimos a função de entrada definida anteriormente:"
   ]
  },
  {
   "cell_type": "code",
   "execution_count": null,
   "metadata": {
    "collapsed": false,
    "pycharm": {
     "name": "#%%\n"
    }
   },
   "outputs": [],
   "source": [
    "EPOCHS = 1000\n",
    "BATCH_SIZE = 8\n",
    "total_steps = EPOCHS * int(np.ceil(len(df_train) / BATCH_SIZE))\n",
    "print('Training Steps:', total_steps)\n",
    "\n",
    "regressor.train(\n",
    "    input_fn=lambda:train_input_fn(df_train_norm, batch_size=BATCH_SIZE),\n",
    "    steps=total_steps)"
   ]
  },
  {
   "cell_type": "markdown",
   "metadata": {
    "collapsed": false,
    "pycharm": {
     "name": "#%% md\n"
    }
   },
   "source": [
    "Chamar `.train()` salvará automaticamente os pontos de verificação durante o treinamento do modelo. Podemos então recarregar o último *checkpoint*:"
   ]
  },
  {
   "cell_type": "code",
   "execution_count": null,
   "metadata": {
    "collapsed": false,
    "pycharm": {
     "name": "#%%\n"
    }
   },
   "outputs": [],
   "source": [
    "reloaded_regressor = tf.estimator.DNNRegressor(\n",
    "    feature_columns=all_feature_columns,\n",
    "    hidden_units=[32, 10],\n",
    "    warm_start_from='models/autompg-dnnregressor/',\n",
    "    model_dir='models/autompg-dnnregressor/')   "
   ]
  },
  {
   "cell_type": "markdown",
   "metadata": {
    "collapsed": false,
    "pycharm": {
     "name": "#%% md\n"
    }
   },
   "source": [
    "Então, para avaliar o desempenho preditivo do modelo treinado, podemos usar o método `evaluate()`, como segue:"
   ]
  },
  {
   "cell_type": "code",
   "execution_count": null,
   "metadata": {
    "collapsed": false,
    "pycharm": {
     "name": "#%%\n"
    }
   },
   "outputs": [],
   "source": [
    "eval_results = reloaded_regressor.evaluate(\n",
    "    input_fn=lambda:eval_input_fn(df_test_norm, batch_size=8))\n",
    "    \n",
    "print('Average-Loss {:.4f}'.format(eval_results['average_loss']))"
   ]
  },
  {
   "cell_type": "markdown",
   "metadata": {
    "collapsed": false,
    "pycharm": {
     "name": "#%% md\n"
    }
   },
   "source": [
    "Finalmente, para prever os valores alvo em novos pontos de dados, podemos usar o método `predict()`. Para os propósitos deste exemplo, suponha que o conjunto de dados de teste represente um conjunto de dados de pontos de dados novos e não rotulados em um aplicativo do mundo real.\n",
    "\n",
    "Observe que em uma tarefa de previsão do mundo real, a função de entrada precisará retornar apenas um conjunto de dados composto por recursos, supondo que os rótulos não estejam disponíveis. Aqui, simplesmente usaremos a mesma função de entrada que usamos para avaliação para obter as previsões para cada exemplo:"
   ]
  },
  {
   "cell_type": "code",
   "execution_count": null,
   "metadata": {
    "collapsed": false,
    "pycharm": {
     "name": "#%%\n"
    }
   },
   "outputs": [],
   "source": [
    "pred_res = regressor.predict(input_fn=lambda: eval_input_fn(df_test_norm, batch_size=8))\n",
    "\n",
    "print(next(iter(pred_res)))"
   ]
  },
  {
   "cell_type": "markdown",
   "metadata": {
    "collapsed": false,
    "pycharm": {
     "name": "#%% md\n"
    }
   },
   "source": [
    "Enquanto os trechos de código anteriores concluem a ilustração das quatro etapas que são necessário para usar estimadores pré-fabricados, para praticar, vamos dar uma olhada em outro pré-made Estimator: o regressor da árvore impulsionada,`tf.estimator.BoostedTreeRegressor`. Como as funções de entrada e as colunas de recursos já estão construídas, só precisamos repita as etapas 3 e 4. Para a etapa 3, criaremos uma instância de BoostedTreeRegressor e configurá-lo para ter 200 árvores."
   ]
  },
  {
   "cell_type": "code",
   "execution_count": null,
   "metadata": {
    "collapsed": false,
    "pycharm": {
     "name": "#%%\n"
    }
   },
   "outputs": [],
   "source": [
    "boosted_tree = tf.estimator.BoostedTreesRegressor(\n",
    "    feature_columns=all_feature_columns,\n",
    "    n_batches_per_layer=20,\n",
    "    n_trees=200)\n",
    "\n",
    "boosted_tree.train(\n",
    "    input_fn=lambda:train_input_fn(df_train_norm, batch_size=BATCH_SIZE))\n",
    "\n",
    "eval_results = boosted_tree.evaluate(\n",
    "    input_fn=lambda:eval_input_fn(df_test_norm, batch_size=8))\n",
    "\n",
    "print(eval_results)\n",
    "\n",
    "print('Average-Loss {:.4f}'.format(eval_results['average_loss']))"
   ]
  }
 ],
 "metadata": {
  "interpreter": {
   "hash": "1870f1194fb5b3d43b6d32e845741389586dbe9c4e1e45e17e0f6602cfe22778"
  },
  "kernelspec": {
   "display_name": "Python 3.9.7 ('base')",
   "language": "python",
   "name": "python3"
  },
  "language_info": {
   "codemirror_mode": {
    "name": "ipython",
    "version": 3
   },
   "file_extension": ".py",
   "mimetype": "text/x-python",
   "name": "python",
   "nbconvert_exporter": "python",
   "pygments_lexer": "ipython3",
   "version": "3.9.7"
  },
  "orig_nbformat": 4
 },
 "nbformat": 4,
 "nbformat_minor": 2
}
