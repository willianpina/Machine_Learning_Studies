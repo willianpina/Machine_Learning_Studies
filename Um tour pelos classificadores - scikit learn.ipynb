{
 "cells": [
  {
   "cell_type": "markdown",
   "metadata": {},
   "source": [
    "<h1 align='center'>Um <i>tour</i> pelos classificadores de <i>Machine Learning</i> usando <i>Scikit-Learn</i></h1>\n",
    "<p align='center'><img src=https://i0.wp.com/www.datageeks.com.br/wp-content/uploads/2019/06/Machine-Learning.jpg?fit=900%2C600&ssl=1 heigth=350 width=600></p>\n",
    "<p align='justify'>Faremos um <i>tour</i> por uma seleção de algoritmos de aprendizado de máquina populares e poderosos que são comumente usados na academia e na indústria. Ao aprender sobre as diferenças entre vários algoritmos de aprendizado supervisionado para classificação, também desenvolveremos uma apreciação de seus pontos fortes e fracos individuais. Além disso, daremos nossos primeiros passos com a biblioteca <i>scikit-learn</i>, que oferece uma <i>interface</i> amigável e consistente para usar esses algoritmos de forma eficiente e produtiva.</p>"
   ]
  },
  {
   "cell_type": "markdown",
   "metadata": {},
   "source": [
    "<h2>Escolhendo um algoritmo de classificação</h2>\n",
    "<p align='justify'>Escolher um algoritmo de classificação apropriado para uma tarefa de problema específica requer <b>prática e experiência</b>, cada algoritmo tem suas próprias peculiaridades e é baseado em certas suposições.</p>\n",
    "<p align='justify'>Na prática, é sempre recomendável comparar o desempenho de pelo menos 3 ou 4 algoritmos de aprendizagem diferentes para selecionar o melhor modelo para o problema específico. Eles podem diferir no número de recursos ou exemplos, na quantidade de ruído em um conjunto de dados e se as classes são linearmente separáveis ou não.</p>\n",
    "\n",
    "<p align='justify'>Eventualmente, o desempenho de um classificador em termos de performance computacional bem como o seu poder preditivo, depende muito dos dados subjacentes que estão disponíveis para o aprendizado. As cinco principais etapas envolvidas no treinamento, de acordo com <i>Sebastian Raschkal</i>, de um algoritmo de aprendizado de máquina supervisionado podem ser resumidas da seguinte forma:</p>\n",
    "<ol>\n",
    "<li>Selecionando recursos e coletando exemplos de treinamento rotulados.</li>\n",
    "<li>Escolhendo uma métrica de desempenho.</li>\n",
    "<li>Escolha de um classificador e algoritmo de otimização.</li>\n",
    "<li>Avaliação do desempenho do modelo.</li>\n",
    "<li>Ajustando o algoritmo.</li>\n",
    "</ol>"
   ]
  },
  {
   "cell_type": "markdown",
   "metadata": {},
   "source": [
    "<h2>Primeiros passos com scikit-learn – treinando um perceptron</h2>\n",
    "<p align='justify'>Vamos dar uma olhada na API <i>scikit-learn</i>, que combina uma interface amigável e consistente com uma implementação altamente otimizada de vários algoritmos de classificação. A biblioteca <i>scikit-learn</i> oferece não apenas uma grande variedade de algoritmos de aprendizado, mas também muitas funções convenientes para pré-processar dados e ajustar e avaliar nossos modelos.</p>\n",
    "<p align='jsutify'>Para começar com a biblioteca <i>scikit-learn</i>, treinaremos um modelo <i>perceptron</i>. Para simplificar, usaremos o já familiar conjunto de dados Iris. Convenientemente, o conjunto de dados Iris já está disponível via <i>scikit-learn</i>, pois é um conjunto de dados simples e popular, frequentemente usado para testar e experimentar algoritmos.</p> "
   ]
  },
  {
   "cell_type": "code",
   "execution_count": 1,
   "metadata": {},
   "outputs": [
    {
     "name": "stdout",
     "output_type": "stream",
     "text": [
      "Class labels: [0 1 2]\n"
     ]
    }
   ],
   "source": [
    "from sklearn import datasets\n",
    "import numpy as np\n",
    "\n",
    "# Carregando o dataset Iris \n",
    "iris = datasets.load_iris()\n",
    "X = iris.data[:, [2, 3]]\n",
    "y = iris.target\n",
    "\n",
    "print('Class labels:', np.unique(y))\n",
    "# 0 = Iris Setosa \n",
    "# 1 = Iris Versicolor\n",
    "# 2 = Iris Virgínica"
   ]
  },
  {
   "cell_type": "markdown",
   "metadata": {},
   "source": [
    "<p align='justify'>Embora muitas funções e métodos de classe do <i>scikit-learn</i> também funcionem com rótulos de classe em formato de <i>string</i>, o uso de rótulos inteiros é uma abordagem recomendada para evitar falhas técnicas e melhorar o desempenho computacional devido ao uso de memória menor; além disso, codificar rótulos de classe como inteiros é uma convenção comum entre a maioria das bibliotecas de aprendizado de máquina.</p>"
   ]
  },
  {
   "cell_type": "code",
   "execution_count": 3,
   "metadata": {},
   "outputs": [
    {
     "name": "stdout",
     "output_type": "stream",
     "text": [
      "Labels count in y: [50 50 50]\n",
      "Labels count in y_train: [35 35 35]\n",
      "Labels count in y_test: [15 15 15]\n"
     ]
    }
   ],
   "source": [
    "# Dividindo os dados em 70% treinamento e 30% teste\n",
    "from sklearn.model_selection import train_test_split\n",
    "\n",
    "X_train, X_test, y_train, y_test = train_test_split(\n",
    "    X, y, test_size=0.3, random_state=1, stratify=y)\n",
    "\n",
    "print('Labels count in y:', np.bincount(y))\n",
    "print('Labels count in y_train:', np.bincount(y_train))\n",
    "print('Labels count in y_test:', np.bincount(y_test))"
   ]
  },
  {
   "cell_type": "markdown",
   "metadata": {},
   "source": [
    "<p align='justify'>Aproveitamos o suporte integrado para estratificação via <i>stratify=y</i>. Nesse contexto, estratificação significa que o método <i>train_test_split</i> retorna subconjuntos de treinamento e teste que têm as mesmas proporções de rótulos de classe que o conjunto de dados de entrada.</p>"
   ]
  },
  {
   "cell_type": "code",
   "execution_count": 4,
   "metadata": {},
   "outputs": [],
   "source": [
    "# Padronizando as Características (normalizando)\n",
    "from sklearn.preprocessing import StandardScaler\n",
    "\n",
    "sc = StandardScaler()\n",
    "sc.fit(X_train)\n",
    "X_train_std = sc.transform(X_train)\n",
    "X_test_std = sc.transform(X_test)"
   ]
  },
  {
   "cell_type": "markdown",
   "metadata": {},
   "source": [
    "<p align='justify'>Observe que usamos os mesmos parâmetros de escala para padronizar o conjunto de dados de teste para que os valores no conjunto de dados de treinamento e de teste sejam comparáveis entre si.</p>"
   ]
  },
  {
   "cell_type": "code",
   "execution_count": 6,
   "metadata": {},
   "outputs": [
    {
     "name": "stdout",
     "output_type": "stream",
     "text": [
      "Misclassified examples: 1\n"
     ]
    }
   ],
   "source": [
    "# Treinando o Perceptron via scikit-learn\n",
    "from sklearn.linear_model import Perceptron\n",
    "\n",
    "\n",
    "ppn = Perceptron(eta0=0.1, random_state=1) # Instanciando o modelo\n",
    "ppn.fit(X_train_std, y_train) # Ajustando os dados\n",
    "\n",
    "y_pred = ppn.predict(X_test_std) # Fazendo predições \n",
    "print('Misclassified examples: %d' % (y_test != y_pred).sum())"
   ]
  },
  {
   "cell_type": "code",
   "execution_count": 9,
   "metadata": {},
   "outputs": [
    {
     "name": "stdout",
     "output_type": "stream",
     "text": [
      "Accuracy: 0.978\n",
      "Accuracy: 0.978\n"
     ]
    }
   ],
   "source": [
    "from sklearn.metrics import accuracy_score\n",
    "\n",
    "# Avaliando a acurárcia do modelo\n",
    "print('Accuracy: %.3f' % accuracy_score(y_test, y_pred)) # Modo 1 usando o Accuracy_score\n",
    "print('Accuracy: %.3f' % ppn.score(X_test_std, y_test))  # Modo 2 usando o score"
   ]
  },
  {
   "cell_type": "markdown",
   "metadata": {},
   "source": [
    "<p align='justify'><b><i>Overfitting</i></b> significa que o modelo captura bem os padrões nos dados de treinamento, mas falha em generalizar bem para dados não vistos.</p>"
   ]
  },
  {
   "cell_type": "code",
   "execution_count": 10,
   "metadata": {},
   "outputs": [],
   "source": [
    "from matplotlib.colors import ListedColormap\n",
    "import matplotlib.pyplot as plt\n",
    "\n",
    "# To check recent matplotlib compatibility\n",
    "import matplotlib\n",
    "from distutils.version import LooseVersion\n",
    "\n",
    "\n",
    "def plot_decision_regions(X, y, classifier, test_idx=None, resolution=0.02):\n",
    "\n",
    "    # setup marker generator and color map\n",
    "    markers = ('s', 'x', 'o', '^', 'v')\n",
    "    colors = ('red', 'blue', 'lightgreen', 'gray', 'cyan')\n",
    "    cmap = ListedColormap(colors[:len(np.unique(y))])\n",
    "\n",
    "    # plot the decision surface\n",
    "    x1_min, x1_max = X[:, 0].min() - 1, X[:, 0].max() + 1\n",
    "    x2_min, x2_max = X[:, 1].min() - 1, X[:, 1].max() + 1\n",
    "    xx1, xx2 = np.meshgrid(np.arange(x1_min, x1_max, resolution),\n",
    "                           np.arange(x2_min, x2_max, resolution))\n",
    "    Z = classifier.predict(np.array([xx1.ravel(), xx2.ravel()]).T)\n",
    "    Z = Z.reshape(xx1.shape)\n",
    "    plt.contourf(xx1, xx2, Z, alpha=0.3, cmap=cmap)\n",
    "    plt.xlim(xx1.min(), xx1.max())\n",
    "    plt.ylim(xx2.min(), xx2.max())\n",
    "\n",
    "    for idx, cl in enumerate(np.unique(y)):\n",
    "        plt.scatter(x=X[y == cl, 0], \n",
    "                    y=X[y == cl, 1],\n",
    "                    alpha=0.8, \n",
    "                    color=colors[idx],\n",
    "                    marker=markers[idx], \n",
    "                    label=cl, \n",
    "                    edgecolor='black')\n",
    "\n",
    "    # highlight test examples\n",
    "    if test_idx:\n",
    "        # plot all examples\n",
    "        X_test, y_test = X[test_idx, :], y[test_idx]\n",
    "\n",
    "        \n",
    "        if LooseVersion(matplotlib.__version__) < LooseVersion('0.3.4'):\n",
    "            plt.scatter(X_test[:, 0],\n",
    "                        X_test[:, 1],\n",
    "                        c='',\n",
    "                        edgecolor='black',\n",
    "                        alpha=1.0,\n",
    "                        linewidth=1,\n",
    "                        marker='o',\n",
    "                        s=100, \n",
    "                        label='test set')\n",
    "        else:\n",
    "            plt.scatter(X_test[:, 0],\n",
    "                        X_test[:, 1],\n",
    "                        c='none',\n",
    "                        edgecolor='black',\n",
    "                        alpha=1.0,\n",
    "                        linewidth=1,\n",
    "                        marker='o',\n",
    "                        s=100, \n",
    "                        label='test set')  "
   ]
  },
  {
   "cell_type": "code",
   "execution_count": 12,
   "metadata": {},
   "outputs": [
    {
     "name": "stderr",
     "output_type": "stream",
     "text": [
      "C:\\Users\\willi\\AppData\\Local\\Temp\\ipykernel_11788\\2469344175.py:28: UserWarning: You passed a edgecolor/edgecolors ('black') for an unfilled marker ('x').  Matplotlib is ignoring the edgecolor in favor of the facecolor.  This behavior may change in the future.\n",
      "  plt.scatter(x=X[y == cl, 0],\n"
     ]
    },
    {
     "data": {
      "image/png": "[encoded data removed]",
      "text/plain": [
       "<Figure size 864x432 with 1 Axes>"
      ]
     },
     "metadata": {
      "needs_background": "light"
     },
     "output_type": "display_data"
    }
   ],
   "source": [
    "# Treinando um modelo perceptron usando os dados de treinamento padronizados:\n",
    "X_combined_std = np.vstack((X_train_std, X_test_std))\n",
    "y_combined = np.hstack((y_train, y_test))\n",
    "\n",
    "plt.figure(figsize=(12,6))\n",
    "plot_decision_regions(X=X_combined_std, y=y_combined,\n",
    "                      classifier=ppn, test_idx=range(105, 150))\n",
    "plt.xlabel('petal length [standardized]')\n",
    "plt.ylabel('petal width [standardized]')\n",
    "plt.legend(loc='upper left')\n",
    "\n",
    "plt.tight_layout()\n",
    "\n",
    "plt.show()"
   ]
  },
  {
   "cell_type": "markdown",
   "metadata": {},
   "source": [
    "<p align='justify'>Lembrar que o algoritmo <i>perceptron</i> nunca converge em conjuntos de dados que não são perfeitamente separáveis linearmente, razão pela qual o uso do algoritmo <i>perceptron</i> normalmente não é recomendado na prática.</p>"
   ]
  },
  {
   "cell_type": "markdown",
   "metadata": {},
   "source": [
    "<h2>Modelando probabilidades de classe por meio de regressão logística</h2>\n",
    "<p align='justify'>Embora a regra do perceptron ofereça uma introdução agradável e fácil aos algoritmos de aprendizado de máquina para classificação, sua maior desvantagem é que ela nunca converge se as classes não forem perfeitamente separáveis linearmente. A tarefa de classificação feita anteriormente seria um exemplo de tal cenário. A razão para isso é que os pesos estão sendo continuamente atualizados, pois sempre há pelo menos um exemplo de treinamento mal classificado presente em cada época. Claro que podemos alterar a taxa de aprendizado e aumentar o número de épocas, mas a ressalva é que o <i>perceptron</i> nunca convergirá neste conjunto de dados.</p>\n",
    "<p align='justify'>Para aproveitar melhor nosso tempo, vamos agora dar uma olhada em outro algoritmo simples, porém mais poderoso, para problemas de classificação linear e binária: <b>regressão logística</b>. Observe que, apesar do nome, a regressão logística é um modelo de classificação, não de regressão.</p>"
   ]
  },
  {
   "cell_type": "markdown",
   "metadata": {},
   "source": [
    "<h3>Regressão logística e probabilidades condicionais</h3>\n",
    "<p align='justify'>A regressão logística é um modelo de classificação muito fácil de implementar e funciona muito bem em classes linearmente separáveis. É um dos algoritmos mais utilizados para classificação na indústria.</p>\n",
    "<p align='justify'>A regressão logística é usada na previsão do tempo, por exemplo, não apenas para prever se choverá em um determinado dia, mas também para relatar a chance de chuva. Da mesma forma, a regressão logística pode ser usada para prever a chance de um paciente ter uma determinada doença devido a certos sintomas, razão pela qual a regressão logística goza de grande popularidade no campo da medicina.</p>"
   ]
  },
  {
   "cell_type": "markdown",
   "metadata": {},
   "source": [
    "<h3>Aprendendo os pesos da função de custo logística</h3>"
   ]
  }
 ],
 "metadata": {
  "interpreter": {
   "hash": "f8bbe703e4409461e5c1796f0c401e26e62f32801f1a5b19455b89c31c613fbe"
  },
  "kernelspec": {
   "display_name": "Python 3.9.7 ('base')",
   "language": "python",
   "name": "python3"
  },
  "language_info": {
   "codemirror_mode": {
    "name": "ipython",
    "version": 3
   },
   "file_extension": ".py",
   "mimetype": "text/x-python",
   "name": "python",
   "nbconvert_exporter": "python",
   "pygments_lexer": "ipython3",
   "version": "3.9.7"
  },
  "orig_nbformat": 4
 },
 "nbformat": 4,
 "nbformat_minor": 2
}
