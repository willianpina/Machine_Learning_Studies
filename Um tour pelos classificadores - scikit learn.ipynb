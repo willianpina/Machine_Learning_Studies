{
 "cells": [
  {
   "cell_type": "markdown",
   "metadata": {},
   "source": [
    "<h1 align='center'>Um <i>tour</i> pelo Classificadores de <i>Machine Learning</i> usando <i>Scikit-Learn</i></h1>\n",
    "<p align='center'><img src=https://i0.wp.com/www.datageeks.com.br/wp-content/uploads/2019/06/Machine-Learning.jpg?fit=900%2C600&ssl=1 heigth=350 width=600></p>\n",
    "<p align='justify'>Faremos um <i>tour</i> por uma seleção de algoritmos de aprendizado de máquina populares e poderosos que são comumente usados na academia e na indústria. Ao aprender sobre as diferenças entre vários algoritmos de aprendizado supervisionado para classificação, também desenvolveremos uma apreciação de seus pontos fortes e fracos individuais. Além disso, daremos nossos primeiros passos com a biblioteca <i>scikit-learn</i>, que oferece uma <i>interface</i> amigável e consistente para usar esses algoritmos de forma eficiente e produtiva.</p>"
   ]
  },
  {
   "cell_type": "markdown",
   "metadata": {},
   "source": [
    "<h2>Escolhendo um algoritmo de classificação</h2>\n",
    "<p align='justify'>Escolher um algoritmo de classificação apropriado para uma tarefa de problema específica requer <b>prática e experiência</b>, cada algoritmo tem suas próprias peculiaridades e é baseado em certas suposições.</p>\n",
    "<p align='justify'>Na prática, é sempre recomendável comparar o desempenho de pelo menos 3 ou 4 algoritmos de aprendizagem diferentes para selecionar o melhor modelo para o problema específico. Eles podem diferir no número de recursos ou exemplos, na quantidade de ruído em um conjunto de dados e se as classes são linearmente separáveis ou não.</p>\n",
    "\n",
    "<p align='justify'>Eventualmente, o desempenho de um classificador em termos de performance computacional bem como o seu poder preditivo, depende muito dos dados subjacentes que estão disponíveis para o aprendizado. As cinco principais etapas envolvidas no treinamento, de acordo com <i>Sebastian Raschkal</i>, de um algoritmo de aprendizado de máquina supervisionado podem ser resumidas da seguinte forma:</p>\n",
    "<ol>\n",
    "<li>Selecionando recursos e coletando exemplos de treinamento rotulados.</li>\n",
    "<li>Escolhendo uma métrica de desempenho.</li>\n",
    "<li>Escolha de um classificador e algoritmo de otimização.</li>\n",
    "<li>Avaliação do desempenho do modelo.</li>\n",
    "<li>Ajustando o algoritmo.</li>\n",
    "</ol>"
   ]
  }
 ],
 "metadata": {
  "interpreter": {
   "hash": "f8bbe703e4409461e5c1796f0c401e26e62f32801f1a5b19455b89c31c613fbe"
  },
  "kernelspec": {
   "display_name": "Python 3.9.7 ('base')",
   "language": "python",
   "name": "python3"
  },
  "language_info": {
   "name": "python",
   "version": "3.9.7"
  },
  "orig_nbformat": 4
 },
 "nbformat": 4,
 "nbformat_minor": 2
}
