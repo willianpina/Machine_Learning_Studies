{
 "cells": [
  {
   "cell_type": "markdown",
   "metadata": {},
   "source": [
    "<h1 align=center>Aprendizado por Reforço para Tomada de Decisão em Ambientes Complexos</h1>\n",
    "\n",
    "<p align=center><img src=https://i0.wp.com/www.datageeks.com.br/wp-content/uploads/2019/06/Aprendizagem-por-Refor%C3%A7o.jpg?resize=350%2C350&ssl=1></p>\n",
    "\n",
    "Anteriomente, focamos no aprendizado de máquina supervisionado e não supervisionado. Também aprendemos como aproveitar as redes neurais artificiais e o aprendizado profundo para lidar com os problemas encontrados com esses tipos de aprendizado de máquina. Como você deve se lembrar, o aprendizado supervisionado se concentra em prever um rótulo de categoria ou valor contínuo de um determinado vetor de recursos de entrada. O aprendizado não supervisionado se concentra na extração de padrões de dados, tornando-o útil para compactação de dados, clustering ou aproximando a distribuição do conjunto de treinamento para gerar novos dados.\n",
    "\n",
    "Agora, voltamos nossa atenção para uma categoria separada de aprendizado de máquina, aprendizado por reforço (RL), que é diferente das categorias anteriores, pois se concentra em aprender uma série de ações para otimizar uma recompensa geral - por exemplo, vencer em um jogo de xadrez. Em resumo, abordaremos os seguintes tópicos:\n",
    "* Aprender os conceitos básicos de RL, familiarizar-se com as interações agente/ambiente e entender como funciona o processo de recompensa, a fim de ajudar a tomar decisões em ambientes complexos\n",
    "* Apresentando diferentes categorias de problemas de RL, tarefas de aprendizado baseadas em modelo e sem modelo, Monte Carlo e algoritmos de aprendizado de diferença temporal\n",
    "* Implementação de um algoritmo de Q-learning em formato tabular\n",
    "* Compreender a aproximação de função para resolver problemas de RL e combinar RL com aprendizado profundo através da implementação de um algoritmo Q-learning profundo\n",
    "\n",
    "RL é uma área de pesquisa complexa e vasta, e este módulo se concentrará nos fundamentos. Como este módulo serve como uma introdução, e para manter nossa atenção nos métodos e algoritmos importantes, trabalharemos principalmente com exemplos básicos que ilustram os principais conceitos. No entanto, no final deste módulo, examinaremos um exemplo mais desafiador e utilizaremos arquiteturas de aprendizado profundo para uma abordagem de RL específica, conhecida como Q-learning profundo."
   ]
  }
 ],
 "metadata": {
  "interpreter": {
   "hash": "3c198a0bf143da720db8a1ed2fdc43342371f98b364fdf2ef3c0c72d17a471d7"
  },
  "kernelspec": {
   "display_name": "Python 3.9.5 64-bit",
   "language": "python",
   "name": "python3"
  },
  "language_info": {
   "name": "python",
   "version": "3.9.5"
  },
  "orig_nbformat": 4
 },
 "nbformat": 4,
 "nbformat_minor": 2
}
