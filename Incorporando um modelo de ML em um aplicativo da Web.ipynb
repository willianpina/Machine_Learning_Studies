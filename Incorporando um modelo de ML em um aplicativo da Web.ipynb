{
 "cells": [
  {
   "cell_type": "markdown",
   "metadata": {},
   "source": [
    "<h1 align='center'>Incorporando um modelo de aprendizado de máquina em um aplicativo da Web</h1>\n",
    "\n",
    "<p align='center'><img src=https://afsystems.com.br/wp-content/uploads/2019/03/20190327_voce_sabe_o_que_e_aplicavitos_web_.jpg width='500'></p>\n",
    "\n",
    "As técnicas de aprendizado de máquina não se limitam a aplicativos e análises *offline*, e se tornaram o mecanismo preditivo de vários serviços da *web*. Por exemplo, aplicativos populares e úteis de modelos de aprendizado de máquina em aplicativos da *Web* incluem detecção de *spam* em formulários de envio, mecanismos de pesquisa, sistemas de recomendação para mídia ou portais de compras e muito mais.\n",
    "\n",
    "### Serializando estimadores scikit-learn ajustados\n",
    "\n",
    "Treinar um modelo de aprendizado de máquina pode ser **computacionalmente caro**. Certamente, não queremos treinar novamente nosso modelo toda vez que fechamos nosso interpretador *Python* e queremos fazer uma nova previsão ou recarregar nosso aplicativo da web.\n",
    "\n",
    "Uma opção para persistência de modelo é o módulo *pickle* embutido do *Python* (https://docs.python.org/3.7/library/pickle.html), que nos permite serializar e desserializar estruturas de objeto *Python* para compactar *bytecode* para que possamos salvar nosso classificador em seu estado atual e recarregá-lo se quisermos classificar novos exemplos não rotulados, sem precisar que o modelo aprenda com os dados de treinamento novamente.\n",
    "\n",
    "Antes de executar o código a seguir, certifique-se de ter treinado um modelo de regressão logística *out-of-core* e de tê-lo pronto em sua sessão atual do *Python*:"
   ]
  }
 ],
 "metadata": {
  "interpreter": {
   "hash": "f8bbe703e4409461e5c1796f0c401e26e62f32801f1a5b19455b89c31c613fbe"
  },
  "kernelspec": {
   "display_name": "Python 3.9.7 ('base')",
   "language": "python",
   "name": "python3"
  },
  "language_info": {
   "name": "python",
   "version": "3.9.7"
  },
  "orig_nbformat": 4
 },
 "nbformat": 4,
 "nbformat_minor": 2
}
