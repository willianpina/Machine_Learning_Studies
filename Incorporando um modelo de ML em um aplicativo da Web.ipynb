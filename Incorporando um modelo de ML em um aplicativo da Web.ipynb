{
 "cells": [
  {
   "cell_type": "markdown",
   "metadata": {},
   "source": [
    "<h1 align='center'>Incorporando um modelo de aprendizado de máquina em um aplicativo da Web</h1>\n",
    "\n",
    "<p align='center'><img src=https://afsystems.com.br/wp-content/uploads/2019/03/20190327_voce_sabe_o_que_e_aplicavitos_web_.jpg width='500'></p>\n",
    "\n",
    "As técnicas de aprendizado de máquina não se limitam a aplicativos e análises *offline*, e se tornaram o mecanismo preditivo de vários serviços da *web*. Por exemplo, aplicativos populares e úteis de modelos de aprendizado de máquina em aplicativos da *Web* incluem detecção de *spam* em formulários de envio, mecanismos de pesquisa, sistemas de recomendação para mídia ou portais de compras e muito mais.\n",
    "\n",
    "### Serializando estimadores scikit-learn ajustados\n",
    "\n",
    "Treinar um modelo de aprendizado de máquina pode ser **computacionalmente caro**. Certamente, não queremos treinar novamente nosso modelo toda vez que fechamos nosso interpretador *Python* e queremos fazer uma nova previsão ou recarregar nosso aplicativo da *web*.\n",
    "\n",
    "Uma opção para persistência de modelo é o módulo *pickle* embutido do *Python* (https://docs.python.org/3.7/library/pickle.html), que nos permite serializar e desserializar estruturas de objeto *Python* para compactar em *bytecode* para que possamos salvar nosso classificador em seu estado atual e recarregá-lo se quisermos classificar novos exemplos não rotulados, sem precisar que o modelo aprenda com os dados de treinamento novamente.\n",
    "\n",
    "Treinaremos um modelo de regressão logística *out-of-core* e iniciaremos o *pickle*:"
   ]
  },
  {
   "cell_type": "code",
   "execution_count": 2,
   "metadata": {},
   "outputs": [
    {
     "name": "stderr",
     "output_type": "stream",
     "text": [
      "0% [##############################] 100% | ETA: 00:00:00\n",
      "Total time elapsed: 00:00:15\n"
     ]
    }
   ],
   "source": [
    "import numpy as np\n",
    "import re\n",
    "from nltk.corpus import stopwords\n",
    "from nltk.stem import PorterStemmer\n",
    "\n",
    "stop = stopwords.words('english')\n",
    "porter = PorterStemmer()\n",
    "\n",
    "def tokenizer(text):\n",
    "    text = re.sub('<[^>]*>', '', text)\n",
    "    emoticons = re.findall('(?::|;|=)(?:-)?(?:\\)|\\(|D|P)', text.lower())\n",
    "    text = re.sub('[\\W]+', ' ', text.lower()) + ' '.join(emoticons).replace('-', '')\n",
    "    tokenized = [w for w in text.split() if w not in stop]\n",
    "    return tokenized\n",
    "\n",
    "def stream_docs(path):\n",
    "    with open(path, 'r', encoding='utf-8') as csv:\n",
    "        next(csv) # skip header\n",
    "        for line in csv:\n",
    "            text, label = line[:-3], int(line[-2])\n",
    "            yield text, label\n",
    "\n",
    "def get_minibatch(doc_stream, size):\n",
    "    docs, y = [], []\n",
    "    try:\n",
    "        for _ in range(size):\n",
    "            text, label = next(doc_stream)\n",
    "            docs.append(text)\n",
    "            y.append(label)\n",
    "    except StopIteration:\n",
    "        return None, None\n",
    "    return docs, y\n",
    "\n",
    "from sklearn.feature_extraction.text import HashingVectorizer\n",
    "from sklearn.linear_model import SGDClassifier\n",
    "\n",
    "vect = HashingVectorizer(decode_error='ignore', \n",
    "                         n_features=2**21,\n",
    "                         preprocessor=None, \n",
    "                         tokenizer=tokenizer)\n",
    "\n",
    "clf = SGDClassifier(loss='log', random_state=1, max_iter=1)\n",
    "doc_stream = stream_docs(path='movie_data.csv')\n",
    "\n",
    "###### Imorimindo os Mini Batchs\n",
    "import pyprind\n",
    "pbar = pyprind.ProgBar(45)\n",
    "\n",
    "classes = np.array([0, 1])\n",
    "for _ in range(45):\n",
    "    X_train, y_train = get_minibatch(doc_stream, size=1000)\n",
    "    if not X_train:\n",
    "        break\n",
    "    X_train = vect.transform(X_train)\n",
    "    clf.partial_fit(X_train, y_train, classes=classes)\n",
    "    pbar.update()"
   ]
  },
  {
   "cell_type": "code",
   "execution_count": 3,
   "metadata": {},
   "outputs": [
    {
     "name": "stdout",
     "output_type": "stream",
     "text": [
      "Accuracy: 0.866\n"
     ]
    }
   ],
   "source": [
    "# Treinando a Acurácia do modelo\n",
    "X_test, y_test = get_minibatch(doc_stream, size=5000)\n",
    "X_test = vect.transform(X_test)\n",
    "print('Accuracy: %.3f' % clf.score(X_test, y_test))\n",
    "\n",
    "clf = clf.partial_fit(X_test, y_test)"
   ]
  },
  {
   "cell_type": "markdown",
   "metadata": {},
   "source": [
    "Depois de treinarmos o modelo de regressão logística como mostrado acima, agora salvamos o classificador junto com as *stop words*, *Porter Stemmer* e *HashingVectorizer* como objetos serializados em nosso disco local para que possamos usar o classificador ajustado em nosso aplicativo da *web* posteriormente."
   ]
  },
  {
   "cell_type": "code",
   "execution_count": 10,
   "metadata": {},
   "outputs": [],
   "source": [
    "import pickle\n",
    "import os\n",
    "\n",
    "dest = os.path.join('movieclassifier', 'pkl_objects')\n",
    "if not os.path.exists(dest):\n",
    "    os.makedirs(dest)\n",
    "\n",
    "pickle.dump(stop,                                     # O método dump recebe como primeiro argumento o objeto que queremos conservar.\n",
    "            open(os.path.join(dest, 'stopwords.pkl'), #  Para o segundo argumento, fornecemos um objeto de arquivo aberto no qual o objeto *Python* será gravado.\n",
    "            'wb'),                                    # Por meio do argumento wb dentro da função open, abrimos o arquivo em modo binário para `pickle` \n",
    "            protocol=4)                               # protocol=4 para escolher o protocolo `pickle` mais recente e eficiente que foi adicionado ao *Python* 3.4\n",
    "\n",
    "pickle.dump(clf,\n",
    "            open(os.path.join(dest, 'classifier.pkl'),\n",
    "            'wb'),\n",
    "            protocol=4)\n"
   ]
  },
  {
   "cell_type": "markdown",
   "metadata": {},
   "source": [
    "Usando o código anterior, criamos um diretório *movieclassifier* onde posteriormente armazenaremos os arquivos e dados para nossa aplicação *web*. Dentro desse diretório *movieclassifier*, criamos um subdiretório *pkl_objects* para salvar os objetos *Python* serializados em nosso disco rígido local ou unidade de estado sólido.\n",
    "\n",
    "Por meio do método `dump` do módulo `pickle`, serializamos o modelo de regressão logística treinado, bem como o conjunto de *stop words* da biblioteca *Natural Language Toolkit (NLTK)*, para que não precisemos instalar o vocabulário *NLTK* em nosso servidor. Se você tiver problemas ao usar protocol=4, verifique se está usando a versão mais recente do *Python* 3—*Python* 3.7 é recomendado para este livro. Alternativamente, você pode considerar a escolha de um número de protocolo mais baixo.\n",
    "Observe também que, se você estiver usando um servidor *Web* personalizado, deverá garantir que a instalação do *Python* nesse servidor também seja compatível com esta versão do protocolo."
   ]
  },
  {
   "cell_type": "code",
   "execution_count": 12,
   "metadata": {},
   "outputs": [
    {
     "name": "stdout",
     "output_type": "stream",
     "text": [
      "Overwriting movieclassifier/vectorizer.py\n"
     ]
    }
   ],
   "source": [
    "%%writefile movieclassifier/vectorizer.py\n",
    "# Em seguida, salvamos o HashingVectorizer como em um arquivo separado para que possamos importá-lo posteriormente.\n",
    "\n",
    "from sklearn.feature_extraction.text import HashingVectorizer\n",
    "import re\n",
    "import os\n",
    "import pickle\n",
    "\n",
    "cur_dir = os.path.dirname(__file__)\n",
    "stop = pickle.load(open(\n",
    "                os.path.join(cur_dir, \n",
    "                'pkl_objects', \n",
    "                'stopwords.pkl'), 'rb'))\n",
    "\n",
    "def tokenizer(text):\n",
    "    text = re.sub('<[^>]*>', '', text)\n",
    "    emoticons = re.findall('(?::|;|=)(?:-)?(?:\\)|\\(|D|P)',\n",
    "                           text.lower())\n",
    "    text = re.sub('[\\W]+', ' ', text.lower()) \\\n",
    "                   + ' '.join(emoticons).replace('-', '')\n",
    "    tokenized = [w for w in text.split() if w not in stop]\n",
    "    return tokenized\n",
    "\n",
    "vect = HashingVectorizer(decode_error='ignore',\n",
    "                         n_features=2**21,\n",
    "                         preprocessor=None,\n",
    "                         tokenizer=tokenizer)"
   ]
  }
 ],
 "metadata": {
  "interpreter": {
   "hash": "f8bbe703e4409461e5c1796f0c401e26e62f32801f1a5b19455b89c31c613fbe"
  },
  "kernelspec": {
   "display_name": "Python 3.9.7 ('base')",
   "language": "python",
   "name": "python3"
  },
  "language_info": {
   "codemirror_mode": {
    "name": "ipython",
    "version": 3
   },
   "file_extension": ".py",
   "mimetype": "text/x-python",
   "name": "python",
   "nbconvert_exporter": "python",
   "pygments_lexer": "ipython3",
   "version": "3.9.7"
  },
  "orig_nbformat": 4
 },
 "nbformat": 4,
 "nbformat_minor": 2
}
