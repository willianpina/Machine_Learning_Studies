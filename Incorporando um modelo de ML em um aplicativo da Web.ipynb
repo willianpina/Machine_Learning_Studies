{
 "cells": [
  {
   "cell_type": "markdown",
   "metadata": {},
   "source": [
    "<h1 align='center'>Incorporando um modelo de aprendizado de máquina em um aplicativo da Web</h1>\n",
    "\n",
    "<p align='center'><img src=https://afsystems.com.br/wp-content/uploads/2019/03/20190327_voce_sabe_o_que_e_aplicavitos_web_.jpg width='500'></p>\n",
    "\n",
    "As técnicas de aprendizado de máquina não se limitam a aplicativos e análises *offline*, e se tornaram o mecanismo preditivo de vários serviços da *web*. Por exemplo, aplicativos populares e úteis de modelos de aprendizado de máquina em aplicativos da *Web* incluem detecção de *spam* em formulários de envio, mecanismos de pesquisa, sistemas de recomendação para mídia ou portais de compras e muito mais.\n",
    "\n",
    "### Serializando estimadores scikit-learn ajustados\n",
    "\n",
    "Treinar um modelo de aprendizado de máquina pode ser **computacionalmente caro**. Certamente, não queremos treinar novamente nosso modelo toda vez que fechamos nosso interpretador *Python* e queremos fazer uma nova previsão ou recarregar nosso aplicativo da *web*.\n",
    "\n",
    "Uma opção para persistência de modelo é o módulo *pickle* embutido do *Python* (https://docs.python.org/3.7/library/pickle.html), que nos permite serializar e desserializar estruturas de objeto *Python* para compactar em *bytecode* para que possamos salvar nosso classificador em seu estado atual e recarregá-lo se quisermos classificar novos exemplos não rotulados, sem precisar que o modelo aprenda com os dados de treinamento novamente.\n",
    "\n",
    "Antes de executar o código a seguir, certifique-se de ter treinado um modelo de regressão logística *out-of-core* e de tê-lo pronto em sua sessão atual do *Python*:"
   ]
  },
  {
   "cell_type": "code",
   "execution_count": 8,
   "metadata": {},
   "outputs": [
    {
     "name": "stderr",
     "output_type": "stream",
     "text": [
      "0% [##############################] 100% | ETA: 00:00:00\n",
      "Total time elapsed: 00:00:15\n"
     ]
    }
   ],
   "source": [
    "import numpy as np\n",
    "import re\n",
    "from nltk.corpus import stopwords\n",
    "from nltk.stem import PorterStemmer\n",
    "\n",
    "stop = stopwords.words('english')\n",
    "porter = PorterStemmer()\n",
    "\n",
    "def tokenizer(text):\n",
    "    text = re.sub('<[^>]*>', '', text)\n",
    "    emoticons = re.findall('(?::|;|=)(?:-)?(?:\\)|\\(|D|P)', text.lower())\n",
    "    text = re.sub('[\\W]+', ' ', text.lower()) + ' '.join(emoticons).replace('-', '')\n",
    "    tokenized = [w for w in text.split() if w not in stop]\n",
    "    return tokenized\n",
    "\n",
    "def stream_docs(path):\n",
    "    with open(path, 'r', encoding='utf-8') as csv:\n",
    "        next(csv) # skip header\n",
    "        for line in csv:\n",
    "            text, label = line[:-3], int(line[-2])\n",
    "            yield text, label\n",
    "\n",
    "def get_minibatch(doc_stream, size):\n",
    "    docs, y = [], []\n",
    "    try:\n",
    "        for _ in range(size):\n",
    "            text, label = next(doc_stream)\n",
    "            docs.append(text)\n",
    "            y.append(label)\n",
    "    except StopIteration:\n",
    "        return None, None\n",
    "    return docs, y\n",
    "\n",
    "from sklearn.feature_extraction.text import HashingVectorizer\n",
    "from sklearn.linear_model import SGDClassifier\n",
    "\n",
    "vect = HashingVectorizer(decode_error='ignore', \n",
    "                         n_features=2**21,\n",
    "                         preprocessor=None, \n",
    "                         tokenizer=tokenizer)\n",
    "\n",
    "clf = SGDClassifier(loss='log', random_state=1, max_iter=1)\n",
    "doc_stream = stream_docs(path='movie_data.csv')\n",
    "\n",
    "###### Imorimindo os Mini Batchs\n",
    "import pyprind\n",
    "pbar = pyprind.ProgBar(45)\n",
    "\n",
    "classes = np.array([0, 1])\n",
    "for _ in range(45):\n",
    "    X_train, y_train = get_minibatch(doc_stream, size=1000)\n",
    "    if not X_train:\n",
    "        break\n",
    "    X_train = vect.transform(X_train)\n",
    "    clf.partial_fit(X_train, y_train, classes=classes)\n",
    "    pbar.update()"
   ]
  },
  {
   "cell_type": "code",
   "execution_count": 9,
   "metadata": {},
   "outputs": [
    {
     "name": "stdout",
     "output_type": "stream",
     "text": [
      "Accuracy: 0.866\n"
     ]
    }
   ],
   "source": [
    "# Treinando a Acurácia do modelo\n",
    "X_test, y_test = get_minibatch(doc_stream, size=5000)\n",
    "X_test = vect.transform(X_test)\n",
    "print('Accuracy: %.3f' % clf.score(X_test, y_test))\n",
    "\n",
    "clf = clf.partial_fit(X_test, y_test)"
   ]
  }
 ],
 "metadata": {
  "interpreter": {
   "hash": "f8bbe703e4409461e5c1796f0c401e26e62f32801f1a5b19455b89c31c613fbe"
  },
  "kernelspec": {
   "display_name": "Python 3.9.7 ('base')",
   "language": "python",
   "name": "python3"
  },
  "language_info": {
   "codemirror_mode": {
    "name": "ipython",
    "version": 3
   },
   "file_extension": ".py",
   "mimetype": "text/x-python",
   "name": "python",
   "nbconvert_exporter": "python",
   "pygments_lexer": "ipython3",
   "version": "3.9.7"
  },
  "orig_nbformat": 4
 },
 "nbformat": 4,
 "nbformat_minor": 2
}
