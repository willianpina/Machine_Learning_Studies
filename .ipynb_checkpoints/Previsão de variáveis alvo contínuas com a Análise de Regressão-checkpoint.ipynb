{
 "cells": [
  {
   "cell_type": "markdown",
   "metadata": {
    "pycharm": {
     "name": "#%% md\n"
    }
   },
   "source": [
    "<h1 p align='center'>Previsão de variáveis alvo contínuas com a Análise de Regressão</h1>\n",
    "<p align='center'><img src=https://cdn.lynda.com/course/2848256/2848256-1608664963973-16x9.jpg width = 500></p>\n",
    "\n",
    "Modelos de regressão são usados para prever variáveis alvo em escala contínua, o que os torna atraentes para abordar muitas questões da ciência. Eles também têm aplicações na indústria, como entender as relações entre variáveis, avaliar tendências ou fazer previsões. Um exemplo é prever as vendas de uma empresa nos próximos meses."
   ]
  },
  {
   "cell_type": "markdown",
   "metadata": {
    "pycharm": {
     "name": "#%% md\n"
    }
   },
   "source": [
    "\\begin{align*}\n",
    "y = x_{0} + w_{1}x\n",
    "\\end{align*}\n",
    "\n",
    "Aqui, o peso, $w_{0}$, representa a interseção do eixo $y$ e $w_{1}$ é o coeficiente de peso da variável explicativa. Nosso objetivo é aprender os pesos da equação linear para descrever a relação entre a variável explicativa e a variável alvo, que pode então ser usada para prever as respostas de novas variáveis explicativas que não faziam parte do conjunto de dados de treinamento.\n",
    "\n",
    "Com base na equação linear que definimos anteriormente, a regressão linear pode ser entendida como encontrar a linha reta de melhor ajuste por meio dos exemplos de treinamento, conforme mostrado na figura a seguir:\n",
    "\n",
    "<p align='center'><img src=https://vitalflux.com/wp-content/uploads/2022/02/simple-linear-regression-line.jpg></p>\n",
    "\n",
    "Essa linha de melhor ajuste também é chamada de **linha de regressão**, e as linhas verticais da linha de regressão para os exemplos de treinamento são os chamados deslocamentos ou resíduos – os erros de nossa previsão.\n",
    "\n",
    "### Regressão linear múltipla\n",
    "\n",
    "Acima foi introduzida a regressão linear simples, um caso especial de regressão linear com uma variável explicativa. Claro, também podemos generalizar o modelo de regressão linear para múltiplas variáveis explicativas; esse processo é chamado de regressão linear múltipla:\n",
    "\\begin{align*}\n",
    "y = x_{0}w_{0} + w_{1}x_{1} + ... w_{m}x_{m} = \\sum^{n}_{i=0}w_{i}x_{i} = w^Tx\n",
    "\\end{align*}\n",
    "\n",
    "<img src=https://datacadamia.com/_media/data_mining/multiple_regression_representation_hyperplane.jpg? width='500'>\n",
    "\n",
    "Figura 1: Hiperplano com duas *features*\n",
    "\n",
    "Como podemos ver, as visualizações de múltiplos hiperplanos de regressão linear em um gráfico de dispersão tridimensional já são difíceis de interpretar ao olhar para figuras estáticas. Como não temos bons meios de visualizar hiperplanos com duas dimensões em um gráfico de dispersão (múltiplos modelos de regressão linear ajustados a conjuntos de dados com três ou mais recursos), os exemplos e visualizações se concentrarão, principalmente, no caso univariado, usando regressão linear simples. No entanto, as regressões lineares simples e múltiplas são baseadas nos mesmos conceitos e nas mesmas técnicas de avaliação; as implementações de código que discutiremos também são compatíveis com os dois tipos de modelo de regressão.\n",
    "\n",
    "### Carregando o conjunto de dados de Habitação em um *DataFrame*"
   ]
  },
  {
   "cell_type": "code",
   "execution_count": 1,
   "metadata": {
    "pycharm": {
     "name": "#%%\n"
    }
   },
   "outputs": [
    {
     "data": {
      "text/html": [
       "<div>\n",
       "<style scoped>\n",
       "    .dataframe tbody tr th:only-of-type {\n",
       "        vertical-align: middle;\n",
       "    }\n",
       "\n",
       "    .dataframe tbody tr th {\n",
       "        vertical-align: top;\n",
       "    }\n",
       "\n",
       "    .dataframe thead th {\n",
       "        text-align: right;\n",
       "    }\n",
       "</style>\n",
       "<table border=\"1\" class=\"dataframe\">\n",
       "  <thead>\n",
       "    <tr style=\"text-align: right;\">\n",
       "      <th></th>\n",
       "      <th>CRIM</th>\n",
       "      <th>ZN</th>\n",
       "      <th>INDUS</th>\n",
       "      <th>CHAS</th>\n",
       "      <th>NOX</th>\n",
       "      <th>RM</th>\n",
       "      <th>AGE</th>\n",
       "      <th>DIS</th>\n",
       "      <th>RAD</th>\n",
       "      <th>TAX</th>\n",
       "      <th>PTRATIO</th>\n",
       "      <th>B</th>\n",
       "      <th>LSTAT</th>\n",
       "      <th>MEDV</th>\n",
       "    </tr>\n",
       "  </thead>\n",
       "  <tbody>\n",
       "    <tr>\n",
       "      <th>0</th>\n",
       "      <td>0.00632</td>\n",
       "      <td>18.0</td>\n",
       "      <td>2.31</td>\n",
       "      <td>0</td>\n",
       "      <td>0.538</td>\n",
       "      <td>6.575</td>\n",
       "      <td>65.2</td>\n",
       "      <td>4.0900</td>\n",
       "      <td>1</td>\n",
       "      <td>296.0</td>\n",
       "      <td>15.3</td>\n",
       "      <td>396.90</td>\n",
       "      <td>4.98</td>\n",
       "      <td>24.0</td>\n",
       "    </tr>\n",
       "    <tr>\n",
       "      <th>1</th>\n",
       "      <td>0.02731</td>\n",
       "      <td>0.0</td>\n",
       "      <td>7.07</td>\n",
       "      <td>0</td>\n",
       "      <td>0.469</td>\n",
       "      <td>6.421</td>\n",
       "      <td>78.9</td>\n",
       "      <td>4.9671</td>\n",
       "      <td>2</td>\n",
       "      <td>242.0</td>\n",
       "      <td>17.8</td>\n",
       "      <td>396.90</td>\n",
       "      <td>9.14</td>\n",
       "      <td>21.6</td>\n",
       "    </tr>\n",
       "    <tr>\n",
       "      <th>2</th>\n",
       "      <td>0.02729</td>\n",
       "      <td>0.0</td>\n",
       "      <td>7.07</td>\n",
       "      <td>0</td>\n",
       "      <td>0.469</td>\n",
       "      <td>7.185</td>\n",
       "      <td>61.1</td>\n",
       "      <td>4.9671</td>\n",
       "      <td>2</td>\n",
       "      <td>242.0</td>\n",
       "      <td>17.8</td>\n",
       "      <td>392.83</td>\n",
       "      <td>4.03</td>\n",
       "      <td>34.7</td>\n",
       "    </tr>\n",
       "    <tr>\n",
       "      <th>3</th>\n",
       "      <td>0.03237</td>\n",
       "      <td>0.0</td>\n",
       "      <td>2.18</td>\n",
       "      <td>0</td>\n",
       "      <td>0.458</td>\n",
       "      <td>6.998</td>\n",
       "      <td>45.8</td>\n",
       "      <td>6.0622</td>\n",
       "      <td>3</td>\n",
       "      <td>222.0</td>\n",
       "      <td>18.7</td>\n",
       "      <td>394.63</td>\n",
       "      <td>2.94</td>\n",
       "      <td>33.4</td>\n",
       "    </tr>\n",
       "    <tr>\n",
       "      <th>4</th>\n",
       "      <td>0.06905</td>\n",
       "      <td>0.0</td>\n",
       "      <td>2.18</td>\n",
       "      <td>0</td>\n",
       "      <td>0.458</td>\n",
       "      <td>7.147</td>\n",
       "      <td>54.2</td>\n",
       "      <td>6.0622</td>\n",
       "      <td>3</td>\n",
       "      <td>222.0</td>\n",
       "      <td>18.7</td>\n",
       "      <td>396.90</td>\n",
       "      <td>5.33</td>\n",
       "      <td>36.2</td>\n",
       "    </tr>\n",
       "  </tbody>\n",
       "</table>\n",
       "</div>"
      ],
      "text/plain": [
       "      CRIM    ZN  INDUS  CHAS    NOX     RM   AGE     DIS  RAD    TAX  \\\n",
       "0  0.00632  18.0   2.31     0  0.538  6.575  65.2  4.0900    1  296.0   \n",
       "1  0.02731   0.0   7.07     0  0.469  6.421  78.9  4.9671    2  242.0   \n",
       "2  0.02729   0.0   7.07     0  0.469  7.185  61.1  4.9671    2  242.0   \n",
       "3  0.03237   0.0   2.18     0  0.458  6.998  45.8  6.0622    3  222.0   \n",
       "4  0.06905   0.0   2.18     0  0.458  7.147  54.2  6.0622    3  222.0   \n",
       "\n",
       "   PTRATIO       B  LSTAT  MEDV  \n",
       "0     15.3  396.90   4.98  24.0  \n",
       "1     17.8  396.90   9.14  21.6  \n",
       "2     17.8  392.83   4.03  34.7  \n",
       "3     18.7  394.63   2.94  33.4  \n",
       "4     18.7  396.90   5.33  36.2  "
      ]
     },
     "execution_count": 1,
     "metadata": {},
     "output_type": "execute_result"
    }
   ],
   "source": [
    "import pandas as pd\n",
    "\n",
    "df = pd.read_csv('https://raw.githubusercontent.com/rasbt/'\n",
    "                 'python-machine-learning-book-3rd-edition/'\n",
    "                 'master/ch10/housing.data.txt',\n",
    "                 header=None,\n",
    "                 sep='\\s+')\n",
    "\n",
    "df.columns = ['CRIM', 'ZN', 'INDUS', 'CHAS', \n",
    "              'NOX', 'RM', 'AGE', 'DIS', 'RAD', \n",
    "              'TAX', 'PTRATIO', 'B', 'LSTAT', 'MEDV']\n",
    "df.head()"
   ]
  },
  {
   "cell_type": "markdown",
   "metadata": {
    "pycharm": {
     "name": "#%% md\n"
    }
   },
   "source": [
    "### Visualizando as características importantes de um conjunto de dados\n",
    "\n",
    "A análise exploratória de dados (*EDA*) é uma primeira etapa importante e recomendada antes do treinamento de um modelo de aprendizado de máquina. Usaremos algumas técnicas simples, porém úteis, da caixa de ferramentas gráfica *EDA* que podem nos ajudar a detectar visualmente a presença de *outliers*, a distribuição dos dados e os relacionamentos entre os recursos.\n",
    "Primeiro, criaremos uma matriz de gráfico de dispersão que nos permitirá visualizar as correlações em pares entre os diferentes recursos desse conjunto de dados em um só lugar. Para plotar a matriz de gráfico de dispersão, usaremos a função `scatterplotmatrix` da biblioteca *MLxtend*, que é uma biblioteca *Python* que contém várias funções de conveniência para aplicativos de aprendizado de máquina e ciência de dados em *Python*."
   ]
  },
  {
   "cell_type": "code",
   "execution_count": null,
   "metadata": {
    "pycharm": {
     "is_executing": true,
     "name": "#%%\n"
    }
   },
   "outputs": [],
   "source": [
    "import matplotlib.pyplot as plt\n",
    "from mlxtend.plotting import scatterplotmatrix # Usando a Mlxtend para plotagem dos Gráficos\n",
    "\n",
    "cols = ['LSTAT', 'INDUS', 'NOX', 'RM', 'MEDV']\n",
    "\n",
    "\n",
    "scatterplotmatrix(df[cols].values, figsize=(12, 10), \n",
    "                  names=cols, alpha=0.5)\n",
    "\n",
    "plt.tight_layout()\n",
    "\n",
    "plt.show()\n"
   ]
  },
  {
   "cell_type": "markdown",
   "metadata": {
    "pycharm": {
     "name": "#%% md\n"
    }
   },
   "source": [
    "Para não deixar muito poluído o espaço, plotamos apenas **cinco colunas** do conjunto de dados: *LSTAT, INDUS, NOX, RM e MEDV*. No entanto, é interessante criar uma matriz de gráfico de dispersão de todo o *DataFrame* para explorar ainda mais o conjunto de dados escolhendo nomes de coluna diferentes na chamada de função de matriz de dispersão anterior ou incluindo todas as variáveis na matriz de gráfico de dispersão omitindo o seletor de coluna.\n",
    "\n",
    "Usando essa matriz de gráfico de dispersão, agora podemos observar rapidamente como os dados são distribuídos e se eles contêm valores discrepantes. Por exemplo, podemos ver que existe uma relação linear entre o *RM* e os preços das casas, *MEDV* (a quinta linha da quarta coluna). Além disso, podemos ver no histograma - o subtrama inferior direito na matriz do gráfico de dispersão - que a variável *MEDV* parece ser normalmente distribuída, mas contém vários valores discrepantes.\n",
    "\n",
    "<blockquote>\n",
    "<h5>Suposição de normalidade da regressão linear</h5>\n",
    "<p align='justify'>Observe que, ao contrário da crença comum, treinar um modelo de regressão linear não requer que as variáveis explicativas ou alvo sejam normalmente distribuídas. A suposição de normalidade é apenas um requisito para certas estatísticas e testes de hipóteses (para obter mais informações sobre este tópico, consulte Introdução à Análise de Regressão Linear, Montgomery, Douglas C. Montgomery, Elizabeth A. Peck, e G. Geoffrey Vining, Wiley, 2012, páginas: 318-319).</p>\n",
    "</blockquote>\n",
    "\n",
    "### Olhando para os relacionamentos usando uma matriz de correlação\n",
    "Visualizamos anteriomente as distribuições de dados das variáveis ​​do conjunto de dados de Habitação na forma de histogramas e gráficos de dispersão. Em seguida, criaremos **uma matriz de correlação** para quantificar e resumir as relações lineares entre as variáveis. Uma matriz de correlação está intimamente relacionada à matriz de covariância quando aplicamos a redução de dimensionalidade não supervisionada por meio da Análise de Componentes Principais. Podemos interpretar a matriz de correlação como sendo uma versão redimensionada da matriz de covariância. De fato, a matriz de correlação é idêntica a uma matriz de covariância calculada a partir de características padronizadas.\n",
    "\n",
    "A matriz de correlação é uma matriz quadrada que contém o coeficiente de correlação produto-momento de *Pearson* (geralmente abreviado como $r$ de *Pearson*), que mede a dependência linear entre pares de recursos. Os coeficientes de correlação estão na faixa de –1 a 1. Duas características têm uma correlação positiva perfeita se $r$ = 1, nenhuma correlação se $r$ = 0 e uma correlação negativa perfeita se $r$ = –1. Como mencionado anteriormente, o coeficiente de correlação de *Pearson* pode ser simplesmente calculado como a covariância entre duas características, $x$ e $y$ (numerador), dividida pelo produto de seus desvios padrão (denominador):\n",
    "\n",
    "\\begin{align*}\n",
    "r = \\dfrac{\\sigma_{xy}}{\\sigma_{x}\\sigma_{y}}\n",
    "\\end{align*} \n",
    "\n",
    "Como você pode ver na figura abaixo, a matriz de correlação nos fornece outro gráfico de resumo útil que pode nos ajudar a selecionar recursos com base em suas respectivas correlações lineares:"
   ]
  },
  {
   "cell_type": "code",
   "execution_count": null,
   "metadata": {
    "pycharm": {
     "is_executing": true,
     "name": "#%%\n"
    }
   },
   "outputs": [],
   "source": [
    "import numpy as np\n",
    "from mlxtend.plotting import heatmap\n",
    "\n",
    "\n",
    "cm = np.corrcoef(df[cols].values.T)\n",
    "hm = heatmap(cm, row_names=cols, column_names=cols, figsize=(12,6))\n",
    "plt.show()"
   ]
  },
  {
   "cell_type": "markdown",
   "metadata": {
    "pycharm": {
     "name": "#%% md\n"
    }
   },
   "source": [
    "Para ajustar um modelo de regressão linear, estamos interessados naqueles recursos que têm **uma alta correlação com nossa variável alvo**, *MEDV*. Observando a matriz de correlação anterior, podemos ver que nossa variável alvo, *MEDV*, apresenta a maior correlação com a *variável LSTAT (-0,74)*; no entanto, ao inspecionar a matriz do gráfico de dispersão, há uma relação não linear clara entre *LSTAT* e *MEDV*.\n",
    "\n",
    "Por outro lado, a correlação entre *RM* e *MEDV* também é relativamente **alta (0,70)**. Dada a relação linear entre essas duas variáveis que observamos no gráfico de dispersão, *RM* parece ser uma boa escolha como variável exploratória para introduzir os conceitos de um modelo de regressão linear simples."
   ]
  }
 ],
 "metadata": {
  "interpreter": {
   "hash": "f8bbe703e4409461e5c1796f0c401e26e62f32801f1a5b19455b89c31c613fbe"
  },
  "kernelspec": {
   "display_name": "Python 3 (ipykernel)",
   "language": "python",
   "name": "python3"
  },
  "language_info": {
   "codemirror_mode": {
    "name": "ipython",
    "version": 3
   },
   "file_extension": ".py",
   "mimetype": "text/x-python",
   "name": "python",
   "nbconvert_exporter": "python",
   "pygments_lexer": "ipython3",
   "version": "3.9.5"
  }
 },
 "nbformat": 4,
 "nbformat_minor": 2
}
