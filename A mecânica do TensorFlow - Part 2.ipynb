{
 "cells": [
  {
   "cell_type": "markdown",
   "metadata": {},
   "source": [
    "<h1 align=center>A Mecânica do Tensorflow (Part 2)</h1>\n",
    "\n",
    "\n",
    "### Usando estimadores para classificação de dígitos manuscritos MNIST\n",
    "\n",
    "Para este problema de classificação, vamos usar o estimador `DNNClassifier` fornecido pelo *TensorFlow*, que nos permite implementar um perceptron multicamadas de forma muito conveniente. Na seção anterior, abordamos detalhadamente as quatro etapas essenciais para usar os Avaliadores pré-fabricados, que precisaremos repetir nesta seção. Primeiro, vamos importar o submódulo `tensorflow_datasets` (tfds), que podemos usar para carregar o conjunto de dados MNIST e especificar os hiperparâmetros do modelo.\n",
    "\n",
    "> #### API do estimador e problemas de gráfico\n",
    "> Como partes do TensorFlow 2.0 ainda são um pouco ásperas, você pode encontrar o seguinte problema ao executar o próximo bloco de código: RuntimeError: o gráfico foi finalizado e não pode ser modificado. Atualmente, não há uma boa solução para esse problema, e uma solução alternativa sugerida é reiniciar sua sessão do Python, IPython ou Jupyter Notebook antes de executar o próximo bloco de código."
   ]
  },
  {
   "cell_type": "code",
   "execution_count": 1,
   "outputs": [
    {
     "name": "stdout",
     "output_type": "stream",
     "text": [
      "INFO:tensorflow:Using default config.\n",
      "INFO:tensorflow:Using config: {'_model_dir': 'models/mnist-dnn/', '_tf_random_seed': None, '_save_summary_steps': 100, '_save_checkpoints_steps': None, '_save_checkpoints_secs': 600, '_session_config': allow_soft_placement: true\n",
      "graph_options {\n",
      "  rewrite_options {\n",
      "    meta_optimizer_iterations: ONE\n",
      "  }\n",
      "}\n",
      ", '_keep_checkpoint_max': 5, '_keep_checkpoint_every_n_hours': 10000, '_log_step_count_steps': 100, '_train_distribute': None, '_device_fn': None, '_protocol': None, '_eval_distribute': None, '_experimental_distribute': None, '_experimental_max_worker_delay_secs': None, '_session_creation_timeout_secs': 7200, '_checkpoint_save_graph_def': True, '_service': None, '_cluster_spec': ClusterSpec({}), '_task_type': 'worker', '_task_id': 0, '_global_id_in_cluster': 0, '_master': '', '_evaluation_master': '', '_is_chief': True, '_num_ps_replicas': 0, '_num_worker_replicas': 1}\n",
      "WARNING:tensorflow:From C:\\Users\\willi\\AppData\\Roaming\\Python\\Python39\\site-packages\\tensorflow\\python\\training\\training_util.py:400: Variable.initialized_value (from tensorflow.python.ops.variables) is deprecated and will be removed in a future version.\n",
      "Instructions for updating:\n",
      "Use Variable.read_value. Variables in 2.X are initialized automatically both in eager and graph (inside tf.defun) contexts.\n",
      "INFO:tensorflow:Calling model_fn.\n"
     ]
    },
    {
     "name": "stderr",
     "output_type": "stream",
     "text": [
      "INFO:tensorflow:Calling model_fn.\n"
     ]
    },
    {
     "name": "stdout",
     "output_type": "stream",
     "text": [
      "WARNING:tensorflow:From C:\\Users\\willi\\anaconda3\\lib\\site-packages\\keras\\optimizer_v2\\adagrad.py:83: calling Constant.__init__ (from tensorflow.python.ops.init_ops) with dtype is deprecated and will be removed in a future version.\n",
      "Instructions for updating:\n",
      "Call initializer instance with the dtype argument instead of passing it to the constructor\n"
     ]
    },
    {
     "name": "stderr",
     "output_type": "stream",
     "text": [
      "WARNING:tensorflow:From C:\\Users\\willi\\anaconda3\\lib\\site-packages\\keras\\optimizer_v2\\adagrad.py:83: calling Constant.__init__ (from tensorflow.python.ops.init_ops) with dtype is deprecated and will be removed in a future version.\n",
      "Instructions for updating:\n",
      "Call initializer instance with the dtype argument instead of passing it to the constructor\n"
     ]
    },
    {
     "ename": "AttributeError",
     "evalue": "module 'tensorflow.compat.v2.__internal__.distribute' has no attribute 'strategy_supports_no_merge_call'",
     "output_type": "error",
     "traceback": [
      "\u001B[1;31m---------------------------------------------------------------------------\u001B[0m",
      "\u001B[1;31mAttributeError\u001B[0m                            Traceback (most recent call last)",
      "Input \u001B[1;32mIn [1]\u001B[0m, in \u001B[0;36m<cell line: 49>\u001B[1;34m()\u001B[0m\n\u001B[0;32m     42\u001B[0m dnn_classifier \u001B[38;5;241m=\u001B[39m tf\u001B[38;5;241m.\u001B[39mestimator\u001B[38;5;241m.\u001B[39mDNNClassifier(\n\u001B[0;32m     43\u001B[0m     feature_columns\u001B[38;5;241m=\u001B[39m[image_feature_column],\n\u001B[0;32m     44\u001B[0m     hidden_units\u001B[38;5;241m=\u001B[39m[\u001B[38;5;241m32\u001B[39m, \u001B[38;5;241m16\u001B[39m],\n\u001B[0;32m     45\u001B[0m     n_classes\u001B[38;5;241m=\u001B[39m\u001B[38;5;241m10\u001B[39m,\n\u001B[0;32m     46\u001B[0m     model_dir\u001B[38;5;241m=\u001B[39m\u001B[38;5;124m'\u001B[39m\u001B[38;5;124mmodels/mnist-dnn/\u001B[39m\u001B[38;5;124m'\u001B[39m)\n\u001B[0;32m     48\u001B[0m \u001B[38;5;66;03m## Step 4: train\u001B[39;00m\n\u001B[1;32m---> 49\u001B[0m \u001B[43mdnn_classifier\u001B[49m\u001B[38;5;241;43m.\u001B[39;49m\u001B[43mtrain\u001B[49m\u001B[43m(\u001B[49m\n\u001B[0;32m     50\u001B[0m \u001B[43m    \u001B[49m\u001B[43minput_fn\u001B[49m\u001B[38;5;241;43m=\u001B[39;49m\u001B[43mtrain_input_fn\u001B[49m\u001B[43m,\u001B[49m\n\u001B[0;32m     51\u001B[0m \u001B[43m    \u001B[49m\u001B[43msteps\u001B[49m\u001B[38;5;241;43m=\u001B[39;49m\u001B[43mNUM_EPOCHS\u001B[49m\u001B[43m \u001B[49m\u001B[38;5;241;43m*\u001B[39;49m\u001B[43m \u001B[49m\u001B[43msteps_per_epoch\u001B[49m\u001B[43m)\u001B[49m\n",
      "File \u001B[1;32m~\\AppData\\Roaming\\Python\\Python39\\site-packages\\tensorflow_estimator\\python\\estimator\\estimator.py:360\u001B[0m, in \u001B[0;36mEstimator.train\u001B[1;34m(self, input_fn, hooks, steps, max_steps, saving_listeners)\u001B[0m\n\u001B[0;32m    357\u001B[0m hooks\u001B[38;5;241m.\u001B[39mextend(\u001B[38;5;28mself\u001B[39m\u001B[38;5;241m.\u001B[39m_convert_train_steps_to_hooks(steps, max_steps))\n\u001B[0;32m    359\u001B[0m saving_listeners \u001B[38;5;241m=\u001B[39m _check_listeners_type(saving_listeners)\n\u001B[1;32m--> 360\u001B[0m loss \u001B[38;5;241m=\u001B[39m \u001B[38;5;28;43mself\u001B[39;49m\u001B[38;5;241;43m.\u001B[39;49m\u001B[43m_train_model\u001B[49m\u001B[43m(\u001B[49m\u001B[43minput_fn\u001B[49m\u001B[43m,\u001B[49m\u001B[43m \u001B[49m\u001B[43mhooks\u001B[49m\u001B[43m,\u001B[49m\u001B[43m \u001B[49m\u001B[43msaving_listeners\u001B[49m\u001B[43m)\u001B[49m\n\u001B[0;32m    361\u001B[0m logging\u001B[38;5;241m.\u001B[39minfo(\u001B[38;5;124m'\u001B[39m\u001B[38;5;124mLoss for final step: \u001B[39m\u001B[38;5;132;01m%s\u001B[39;00m\u001B[38;5;124m.\u001B[39m\u001B[38;5;124m'\u001B[39m, loss)\n\u001B[0;32m    362\u001B[0m \u001B[38;5;28;01mreturn\u001B[39;00m \u001B[38;5;28mself\u001B[39m\n",
      "File \u001B[1;32m~\\AppData\\Roaming\\Python\\Python39\\site-packages\\tensorflow_estimator\\python\\estimator\\estimator.py:1186\u001B[0m, in \u001B[0;36mEstimator._train_model\u001B[1;34m(self, input_fn, hooks, saving_listeners)\u001B[0m\n\u001B[0;32m   1184\u001B[0m   \u001B[38;5;28;01mreturn\u001B[39;00m \u001B[38;5;28mself\u001B[39m\u001B[38;5;241m.\u001B[39m_train_model_distributed(input_fn, hooks, saving_listeners)\n\u001B[0;32m   1185\u001B[0m \u001B[38;5;28;01melse\u001B[39;00m:\n\u001B[1;32m-> 1186\u001B[0m   \u001B[38;5;28;01mreturn\u001B[39;00m \u001B[38;5;28;43mself\u001B[39;49m\u001B[38;5;241;43m.\u001B[39;49m\u001B[43m_train_model_default\u001B[49m\u001B[43m(\u001B[49m\u001B[43minput_fn\u001B[49m\u001B[43m,\u001B[49m\u001B[43m \u001B[49m\u001B[43mhooks\u001B[49m\u001B[43m,\u001B[49m\u001B[43m \u001B[49m\u001B[43msaving_listeners\u001B[49m\u001B[43m)\u001B[49m\n",
      "File \u001B[1;32m~\\AppData\\Roaming\\Python\\Python39\\site-packages\\tensorflow_estimator\\python\\estimator\\estimator.py:1214\u001B[0m, in \u001B[0;36mEstimator._train_model_default\u001B[1;34m(self, input_fn, hooks, saving_listeners)\u001B[0m\n\u001B[0;32m   1211\u001B[0m features, labels, input_hooks \u001B[38;5;241m=\u001B[39m (\n\u001B[0;32m   1212\u001B[0m     \u001B[38;5;28mself\u001B[39m\u001B[38;5;241m.\u001B[39m_get_features_and_labels_from_input_fn(input_fn, ModeKeys\u001B[38;5;241m.\u001B[39mTRAIN))\n\u001B[0;32m   1213\u001B[0m worker_hooks\u001B[38;5;241m.\u001B[39mextend(input_hooks)\n\u001B[1;32m-> 1214\u001B[0m estimator_spec \u001B[38;5;241m=\u001B[39m \u001B[38;5;28;43mself\u001B[39;49m\u001B[38;5;241;43m.\u001B[39;49m\u001B[43m_call_model_fn\u001B[49m\u001B[43m(\u001B[49m\u001B[43mfeatures\u001B[49m\u001B[43m,\u001B[49m\u001B[43m \u001B[49m\u001B[43mlabels\u001B[49m\u001B[43m,\u001B[49m\u001B[43m \u001B[49m\u001B[43mModeKeys\u001B[49m\u001B[38;5;241;43m.\u001B[39;49m\u001B[43mTRAIN\u001B[49m\u001B[43m,\u001B[49m\n\u001B[0;32m   1215\u001B[0m \u001B[43m                                     \u001B[49m\u001B[38;5;28;43mself\u001B[39;49m\u001B[38;5;241;43m.\u001B[39;49m\u001B[43mconfig\u001B[49m\u001B[43m)\u001B[49m\n\u001B[0;32m   1216\u001B[0m global_step_tensor \u001B[38;5;241m=\u001B[39m tf\u001B[38;5;241m.\u001B[39mcompat\u001B[38;5;241m.\u001B[39mv1\u001B[38;5;241m.\u001B[39mtrain\u001B[38;5;241m.\u001B[39mget_global_step(g)\n\u001B[0;32m   1217\u001B[0m \u001B[38;5;28;01mreturn\u001B[39;00m \u001B[38;5;28mself\u001B[39m\u001B[38;5;241m.\u001B[39m_train_with_estimator_spec(estimator_spec, worker_hooks,\n\u001B[0;32m   1218\u001B[0m                                        hooks, global_step_tensor,\n\u001B[0;32m   1219\u001B[0m                                        saving_listeners)\n",
      "File \u001B[1;32m~\\AppData\\Roaming\\Python\\Python39\\site-packages\\tensorflow_estimator\\python\\estimator\\estimator.py:1174\u001B[0m, in \u001B[0;36mEstimator._call_model_fn\u001B[1;34m(self, features, labels, mode, config)\u001B[0m\n\u001B[0;32m   1171\u001B[0m   kwargs[\u001B[38;5;124m'\u001B[39m\u001B[38;5;124mconfig\u001B[39m\u001B[38;5;124m'\u001B[39m] \u001B[38;5;241m=\u001B[39m config\n\u001B[0;32m   1173\u001B[0m logging\u001B[38;5;241m.\u001B[39minfo(\u001B[38;5;124m'\u001B[39m\u001B[38;5;124mCalling model_fn.\u001B[39m\u001B[38;5;124m'\u001B[39m)\n\u001B[1;32m-> 1174\u001B[0m model_fn_results \u001B[38;5;241m=\u001B[39m \u001B[38;5;28mself\u001B[39m\u001B[38;5;241m.\u001B[39m_model_fn(features\u001B[38;5;241m=\u001B[39mfeatures, \u001B[38;5;241m*\u001B[39m\u001B[38;5;241m*\u001B[39mkwargs)\n\u001B[0;32m   1175\u001B[0m logging\u001B[38;5;241m.\u001B[39minfo(\u001B[38;5;124m'\u001B[39m\u001B[38;5;124mDone calling model_fn.\u001B[39m\u001B[38;5;124m'\u001B[39m)\n\u001B[0;32m   1177\u001B[0m \u001B[38;5;28;01mif\u001B[39;00m \u001B[38;5;129;01mnot\u001B[39;00m \u001B[38;5;28misinstance\u001B[39m(model_fn_results, model_fn_lib\u001B[38;5;241m.\u001B[39mEstimatorSpec):\n",
      "File \u001B[1;32m~\\AppData\\Roaming\\Python\\Python39\\site-packages\\tensorflow_estimator\\python\\estimator\\canned\\dnn.py:746\u001B[0m, in \u001B[0;36mDNNClassifierV2.__init__.<locals>._model_fn\u001B[1;34m(features, labels, mode, config)\u001B[0m\n\u001B[0;32m    744\u001B[0m \u001B[38;5;28;01mdef\u001B[39;00m \u001B[38;5;21m_model_fn\u001B[39m(features, labels, mode, config):\n\u001B[0;32m    745\u001B[0m   \u001B[38;5;124;03m\"\"\"Call the defined shared dnn_model_fn_v2.\"\"\"\u001B[39;00m\n\u001B[1;32m--> 746\u001B[0m   \u001B[38;5;28;01mreturn\u001B[39;00m \u001B[43mdnn_model_fn_v2\u001B[49m\u001B[43m(\u001B[49m\n\u001B[0;32m    747\u001B[0m \u001B[43m      \u001B[49m\u001B[43mfeatures\u001B[49m\u001B[38;5;241;43m=\u001B[39;49m\u001B[43mfeatures\u001B[49m\u001B[43m,\u001B[49m\n\u001B[0;32m    748\u001B[0m \u001B[43m      \u001B[49m\u001B[43mlabels\u001B[49m\u001B[38;5;241;43m=\u001B[39;49m\u001B[43mlabels\u001B[49m\u001B[43m,\u001B[49m\n\u001B[0;32m    749\u001B[0m \u001B[43m      \u001B[49m\u001B[43mmode\u001B[49m\u001B[38;5;241;43m=\u001B[39;49m\u001B[43mmode\u001B[49m\u001B[43m,\u001B[49m\n\u001B[0;32m    750\u001B[0m \u001B[43m      \u001B[49m\u001B[43mhead\u001B[49m\u001B[38;5;241;43m=\u001B[39;49m\u001B[43mhead\u001B[49m\u001B[43m,\u001B[49m\n\u001B[0;32m    751\u001B[0m \u001B[43m      \u001B[49m\u001B[43mhidden_units\u001B[49m\u001B[38;5;241;43m=\u001B[39;49m\u001B[43mhidden_units\u001B[49m\u001B[43m,\u001B[49m\n\u001B[0;32m    752\u001B[0m \u001B[43m      \u001B[49m\u001B[43mfeature_columns\u001B[49m\u001B[38;5;241;43m=\u001B[39;49m\u001B[38;5;28;43mtuple\u001B[39;49m\u001B[43m(\u001B[49m\u001B[43mfeature_columns\u001B[49m\u001B[43m \u001B[49m\u001B[38;5;129;43;01mor\u001B[39;49;00m\u001B[43m \u001B[49m\u001B[43m[\u001B[49m\u001B[43m]\u001B[49m\u001B[43m)\u001B[49m\u001B[43m,\u001B[49m\n\u001B[0;32m    753\u001B[0m \u001B[43m      \u001B[49m\u001B[43moptimizer\u001B[49m\u001B[38;5;241;43m=\u001B[39;49m\u001B[43moptimizer\u001B[49m\u001B[43m,\u001B[49m\n\u001B[0;32m    754\u001B[0m \u001B[43m      \u001B[49m\u001B[43mactivation_fn\u001B[49m\u001B[38;5;241;43m=\u001B[39;49m\u001B[43mactivation_fn\u001B[49m\u001B[43m,\u001B[49m\n\u001B[0;32m    755\u001B[0m \u001B[43m      \u001B[49m\u001B[43mdropout\u001B[49m\u001B[38;5;241;43m=\u001B[39;49m\u001B[43mdropout\u001B[49m\u001B[43m,\u001B[49m\n\u001B[0;32m    756\u001B[0m \u001B[43m      \u001B[49m\u001B[43mconfig\u001B[49m\u001B[38;5;241;43m=\u001B[39;49m\u001B[43mconfig\u001B[49m\u001B[43m,\u001B[49m\n\u001B[0;32m    757\u001B[0m \u001B[43m      \u001B[49m\u001B[43mbatch_norm\u001B[49m\u001B[38;5;241;43m=\u001B[39;49m\u001B[43mbatch_norm\u001B[49m\u001B[43m)\u001B[49m\n",
      "File \u001B[1;32m~\\AppData\\Roaming\\Python\\Python39\\site-packages\\tensorflow_estimator\\python\\estimator\\canned\\dnn.py:579\u001B[0m, in \u001B[0;36mdnn_model_fn_v2\u001B[1;34m(***failed resolving arguments***)\u001B[0m\n\u001B[0;32m    576\u001B[0m \u001B[38;5;28;01melse\u001B[39;00m:\n\u001B[0;32m    577\u001B[0m   estimator_spec_fn \u001B[38;5;241m=\u001B[39m head\u001B[38;5;241m.\u001B[39mcreate_estimator_spec  \u001B[38;5;66;03m# pylint: disable=protected-access\u001B[39;00m\n\u001B[1;32m--> 579\u001B[0m \u001B[38;5;28;01mreturn\u001B[39;00m \u001B[43mestimator_spec_fn\u001B[49m\u001B[43m(\u001B[49m\n\u001B[0;32m    580\u001B[0m \u001B[43m    \u001B[49m\u001B[43mfeatures\u001B[49m\u001B[38;5;241;43m=\u001B[39;49m\u001B[43mfeatures\u001B[49m\u001B[43m,\u001B[49m\n\u001B[0;32m    581\u001B[0m \u001B[43m    \u001B[49m\u001B[43mmode\u001B[49m\u001B[38;5;241;43m=\u001B[39;49m\u001B[43mmode\u001B[49m\u001B[43m,\u001B[49m\n\u001B[0;32m    582\u001B[0m \u001B[43m    \u001B[49m\u001B[43mlabels\u001B[49m\u001B[38;5;241;43m=\u001B[39;49m\u001B[43mlabels\u001B[49m\u001B[43m,\u001B[49m\n\u001B[0;32m    583\u001B[0m \u001B[43m    \u001B[49m\u001B[43moptimizer\u001B[49m\u001B[38;5;241;43m=\u001B[39;49m\u001B[43moptimizer\u001B[49m\u001B[43m,\u001B[49m\n\u001B[0;32m    584\u001B[0m \u001B[43m    \u001B[49m\u001B[43mlogits\u001B[49m\u001B[38;5;241;43m=\u001B[39;49m\u001B[43mlogits\u001B[49m\u001B[43m,\u001B[49m\n\u001B[0;32m    585\u001B[0m \u001B[43m    \u001B[49m\u001B[43mtrainable_variables\u001B[49m\u001B[38;5;241;43m=\u001B[39;49m\u001B[43mtrainable_variables\u001B[49m\u001B[43m,\u001B[49m\n\u001B[0;32m    586\u001B[0m \u001B[43m    \u001B[49m\u001B[43mupdate_ops\u001B[49m\u001B[38;5;241;43m=\u001B[39;49m\u001B[43mupdate_ops\u001B[49m\u001B[43m)\u001B[49m\n",
      "File \u001B[1;32m~\\AppData\\Roaming\\Python\\Python39\\site-packages\\tensorflow_estimator\\python\\estimator\\head\\base_head.py:278\u001B[0m, in \u001B[0;36mHead.create_estimator_spec\u001B[1;34m(self, features, mode, logits, labels, optimizer, trainable_variables, train_op_fn, update_ops, regularization_losses)\u001B[0m\n\u001B[0;32m    272\u001B[0m \u001B[38;5;66;03m# Not all subclasses of Head will have implemented\u001B[39;00m\n\u001B[0;32m    273\u001B[0m \u001B[38;5;66;03m# _create_tpu_estimator_spec. If it is implemented, we can convert it to\u001B[39;00m\n\u001B[0;32m    274\u001B[0m \u001B[38;5;66;03m# the normal `EstimatorSpec` by calling the method of\u001B[39;00m\n\u001B[0;32m    275\u001B[0m \u001B[38;5;66;03m# `_TPUEstimatorSpec.as_estimator_spec()`.\u001B[39;00m\n\u001B[0;32m    276\u001B[0m \u001B[38;5;28;01mtry\u001B[39;00m:\n\u001B[0;32m    277\u001B[0m   tpu_estimator_spec \u001B[38;5;241m=\u001B[39m (\n\u001B[1;32m--> 278\u001B[0m       \u001B[38;5;28;43mself\u001B[39;49m\u001B[38;5;241;43m.\u001B[39;49m\u001B[43m_create_tpu_estimator_spec\u001B[49m\u001B[43m(\u001B[49m\n\u001B[0;32m    279\u001B[0m \u001B[43m          \u001B[49m\u001B[43mfeatures\u001B[49m\u001B[38;5;241;43m=\u001B[39;49m\u001B[43mfeatures\u001B[49m\u001B[43m,\u001B[49m\n\u001B[0;32m    280\u001B[0m \u001B[43m          \u001B[49m\u001B[43mmode\u001B[49m\u001B[38;5;241;43m=\u001B[39;49m\u001B[43mmode\u001B[49m\u001B[43m,\u001B[49m\n\u001B[0;32m    281\u001B[0m \u001B[43m          \u001B[49m\u001B[43mlogits\u001B[49m\u001B[38;5;241;43m=\u001B[39;49m\u001B[43mlogits\u001B[49m\u001B[43m,\u001B[49m\n\u001B[0;32m    282\u001B[0m \u001B[43m          \u001B[49m\u001B[43mlabels\u001B[49m\u001B[38;5;241;43m=\u001B[39;49m\u001B[43mlabels\u001B[49m\u001B[43m,\u001B[49m\n\u001B[0;32m    283\u001B[0m \u001B[43m          \u001B[49m\u001B[43moptimizer\u001B[49m\u001B[38;5;241;43m=\u001B[39;49m\u001B[43moptimizer\u001B[49m\u001B[43m,\u001B[49m\n\u001B[0;32m    284\u001B[0m \u001B[43m          \u001B[49m\u001B[43mtrainable_variables\u001B[49m\u001B[38;5;241;43m=\u001B[39;49m\u001B[43mtrainable_variables\u001B[49m\u001B[43m,\u001B[49m\n\u001B[0;32m    285\u001B[0m \u001B[43m          \u001B[49m\u001B[43mtrain_op_fn\u001B[49m\u001B[38;5;241;43m=\u001B[39;49m\u001B[43mtrain_op_fn\u001B[49m\u001B[43m,\u001B[49m\n\u001B[0;32m    286\u001B[0m \u001B[43m          \u001B[49m\u001B[43mupdate_ops\u001B[49m\u001B[38;5;241;43m=\u001B[39;49m\u001B[43mupdate_ops\u001B[49m\u001B[43m,\u001B[49m\n\u001B[0;32m    287\u001B[0m \u001B[43m          \u001B[49m\u001B[43mregularization_losses\u001B[49m\u001B[38;5;241;43m=\u001B[39;49m\u001B[43mregularization_losses\u001B[49m\u001B[43m)\u001B[49m)\n\u001B[0;32m    288\u001B[0m   \u001B[38;5;28;01mreturn\u001B[39;00m tpu_estimator_spec\u001B[38;5;241m.\u001B[39mas_estimator_spec()\n\u001B[0;32m    289\u001B[0m \u001B[38;5;28;01mexcept\u001B[39;00m \u001B[38;5;167;01mNotImplementedError\u001B[39;00m:\n",
      "File \u001B[1;32m~\\AppData\\Roaming\\Python\\Python39\\site-packages\\tensorflow_estimator\\python\\estimator\\head\\multi_class_head.py:479\u001B[0m, in \u001B[0;36mMultiClassHead._create_tpu_estimator_spec\u001B[1;34m(self, features, mode, logits, labels, optimizer, trainable_variables, train_op_fn, update_ops, regularization_losses)\u001B[0m\n\u001B[0;32m    466\u001B[0m     \u001B[38;5;28;01mreturn\u001B[39;00m model_fn\u001B[38;5;241m.\u001B[39m_TPUEstimatorSpec(  \u001B[38;5;66;03m# pylint: disable=protected-access\u001B[39;00m\n\u001B[0;32m    467\u001B[0m         mode\u001B[38;5;241m=\u001B[39mModeKeys\u001B[38;5;241m.\u001B[39mEVAL,\n\u001B[0;32m    468\u001B[0m         predictions\u001B[38;5;241m=\u001B[39mpredictions,\n\u001B[1;32m   (...)\u001B[0m\n\u001B[0;32m    476\u001B[0m                 \u001B[38;5;124m'\u001B[39m\u001B[38;5;124mregularization_losses\u001B[39m\u001B[38;5;124m'\u001B[39m: regularization_losses\n\u001B[0;32m    477\u001B[0m             }))\n\u001B[0;32m    478\u001B[0m   \u001B[38;5;66;03m# Train.\u001B[39;00m\n\u001B[1;32m--> 479\u001B[0m   train_op \u001B[38;5;241m=\u001B[39m \u001B[43mbase_head\u001B[49m\u001B[38;5;241;43m.\u001B[39;49m\u001B[43mcreate_estimator_spec_train_op\u001B[49m\u001B[43m(\u001B[49m\n\u001B[0;32m    480\u001B[0m \u001B[43m      \u001B[49m\u001B[43mhead_name\u001B[49m\u001B[38;5;241;43m=\u001B[39;49m\u001B[38;5;28;43mself\u001B[39;49m\u001B[38;5;241;43m.\u001B[39;49m\u001B[43m_name\u001B[49m\u001B[43m,\u001B[49m\n\u001B[0;32m    481\u001B[0m \u001B[43m      \u001B[49m\u001B[43moptimizer\u001B[49m\u001B[38;5;241;43m=\u001B[39;49m\u001B[43moptimizer\u001B[49m\u001B[43m,\u001B[49m\n\u001B[0;32m    482\u001B[0m \u001B[43m      \u001B[49m\u001B[43mtrain_op_fn\u001B[49m\u001B[38;5;241;43m=\u001B[39;49m\u001B[43mtrain_op_fn\u001B[49m\u001B[43m,\u001B[49m\n\u001B[0;32m    483\u001B[0m \u001B[43m      \u001B[49m\u001B[43mupdate_ops\u001B[49m\u001B[38;5;241;43m=\u001B[39;49m\u001B[43mupdate_ops\u001B[49m\u001B[43m,\u001B[49m\n\u001B[0;32m    484\u001B[0m \u001B[43m      \u001B[49m\u001B[43mtrainable_variables\u001B[49m\u001B[38;5;241;43m=\u001B[39;49m\u001B[43mtrainable_variables\u001B[49m\u001B[43m,\u001B[49m\n\u001B[0;32m    485\u001B[0m \u001B[43m      \u001B[49m\u001B[43mregularized_training_loss\u001B[49m\u001B[38;5;241;43m=\u001B[39;49m\u001B[43mregularized_training_loss\u001B[49m\u001B[43m,\u001B[49m\n\u001B[0;32m    486\u001B[0m \u001B[43m      \u001B[49m\u001B[43mloss_reduction\u001B[49m\u001B[38;5;241;43m=\u001B[39;49m\u001B[38;5;28;43mself\u001B[39;49m\u001B[38;5;241;43m.\u001B[39;49m\u001B[43m_loss_reduction\u001B[49m\u001B[43m)\u001B[49m\n\u001B[0;32m    487\u001B[0m \u001B[38;5;66;03m# Create summary.\u001B[39;00m\n\u001B[0;32m    488\u001B[0m base_head\u001B[38;5;241m.\u001B[39mcreate_estimator_spec_summary(\n\u001B[0;32m    489\u001B[0m     regularized_training_loss\u001B[38;5;241m=\u001B[39mregularized_training_loss,\n\u001B[0;32m    490\u001B[0m     regularization_losses\u001B[38;5;241m=\u001B[39mregularization_losses,\n\u001B[0;32m    491\u001B[0m     summary_key_fn\u001B[38;5;241m=\u001B[39m\u001B[38;5;28mself\u001B[39m\u001B[38;5;241m.\u001B[39m_summary_key)\n",
      "File \u001B[1;32m~\\AppData\\Roaming\\Python\\Python39\\site-packages\\tensorflow_estimator\\python\\estimator\\head\\base_head.py:905\u001B[0m, in \u001B[0;36mcreate_estimator_spec_train_op\u001B[1;34m(***failed resolving arguments***)\u001B[0m\n\u001B[0;32m    903\u001B[0m     \u001B[38;5;28;01mif\u001B[39;00m num_replicas \u001B[38;5;241m>\u001B[39m \u001B[38;5;241m1\u001B[39m:\n\u001B[0;32m    904\u001B[0m       regularized_training_loss \u001B[38;5;241m*\u001B[39m\u001B[38;5;241m=\u001B[39m (\u001B[38;5;241m1.\u001B[39m \u001B[38;5;241m/\u001B[39m num_replicas)\n\u001B[1;32m--> 905\u001B[0m   train_op \u001B[38;5;241m=\u001B[39m \u001B[43moptimizer\u001B[49m\u001B[38;5;241;43m.\u001B[39;49m\u001B[43mget_updates\u001B[49m\u001B[43m(\u001B[49m\u001B[43mregularized_training_loss\u001B[49m\u001B[43m,\u001B[49m\n\u001B[0;32m    906\u001B[0m \u001B[43m                                   \u001B[49m\u001B[43mtrainable_variables\u001B[49m\u001B[43m)\u001B[49m[\u001B[38;5;241m0\u001B[39m]\n\u001B[0;32m    907\u001B[0m \u001B[38;5;28;01melif\u001B[39;00m train_op_fn \u001B[38;5;129;01mis\u001B[39;00m \u001B[38;5;129;01mnot\u001B[39;00m \u001B[38;5;28;01mNone\u001B[39;00m:\n\u001B[0;32m    908\u001B[0m   train_op \u001B[38;5;241m=\u001B[39m train_op_fn(regularized_training_loss)\n",
      "File \u001B[1;32m~\\anaconda3\\lib\\site-packages\\keras\\optimizer_v2\\optimizer_v2.py:775\u001B[0m, in \u001B[0;36mOptimizerV2.get_updates\u001B[1;34m(self, loss, params)\u001B[0m\n\u001B[0;32m    770\u001B[0m grads_and_vars \u001B[38;5;241m=\u001B[39m \u001B[38;5;28mlist\u001B[39m(\u001B[38;5;28mzip\u001B[39m(grads, params))\n\u001B[0;32m    771\u001B[0m \u001B[38;5;28mself\u001B[39m\u001B[38;5;241m.\u001B[39m_assert_valid_dtypes([\n\u001B[0;32m    772\u001B[0m     v \u001B[38;5;28;01mfor\u001B[39;00m g, v \u001B[38;5;129;01min\u001B[39;00m grads_and_vars\n\u001B[0;32m    773\u001B[0m     \u001B[38;5;28;01mif\u001B[39;00m g \u001B[38;5;129;01mis\u001B[39;00m \u001B[38;5;129;01mnot\u001B[39;00m \u001B[38;5;28;01mNone\u001B[39;00m \u001B[38;5;129;01mand\u001B[39;00m v\u001B[38;5;241m.\u001B[39mdtype \u001B[38;5;241m!=\u001B[39m tf\u001B[38;5;241m.\u001B[39mresource\n\u001B[0;32m    774\u001B[0m ])\n\u001B[1;32m--> 775\u001B[0m \u001B[38;5;28;01mreturn\u001B[39;00m [\u001B[38;5;28;43mself\u001B[39;49m\u001B[38;5;241;43m.\u001B[39;49m\u001B[43mapply_gradients\u001B[49m\u001B[43m(\u001B[49m\u001B[43mgrads_and_vars\u001B[49m\u001B[43m)\u001B[49m]\n",
      "File \u001B[1;32m~\\anaconda3\\lib\\site-packages\\keras\\optimizer_v2\\optimizer_v2.py:668\u001B[0m, in \u001B[0;36mOptimizerV2.apply_gradients\u001B[1;34m(self, grads_and_vars, name, experimental_aggregate_gradients)\u001B[0m\n\u001B[0;32m    666\u001B[0m \u001B[38;5;28;01mif\u001B[39;00m experimental_aggregate_gradients:\n\u001B[0;32m    667\u001B[0m   grads_and_vars \u001B[38;5;241m=\u001B[39m \u001B[38;5;28mself\u001B[39m\u001B[38;5;241m.\u001B[39m_transform_unaggregated_gradients(grads_and_vars)\n\u001B[1;32m--> 668\u001B[0m   grads_and_vars \u001B[38;5;241m=\u001B[39m \u001B[38;5;28;43mself\u001B[39;49m\u001B[38;5;241;43m.\u001B[39;49m\u001B[43m_aggregate_gradients\u001B[49m\u001B[43m(\u001B[49m\u001B[43mgrads_and_vars\u001B[49m\u001B[43m)\u001B[49m\n\u001B[0;32m    669\u001B[0m grads_and_vars \u001B[38;5;241m=\u001B[39m \u001B[38;5;28mself\u001B[39m\u001B[38;5;241m.\u001B[39m_transform_gradients(grads_and_vars)\n\u001B[0;32m    671\u001B[0m \u001B[38;5;28;01mreturn\u001B[39;00m tf\u001B[38;5;241m.\u001B[39m__internal__\u001B[38;5;241m.\u001B[39mdistribute\u001B[38;5;241m.\u001B[39minterim\u001B[38;5;241m.\u001B[39mmaybe_merge_call(\n\u001B[0;32m    672\u001B[0m     functools\u001B[38;5;241m.\u001B[39mpartial(\u001B[38;5;28mself\u001B[39m\u001B[38;5;241m.\u001B[39m_distributed_apply, apply_state\u001B[38;5;241m=\u001B[39mapply_state),\n\u001B[0;32m    673\u001B[0m     strategy,\n\u001B[0;32m    674\u001B[0m     grads_and_vars,\n\u001B[0;32m    675\u001B[0m     name\u001B[38;5;241m=\u001B[39mname)\n",
      "File \u001B[1;32m~\\anaconda3\\lib\\site-packages\\keras\\optimizer_v2\\optimizer_v2.py:484\u001B[0m, in \u001B[0;36mOptimizerV2._aggregate_gradients\u001B[1;34m(self, grads_and_vars)\u001B[0m\n\u001B[0;32m    471\u001B[0m \u001B[38;5;28;01mdef\u001B[39;00m \u001B[38;5;21m_aggregate_gradients\u001B[39m(\u001B[38;5;28mself\u001B[39m, grads_and_vars):\n\u001B[0;32m    472\u001B[0m   \u001B[38;5;124;03m\"\"\"Called in `apply_gradients` to aggregate gradients across devices.\u001B[39;00m\n\u001B[0;32m    473\u001B[0m \n\u001B[0;32m    474\u001B[0m \u001B[38;5;124;03m  Note that user subclasses may override this, so the interface should not be\u001B[39;00m\n\u001B[1;32m   (...)\u001B[0m\n\u001B[0;32m    482\u001B[0m \u001B[38;5;124;03m    `self.gradient_aggregator`.\u001B[39;00m\n\u001B[0;32m    483\u001B[0m \u001B[38;5;124;03m  \"\"\"\u001B[39;00m\n\u001B[1;32m--> 484\u001B[0m   \u001B[38;5;28;01mreturn\u001B[39;00m \u001B[38;5;28;43mself\u001B[39;49m\u001B[38;5;241;43m.\u001B[39;49m\u001B[43mgradient_aggregator\u001B[49m\u001B[43m(\u001B[49m\u001B[43mgrads_and_vars\u001B[49m\u001B[43m)\u001B[49m\n",
      "File \u001B[1;32m~\\anaconda3\\lib\\site-packages\\keras\\optimizer_v2\\utils.py:33\u001B[0m, in \u001B[0;36mall_reduce_sum_gradients\u001B[1;34m(grads_and_vars)\u001B[0m\n\u001B[0;32m     31\u001B[0m filtered_grads_and_vars \u001B[38;5;241m=\u001B[39m filter_empty_gradients(grads_and_vars)\n\u001B[0;32m     32\u001B[0m \u001B[38;5;28;01mif\u001B[39;00m filtered_grads_and_vars:\n\u001B[1;32m---> 33\u001B[0m   \u001B[38;5;28;01mif\u001B[39;00m \u001B[43mtf\u001B[49m\u001B[38;5;241;43m.\u001B[39;49m\u001B[43m__internal__\u001B[49m\u001B[38;5;241;43m.\u001B[39;49m\u001B[43mdistribute\u001B[49m\u001B[38;5;241;43m.\u001B[39;49m\u001B[43mstrategy_supports_no_merge_call\u001B[49m():\n\u001B[0;32m     34\u001B[0m     grads \u001B[38;5;241m=\u001B[39m [pair[\u001B[38;5;241m0\u001B[39m] \u001B[38;5;28;01mfor\u001B[39;00m pair \u001B[38;5;129;01min\u001B[39;00m filtered_grads_and_vars]\n\u001B[0;32m     35\u001B[0m     reduced \u001B[38;5;241m=\u001B[39m tf\u001B[38;5;241m.\u001B[39mdistribute\u001B[38;5;241m.\u001B[39mget_replica_context()\u001B[38;5;241m.\u001B[39mall_reduce(\n\u001B[0;32m     36\u001B[0m         tf\u001B[38;5;241m.\u001B[39mdistribute\u001B[38;5;241m.\u001B[39mReduceOp\u001B[38;5;241m.\u001B[39mSUM, grads)\n",
      "\u001B[1;31mAttributeError\u001B[0m: module 'tensorflow.compat.v2.__internal__.distribute' has no attribute 'strategy_supports_no_merge_call'"
     ]
    }
   ],
   "source": [
    "import tensorflow as tf\n",
    "import tensorflow_datasets as tfds\n",
    "import numpy as np\n",
    "\n",
    "BUFFER_SIZE = 10000\n",
    "BATCH_SIZE = 64\n",
    "NUM_EPOCHS = 20\n",
    "steps_per_epoch = np.ceil(60000 / BATCH_SIZE)\n",
    "\n",
    "def preprocess(item):\n",
    "    image = item['image']\n",
    "    label = item['label']\n",
    "    image = tf.image.convert_image_dtype(\n",
    "        image, tf.float32)\n",
    "    image = tf.reshape(image, (-1,))\n",
    "\n",
    "    return {'image-pixels':image}, label[..., tf.newaxis]\n",
    "\n",
    "#Step 1: Defining the input functions (one for training and one for evaluation)\n",
    "## Step 1: Define the input function for training\n",
    "def train_input_fn():\n",
    "    datasets = tfds.load(name='mnist')\n",
    "    mnist_train = datasets['train']\n",
    "\n",
    "    dataset = mnist_train.map(preprocess)\n",
    "    dataset = dataset.shuffle(BUFFER_SIZE)\n",
    "    dataset = dataset.batch(BATCH_SIZE)\n",
    "    return dataset.repeat()\n",
    "\n",
    "## define input-function for evaluation:\n",
    "def eval_input_fn():\n",
    "    datasets = tfds.load(name='mnist')\n",
    "    mnist_test = datasets['test']\n",
    "    dataset = mnist_test.map(preprocess).batch(BATCH_SIZE)\n",
    "    return dataset\n",
    "\n",
    "## Step 2: feature column\n",
    "image_feature_column = tf.feature_column.numeric_column(\n",
    "    key='image-pixels', shape=(28*28))\n",
    "\n",
    "## Step 3: instantiate the estimator\n",
    "dnn_classifier = tf.estimator.DNNClassifier(\n",
    "    feature_columns=[image_feature_column],\n",
    "    hidden_units=[32, 16],\n",
    "    n_classes=10,\n",
    "    model_dir='models/mnist-dnn/')\n",
    "\n",
    "## Step 4: train\n",
    "dnn_classifier.train(\n",
    "    input_fn=train_input_fn,\n",
    "    steps=NUM_EPOCHS * steps_per_epoch)"
   ],
   "metadata": {
    "collapsed": false,
    "pycharm": {
     "name": "#%%\n"
    }
   }
  },
  {
   "cell_type": "code",
   "execution_count": null,
   "outputs": [],
   "source": [],
   "metadata": {
    "collapsed": false,
    "pycharm": {
     "name": "#%%\n"
    }
   }
  }
 ],
 "metadata": {
  "interpreter": {
   "hash": "1870f1194fb5b3d43b6d32e845741389586dbe9c4e1e45e17e0f6602cfe22778"
  },
  "kernelspec": {
   "display_name": "Python 3.9.7 ('base')",
   "language": "python",
   "name": "python3"
  },
  "language_info": {
   "codemirror_mode": {
    "name": "ipython",
    "version": 3
   },
   "file_extension": ".py",
   "mimetype": "text/x-python",
   "name": "python",
   "nbconvert_exporter": "python",
   "pygments_lexer": "ipython3",
   "version": "3.9.7"
  },
  "orig_nbformat": 4
 },
 "nbformat": 4,
 "nbformat_minor": 2
}